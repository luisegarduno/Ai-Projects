{
 "cells": [
  {
   "cell_type": "markdown",
   "metadata": {},
   "source": [
    "# Intelligent Agents: Vacuum-cleaner World\n",
    "\n",
    "\n",
    "## Instructions\n",
    "\n",
    "Total Points: undergrad 10, graduate students 11\n",
    "\n",
    "Complete this notebook and submit it. The notebook needs to be a complete project report with \n",
    "\n",
    "* your implementation,\n",
    "* documentation including a short discussion of how your implementation works and your design choices, and\n",
    "* experimental results (e.g., tables and charts with simulation results) with a short discussion of what they mean. \n",
    "\n",
    "Use the provided notebook cells and insert additional code and markdown cells as needed.\n",
    "\n",
    "## Introduction\n",
    "\n",
    "In this assignment you will implement a simulator environment for an automatic vacuum cleaner robot, a set of different agent programs, and perform a comparison study for cleaning a single room. Focus on the __cleaning phase__ which starts when the robot is activated and ends when the last dirty square is cleaned. Someone else will take care of the agent program needed to navigate back to the charging station after the room is clean.\n",
    "\n",
    "## PEAS description of the cleaning phase\n",
    "\n",
    "__Performance Measure:__ Each action costs 1 energy unit. The performance is measured as the sum of the energy units used to clean the whole room.\n",
    "\n",
    "__Environment:__ A room with $n \\times n$ squares where $n = 5$. Dirt is randomly placed on each square with probability $p = 0.2$. For simplicity, you can assume that the agent knows the size and the layout of the room (i.e., it knows $n$). To starte, the agent is placed on a random square.\n",
    "\n",
    "__Actuators:__ The agent can `clean` the current square or move to an adjacent square by going `north`, `east`, `south`, or `west`.\n",
    "\n",
    "__Sensors:__ Four bumper sensors, one for north, east, south, and west; a dirt sensor reporting dirt in the current square.  \n",
    "\n",
    "\n",
    "## The agent program for a simple randomized agent\n",
    "\n",
    "The agent program is a function that gets sensor information (the current percepts) as the arguments. The arguments are:\n",
    "\n",
    "* A dictionary with boolean entries for the for bumper sensors `north`, `east`, `west`, `south`. E.g., if the agent is on the north-west corner, `bumpers` will be `{\"north\" : True, \"east\" : False, \"south\" : False, \"west\" : True}`.\n",
    "* The dirt sensor produces a boolean.\n",
    "\n",
    "The agent returns the chosen action as a string.\n",
    "\n",
    "Here is an example implementation for the agent program of a simple randomized agent:  "
   ]
  },
  {
   "cell_type": "code",
   "execution_count": 1,
   "metadata": {},
   "outputs": [],
   "source": [
    "from numpy import random\n",
    "\n",
    "actions = [\"north\", \"east\", \"west\", \"south\", \"suck\"]\n",
    "\n",
    "def simple_randomized_agent(bumpers, dirty):\n",
    "    return random.choice(actions)"
   ]
  },
  {
   "cell_type": "code",
   "execution_count": 2,
   "metadata": {},
   "outputs": [
    {
     "data": {
      "text/plain": [
       "'north'"
      ]
     },
     "execution_count": 2,
     "metadata": {},
     "output_type": "execute_result"
    }
   ],
   "source": [
    "# define percepts (current location is NW corner and it is dirty)\n",
    "bumpers = {\"north\" : True, \"east\" : False, \"south\" : False, \"west\" : True}\n",
    "dirty = True\n",
    "\n",
    "# call agent program function with percepts and it returns an action\n",
    "simple_randomized_agent(bumpers, dirty)"
   ]
  },
  {
   "cell_type": "markdown",
   "metadata": {},
   "source": [
    "__Note:__ This is not a rational intelligent agent. It ignores its sensors and may bump into a wall or not clean a dirty square. You will be asked to implement rational agents below."
   ]
  },
  {
   "cell_type": "markdown",
   "metadata": {},
   "source": [
    "## Simple environment example\n",
    "\n",
    "This simple environment is infinite in size (bumpers are always `False`) and every square is always dirty, even if the agent cleans it. The environment function returns the performance measure which is here the number of cleaned squares (since all squares are constantly dirty, it is the number of `suck` actions by the agent). "
   ]
  },
  {
   "cell_type": "code",
   "execution_count": 3,
   "metadata": {},
   "outputs": [],
   "source": [
    "def simple_environment(agent, max_steps, verbose = True):\n",
    "    num_cleaned = 0\n",
    "    \n",
    "    for i in range(max_steps):\n",
    "        dirty = True\n",
    "        bumpers = {\"north\" : False, \"south\" : False, \"west\" : False, \"east\" : False}\n",
    "\n",
    "        action = agent(bumpers, dirty)\n",
    "        if (verbose): print(\"step\", i , \"- action:\", action) \n",
    "        \n",
    "        if (action == \"suck\"): \n",
    "            num_cleaned = num_cleaned + 1\n",
    "        \n",
    "    return num_cleaned\n",
    "        \n"
   ]
  },
  {
   "cell_type": "markdown",
   "metadata": {},
   "source": [
    "Do one simulation run with 20 steps."
   ]
  },
  {
   "cell_type": "code",
   "execution_count": 4,
   "metadata": {},
   "outputs": [
    {
     "name": "stdout",
     "output_type": "stream",
     "text": [
      "step 0 - action: suck\n",
      "step 1 - action: south\n",
      "step 2 - action: north\n",
      "step 3 - action: east\n",
      "step 4 - action: west\n",
      "step 5 - action: south\n",
      "step 6 - action: west\n",
      "step 7 - action: east\n",
      "step 8 - action: north\n",
      "step 9 - action: suck\n",
      "step 10 - action: south\n",
      "step 11 - action: west\n",
      "step 12 - action: west\n",
      "step 13 - action: south\n",
      "step 14 - action: west\n",
      "step 15 - action: west\n",
      "step 16 - action: east\n",
      "step 17 - action: east\n",
      "step 18 - action: suck\n",
      "step 19 - action: suck\n"
     ]
    },
    {
     "data": {
      "text/plain": [
       "4"
      ]
     },
     "execution_count": 4,
     "metadata": {},
     "output_type": "execute_result"
    }
   ],
   "source": [
    "simple_environment(simple_randomized_agent, max_steps = 20)"
   ]
  },
  {
   "cell_type": "markdown",
   "metadata": {},
   "source": [
    "# Tasks\n",
    "\n",
    "_Submission Instructions:_ Use this notebook to prepare your submission. Complete this section with your code and results. You can add additional Markdown blocks for your description, comments in the code and use mathplotlib to produce charts. \n",
    "\n",
    "_Note:_ Try to keep the code simple! In this course, we want to learn about the algorithms and we often do not need to use object-oriented design. \n",
    "\n",
    "\n",
    "## Task 1: Implement a simulation environment [2 Points]\n",
    "\n",
    "The simple environment above is not very realistic. Your environment simulator needs to follow the PEAS description from above. It needs to:\n",
    "\n",
    "* Initialize the environment by storing the state of each square (clean/dirty) and making some dirty.\n",
    "* Keep track of the agent's position.\n",
    "* Call the agent function repeatedly and provide the agent function with the sensor inputs.  \n",
    "* React to the agent's actions. E.g, by removing dirt from a square or moving the agent around unless there is a wall in the way.\n",
    "* Keep track of the performance measure. That is, track the agent's actions until all dirty squares are clean and count the number of actions it takes the agent to complete the task.\n",
    "\n",
    "The easiest implementation for the environment is to hold an 2-dimensional array to represent if squares are clean or dirty and to call the agent function in a loop until all squares are clean or a predefined number of steps have been reached (i.e., the robot runs out of energy).\n",
    "\n",
    "The simulation environment needs to work with the simple randomized agent program from above and then it can be used for your agent implementation in the tasks below."
   ]
  },
  {
   "cell_type": "code",
   "execution_count": 5,
   "metadata": {},
   "outputs": [
    {
     "data": {
      "text/plain": [
       "array([[0, 0, 0, 0, 0],\n",
       "       [1, 0, 0, 0, 1],\n",
       "       [0, 0, 1, 0, 0],\n",
       "       [0, 0, 0, 0, 0],\n",
       "       [0, 0, 0, 0, 0]])"
      ]
     },
     "execution_count": 5,
     "metadata": {},
     "output_type": "execute_result"
    }
   ],
   "source": [
    "import numpy as np\n",
    "\n",
    "# Room Size (n x n)\n",
    "n = 5\n",
    "\n",
    "# Probability of dirt within each square \n",
    "p = 0.2\n",
    "\n",
    "# Initialize simulation environment (0 = Clean, 1 = Dirty)\n",
    "env = np.random.choice(a=[0,1], size=(n, n), p=[1-p, p])\n",
    "\n",
    "env"
   ]
  },
  {
   "cell_type": "code",
   "execution_count": 6,
   "metadata": {},
   "outputs": [],
   "source": [
    "def simulation_env(agent, max_steps, verbose = True):\n",
    "    num_cleaned = 0\n",
    "    \n",
    "    # Initialize agent in NW corner\n",
    "    x_axis, y_axis = 0,0\n",
    "    \n",
    "    # Total number of dirty squares\n",
    "    dirty_squares = np.count_nonzero(env == 1)\n",
    "    \n",
    "    for i in range(max_steps):\n",
    "        dirty = True if(env[x_axis][y_axis]) else False\n",
    "        n_bump, w_bump, e_bump, s_bump = False, False, False, False\n",
    "        \n",
    "        # Corner Boundaries\n",
    "        if x_axis == 0 and y_axis == 0: n_bump, w_bump = True, True\n",
    "        elif x_axis == 0 and y_axis == n - 1: n_bump, e_bump = True, True\n",
    "        elif x_axis == n - 1 and y_axis == 0: s_bump, w_bump = True, True\n",
    "        elif x_axis == n - 1 and y_axis == n - 1: s_bump, e_bump = True, True\n",
    "            \n",
    "        # Edge Boundaries\n",
    "        elif x_axis == 0: n_bump = True\n",
    "        elif x_axis == n - 1: s_bump = True\n",
    "        elif y_axis == 0: w_bump = True\n",
    "        elif y_axis == n - 1: e_bump = True\n",
    "        \n",
    "        bumpers = {\"north\" : n_bump, \"south\" : s_bump, \"west\" : w_bump, \"east\" : e_bump}\n",
    "        \n",
    "        action = agent(bumpers, dirty)\n",
    "        \n",
    "        loc = \"Moving! [\" + str(x_axis) + \",\" + str(y_axis) + \"]\"\n",
    "        x = x_axis\n",
    "        y = y_axis\n",
    "        if action == \"north\" and n_bump == False: x_axis -= 1\n",
    "        if action == \"west\"  and w_bump == False: y_axis -= 1\n",
    "        if action == \"east\"  and e_bump == False: y_axis += 1\n",
    "        if action == \"south\" and s_bump == False: x_axis += 1\n",
    "        if x != x_axis or y_axis != y: loc += \" --> [\" + str(x_axis) + \",\" + str(y_axis) + \"]\"\n",
    "        else: loc = \"Wall is in the way!\"\n",
    "        \n",
    "        if (verbose and action != \"suck\"): print(\"step\", i , \"- action:\", action, \"  \\t\", loc) \n",
    "        \n",
    "        if (action == \"suck\"):\n",
    "            if dirty != False:\n",
    "                print(\"step\", i , \"- action:\", action, \"  \\t ---> Cleaning! \" + str(dirty_squares - 1) + \" dirty squares remaining\")\n",
    "                num_cleaned = num_cleaned + 1\n",
    "                env[x_axis][y_axis] = 0\n",
    "                dirty_squares -= 1\n",
    "                if dirty_squares == 0:\n",
    "                    print(\"CLEANING COMPLETE!\")\n",
    "                    return num_cleaned\n",
    "            else: print(\"step\", i , \"- action:\", action, \"  \\t\", \"Already Clean!\")\n",
    "        \n",
    "    return num_cleaned"
   ]
  },
  {
   "cell_type": "code",
   "execution_count": 7,
   "metadata": {},
   "outputs": [
    {
     "name": "stdout",
     "output_type": "stream",
     "text": [
      "step 0 - action: west   \t Wall is in the way!\n",
      "step 1 - action: north   \t Wall is in the way!\n",
      "step 2 - action: east   \t Moving! [0,0] --> [0,1]\n",
      "step 3 - action: suck   \t Already Clean!\n",
      "step 4 - action: north   \t Wall is in the way!\n",
      "step 5 - action: west   \t Moving! [0,1] --> [0,0]\n",
      "step 6 - action: east   \t Moving! [0,0] --> [0,1]\n",
      "step 7 - action: west   \t Moving! [0,1] --> [0,0]\n",
      "step 8 - action: suck   \t Already Clean!\n",
      "step 9 - action: west   \t Wall is in the way!\n",
      "step 10 - action: suck   \t Already Clean!\n",
      "step 11 - action: east   \t Moving! [0,0] --> [0,1]\n",
      "step 12 - action: south   \t Moving! [0,1] --> [1,1]\n",
      "step 13 - action: west   \t Moving! [1,1] --> [1,0]\n",
      "step 14 - action: west   \t Wall is in the way!\n",
      "step 15 - action: south   \t Moving! [1,0] --> [2,0]\n",
      "step 16 - action: east   \t Moving! [2,0] --> [2,1]\n",
      "step 17 - action: west   \t Moving! [2,1] --> [2,0]\n",
      "step 18 - action: south   \t Moving! [2,0] --> [3,0]\n",
      "step 19 - action: north   \t Moving! [3,0] --> [2,0]\n",
      "step 20 - action: suck   \t Already Clean!\n",
      "step 21 - action: suck   \t Already Clean!\n",
      "step 22 - action: east   \t Moving! [2,0] --> [2,1]\n",
      "step 23 - action: east   \t Moving! [2,1] --> [2,2]\n",
      "step 24 - action: north   \t Moving! [2,2] --> [1,2]\n",
      "step 25 - action: south   \t Moving! [1,2] --> [2,2]\n",
      "step 26 - action: south   \t Moving! [2,2] --> [3,2]\n",
      "step 27 - action: east   \t Moving! [3,2] --> [3,3]\n",
      "step 28 - action: east   \t Moving! [3,3] --> [3,4]\n",
      "step 29 - action: west   \t Moving! [3,4] --> [3,3]\n",
      "step 30 - action: west   \t Moving! [3,3] --> [3,2]\n",
      "step 31 - action: south   \t Moving! [3,2] --> [4,2]\n",
      "step 32 - action: east   \t Moving! [4,2] --> [4,3]\n",
      "step 33 - action: east   \t Moving! [4,3] --> [4,4]\n",
      "step 34 - action: south   \t Wall is in the way!\n",
      "step 35 - action: west   \t Moving! [4,4] --> [4,3]\n",
      "step 36 - action: north   \t Moving! [4,3] --> [3,3]\n",
      "step 37 - action: north   \t Moving! [3,3] --> [2,3]\n",
      "step 38 - action: suck   \t Already Clean!\n",
      "step 39 - action: north   \t Moving! [2,3] --> [1,3]\n",
      "step 40 - action: south   \t Moving! [1,3] --> [2,3]\n",
      "step 41 - action: east   \t Moving! [2,3] --> [2,4]\n",
      "step 42 - action: west   \t Moving! [2,4] --> [2,3]\n",
      "step 43 - action: south   \t Moving! [2,3] --> [3,3]\n",
      "step 44 - action: north   \t Moving! [3,3] --> [2,3]\n",
      "step 45 - action: south   \t Moving! [2,3] --> [3,3]\n",
      "step 46 - action: east   \t Moving! [3,3] --> [3,4]\n",
      "step 47 - action: suck   \t Already Clean!\n",
      "step 48 - action: west   \t Moving! [3,4] --> [3,3]\n",
      "step 49 - action: east   \t Moving! [3,3] --> [3,4]\n",
      "step 50 - action: north   \t Moving! [3,4] --> [2,4]\n",
      "step 51 - action: east   \t Wall is in the way!\n",
      "step 52 - action: suck   \t Already Clean!\n",
      "step 53 - action: north   \t Moving! [2,4] --> [1,4]\n",
      "step 54 - action: suck   \t ---> Cleaning! 2 dirty squares remaining\n",
      "step 55 - action: south   \t Moving! [1,4] --> [2,4]\n",
      "step 56 - action: east   \t Wall is in the way!\n",
      "step 57 - action: south   \t Moving! [2,4] --> [3,4]\n",
      "step 58 - action: west   \t Moving! [3,4] --> [3,3]\n",
      "step 59 - action: suck   \t Already Clean!\n",
      "step 60 - action: south   \t Moving! [3,3] --> [4,3]\n",
      "step 61 - action: south   \t Wall is in the way!\n",
      "step 62 - action: south   \t Wall is in the way!\n",
      "step 63 - action: suck   \t Already Clean!\n",
      "step 64 - action: north   \t Moving! [4,3] --> [3,3]\n",
      "step 65 - action: east   \t Moving! [3,3] --> [3,4]\n",
      "step 66 - action: west   \t Moving! [3,4] --> [3,3]\n",
      "step 67 - action: north   \t Moving! [3,3] --> [2,3]\n",
      "step 68 - action: suck   \t Already Clean!\n",
      "step 69 - action: suck   \t Already Clean!\n",
      "step 70 - action: south   \t Moving! [2,3] --> [3,3]\n",
      "step 71 - action: north   \t Moving! [3,3] --> [2,3]\n",
      "step 72 - action: west   \t Moving! [2,3] --> [2,2]\n",
      "step 73 - action: east   \t Moving! [2,2] --> [2,3]\n",
      "step 74 - action: suck   \t Already Clean!\n",
      "step 75 - action: south   \t Moving! [2,3] --> [3,3]\n",
      "step 76 - action: south   \t Moving! [3,3] --> [4,3]\n",
      "step 77 - action: suck   \t Already Clean!\n",
      "step 78 - action: south   \t Wall is in the way!\n",
      "step 79 - action: suck   \t Already Clean!\n",
      "step 80 - action: suck   \t Already Clean!\n",
      "step 81 - action: suck   \t Already Clean!\n",
      "step 82 - action: east   \t Moving! [4,3] --> [4,4]\n",
      "step 83 - action: west   \t Moving! [4,4] --> [4,3]\n",
      "step 84 - action: north   \t Moving! [4,3] --> [3,3]\n",
      "step 85 - action: south   \t Moving! [3,3] --> [4,3]\n",
      "step 86 - action: east   \t Moving! [4,3] --> [4,4]\n",
      "step 87 - action: east   \t Wall is in the way!\n",
      "step 88 - action: west   \t Moving! [4,4] --> [4,3]\n",
      "step 89 - action: west   \t Moving! [4,3] --> [4,2]\n",
      "step 90 - action: north   \t Moving! [4,2] --> [3,2]\n",
      "step 91 - action: east   \t Moving! [3,2] --> [3,3]\n",
      "step 92 - action: east   \t Moving! [3,3] --> [3,4]\n",
      "step 93 - action: suck   \t Already Clean!\n",
      "step 94 - action: east   \t Wall is in the way!\n",
      "step 95 - action: west   \t Moving! [3,4] --> [3,3]\n",
      "step 96 - action: south   \t Moving! [3,3] --> [4,3]\n",
      "step 97 - action: suck   \t Already Clean!\n",
      "step 98 - action: suck   \t Already Clean!\n",
      "step 99 - action: south   \t Wall is in the way!\n"
     ]
    },
    {
     "data": {
      "text/plain": [
       "1"
      ]
     },
     "execution_count": 7,
     "metadata": {},
     "output_type": "execute_result"
    }
   ],
   "source": [
    "simulation_env(simple_randomized_agent, max_steps=100)"
   ]
  },
  {
   "cell_type": "code",
   "execution_count": 8,
   "metadata": {},
   "outputs": [
    {
     "name": "stdout",
     "output_type": "stream",
     "text": [
      "Clean @[3,3]\n"
     ]
    }
   ],
   "source": [
    "# Initialize agent in random square\n",
    "x_axis, y_axis = random.randint(0,5),random.randint(0,5)\n",
    "loc = \" @[\" + str(x_axis) + \",\" + str(y_axis) + \"]\"\n",
    "\n",
    "# n_wall = env[0]         # North Bounds\n",
    "# w_wall = env[:,0]       # West Bounds\n",
    "# e_wall = env[:,4]       # East Bounds\n",
    "# s_wall = env[4]         # South Bounds\n",
    "\n",
    "# Check whether initial location is dirty or clean\n",
    "dirty = True if (env[x_axis][y_axis]) else False\n",
    "print(\"Dirty\" + loc if dirty else \"Clean\" + loc)"
   ]
  },
  {
   "cell_type": "markdown",
   "metadata": {},
   "source": [
    "## Task 2:  Implement a simple reflex agent [1 Point] \n",
    "\n",
    "The simple reflex agent randomly walks around but reacts to the bumper sensor by not bumping into the wall and to dirt with sucking. Implement the agent program as a function.\n",
    "\n",
    "_Note:_ The agent cannot directly use variable in the environment. It only gets the percepts as the arguments to the agent program function."
   ]
  },
  {
   "cell_type": "code",
   "execution_count": 22,
   "metadata": {},
   "outputs": [],
   "source": [
    "# Your code and description goes here\n",
    "\n",
    "def reflex_agent(agent, max_steps, verbose = True):\n",
    "    num_cleaned = 0\n",
    "    \n",
    "    # Initialize agent in NW corner\n",
    "    x_axis, y_axis = 0,0\n",
    "    \n",
    "    # Total number of dirty squares\n",
    "    dirty_squares = np.count_nonzero(env == 1)\n",
    "    \n",
    "    for i in range(max_steps):\n",
    "        dirty = True if(env[x_axis][y_axis]) else False\n",
    "        n_bump, w_bump, e_bump, s_bump = False, False, False, False\n",
    "        \n",
    "        # Corner Boundaries\n",
    "        if x_axis == 0 and y_axis == 0: n_bump, w_bump = True, True\n",
    "        elif x_axis == 0 and y_axis == n - 1: n_bump, e_bump = True, True\n",
    "        elif x_axis == n - 1 and y_axis == 0: s_bump, w_bump = True, True\n",
    "        elif x_axis == n - 1 and y_axis == n - 1: s_bump, e_bump = True, True\n",
    "            \n",
    "        # Edge Boundaries\n",
    "        elif x_axis == 0: n_bump = True\n",
    "        elif x_axis == n - 1: s_bump = True\n",
    "        elif y_axis == 0: w_bump = True\n",
    "        elif y_axis == n - 1: e_bump = True\n",
    "        \n",
    "        bumpers = {\"north\" : n_bump, \"south\" : s_bump, \"west\" : w_bump, \"east\" : e_bump}\n",
    "        \n",
    "        action = True\n",
    "        flag = True\n",
    "        while(flag):\n",
    "            action = agent(bumpers, dirty)\n",
    "            if action == \"suck\": continue\n",
    "            if bumpers[action] != True:\n",
    "                flag = False\n",
    "        \n",
    "        output = \"Moving! [\" + str(x_axis) + \",\" + str(y_axis) + \"]\"\n",
    "        x = x_axis\n",
    "        y = y_axis\n",
    "        if action == \"north\" and n_bump == False: x_axis -= 1\n",
    "        if action == \"west\"  and w_bump == False: y_axis -= 1\n",
    "        if action == \"east\"  and e_bump == False: y_axis += 1\n",
    "        if action == \"south\" and s_bump == False: x_axis += 1\n",
    "        if x != x_axis or y_axis != y:\n",
    "            output += \" --> [\" + str(x_axis) + \",\" + str(y_axis) + \"]\"\n",
    "            if dirty != False:\n",
    "                output += \" ---> Square is dirty. Cleaning! \" + str(dirty_squares - 1) + \" dirty squares remaining!\"\n",
    "                num_cleaned = num_cleaned + 1\n",
    "                env[x_axis][y_axis] = 0\n",
    "                dirty_squares -= 1\n",
    "                if dirty_squares == 0:\n",
    "                    print(\"CLEANING COMPLETE!\")\n",
    "                    return num_cleaned\n",
    "        \n",
    "                \n",
    "        #elif x == x_axis or y_axis == y: continue\n",
    "        #else: continue #loc = \"Wall is in the way!\"\n",
    "        \n",
    "        if (verbose): print(\"step\", i , \"- action:\", action, \"  \\t\", output) \n",
    "        \n",
    "        # if (action == \"suck\"):\n",
    "        #     if dirty != False:\n",
    "        #         print(\"step\", i , \"- action:\", action, \"  \\t ---> Cleaning! \" + str(dirty_squares - 1) + \" dirty squares remaining\")\n",
    "        #         num_cleaned = num_cleaned + 1\n",
    "        #         env[x_axis][y_axis] = 0\n",
    "        #         dirty_squares -= 1\n",
    "        #         if dirty_squares == 0:\n",
    "        #             print(\"CLEANING COMPLETE!\")\n",
    "        #             return num_cleaned\n",
    "        #     else: print(\"step\", i , \"- action:\", action, \"  \\t\", \"Already Clean!\")\n",
    "        \n",
    "    return num_cleaned"
   ]
  },
  {
   "cell_type": "code",
   "execution_count": 23,
   "metadata": {},
   "outputs": [
    {
     "name": "stdout",
     "output_type": "stream",
     "text": [
      "step 0 - action: east   \t Moving! [0,0] --> [0,1]\n",
      "step 1 - action: south   \t Moving! [0,1] --> [1,1]\n",
      "step 2 - action: west   \t Moving! [1,1] --> [1,0]\n",
      "step 3 - action: north   \t Moving! [1,0] --> [0,0] ---> Square is dirty. Cleaning! 1 dirty squares remaining!\n",
      "step 4 - action: south   \t Moving! [0,0] --> [1,0]\n",
      "CLEANING COMPLETE!\n"
     ]
    },
    {
     "data": {
      "text/plain": [
       "2"
      ]
     },
     "execution_count": 23,
     "metadata": {},
     "output_type": "execute_result"
    }
   ],
   "source": [
    "reflex_agent(simple_randomized_agent, max_steps=100)"
   ]
  },
  {
   "cell_type": "markdown",
   "metadata": {},
   "source": [
    "## Task 3: Implement a model-based reflex agent [3 Point]\n",
    "\n",
    "This agent keeps track of the location and remembers where it has cleaned. Assume the agent knows how many squares the room has. It can move to a corner to determine its location and then is able to use more advanced navigation.\n",
    "\n",
    "Describe how you define the __agent state__ and how your agent works before implementing it. _Note on implementing the state in Python:_ [Examples](https://github.com/mhahsler/CS7320-AI/blob/master/Python%20Code%20Examples/store_agent_state_information.ipynb)"
   ]
  },
  {
   "cell_type": "code",
   "execution_count": 11,
   "metadata": {},
   "outputs": [],
   "source": [
    "# Your short description of the state and your implementation goes here"
   ]
  },
  {
   "cell_type": "code",
   "execution_count": 12,
   "metadata": {},
   "outputs": [],
   "source": [
    "# Your code goes here"
   ]
  },
  {
   "cell_type": "markdown",
   "metadata": {},
   "source": [
    "## Task 4: Simulation study [3 Points]\n",
    "\n",
    "Compare the performance (the performance measure is defined in the PEAS description above) of the agents using  environments of different size. E.g., $5 \\times 5$, $10 \\times 10$ and\n",
    "$100 \\times 100$. Use at least 100 random runs for each. Present the results in a suitable format (tables, graphs) and discuss the differences. Here is some help with [charts and tables.](https://github.com/mhahsler/CS7320-AI/blob/master/Python%20Code%20Examples/charts_and_tables.ipynb)"
   ]
  },
  {
   "cell_type": "code",
   "execution_count": 13,
   "metadata": {},
   "outputs": [],
   "source": [
    "# Your code goes here"
   ]
  },
  {
   "cell_type": "code",
   "execution_count": 14,
   "metadata": {},
   "outputs": [],
   "source": [
    "# Your discussion of the results goes here"
   ]
  },
  {
   "cell_type": "markdown",
   "metadata": {},
   "source": [
    "## Task 5: Robustness of the agent implementations [1 Point] \n",
    "\n",
    "Describe how your agent implementations will perform \n",
    "\n",
    "* if it is put into a rectangular room with unknown size, \n",
    "* if the cleaning area can have an iregular shape (e.g., a hallway connecting two rooms), or \n",
    "* if the room contains obstacles (i.e., squares that it cannot pass through and trigger the bumper sensors)."
   ]
  },
  {
   "cell_type": "code",
   "execution_count": 15,
   "metadata": {},
   "outputs": [],
   "source": [
    "# Answer goes here"
   ]
  },
  {
   "cell_type": "markdown",
   "metadata": {},
   "source": [
    "## Graduate student advanced task: Obstacles [1 Point]\n",
    "\n",
    "__Undergraduate students:__ This is a bonus task you can attempt if you like [+1 Bonus point].\n",
    "\n",
    "1. Change your simulation environment tor run experiments for the following problem: Add random obstacle squares that also trigger the bumper sensor. The agent does not know where the obstacles are. Observe how this changes the performance of the three implementations.\n",
    "\n",
    "2. Describe what would need to be done to perform better with obstacles. Add code if you can. "
   ]
  },
  {
   "cell_type": "code",
   "execution_count": 16,
   "metadata": {},
   "outputs": [],
   "source": [
    "# Your code and discussion goes here"
   ]
  },
  {
   "cell_type": "markdown",
   "metadata": {},
   "source": [
    "## More advanced tasks to think about\n",
    "\n",
    "You can think about these:\n",
    "\n",
    "* __Unknown environment with obstacles:__ Implement an agent for an environment where the agent does not know how large the environment is (we assume it is rectangular), where it starts or where the obstacles are. An option would be to always move to the closest unchecked/uncleaned square.\n",
    "\n",
    "* __Utility-based agent:__ Change the environment, so each square has a fixed probability of getting dirty again. We assume the agent has learned this information over time. For the implementation, we give this information to the agent as a 2-dimensional array of probabilities  Cleaning one dirty square produces a utility of 1. Implement a utility-based agent that maximizes the expected utility over one full charge which lasts for 10000 time steps. This is very tricky!"
   ]
  }
 ],
 "metadata": {
  "kernelspec": {
   "display_name": "Python 3",
   "language": "python",
   "name": "python3"
  },
  "language_info": {
   "codemirror_mode": {
    "name": "ipython",
    "version": 3
   },
   "file_extension": ".py",
   "mimetype": "text/x-python",
   "name": "python",
   "nbconvert_exporter": "python",
   "pygments_lexer": "ipython3",
   "version": "3.7.7"
  }
 },
 "nbformat": 4,
 "nbformat_minor": 4
}
