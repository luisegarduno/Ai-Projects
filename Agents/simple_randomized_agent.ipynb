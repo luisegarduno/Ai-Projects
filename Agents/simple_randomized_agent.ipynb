{
 "cells": [
  {
   "cell_type": "markdown",
   "metadata": {},
   "source": [
    "# Intelligent Agents: Vacuum-cleaner World\n",
    "\n",
    "\n",
    "## Instructions\n",
    "\n",
    "Total Points: undergrad 10, graduate students 11\n",
    "\n",
    "Complete this notebook and submit it. The notebook needs to be a complete project report with \n",
    "\n",
    "* your implementation,\n",
    "* documentation including a short discussion of how your implementation works and your design choices, and\n",
    "* experimental results (e.g., tables and charts with simulation results) with a short discussion of what they mean. \n",
    "\n",
    "Use the provided notebook cells and insert additional code and markdown cells as needed.\n",
    "\n",
    "## Introduction\n",
    "\n",
    "In this assignment you will implement a simulator environment for an automatic vacuum cleaner robot, a set of different agent programs, and perform a comparison study for cleaning a single room. Focus on the __cleaning phase__ which starts when the robot is activated and ends when the last dirty square is cleaned. Someone else will take care of the agent program needed to navigate back to the charging station after the room is clean.\n",
    "\n",
    "## PEAS description of the cleaning phase\n",
    "\n",
    "__Performance Measure:__ Each action costs 1 energy unit. The performance is measured as the sum of the energy units used to clean the whole room.\n",
    "\n",
    "__Environment:__ A room with $n \\times n$ squares where $n = 5$. Dirt is randomly placed on each square with probability $p = 0.2$. For simplicity, you can assume that the agent knows the size and the layout of the room (i.e., it knows $n$). To starte, the agent is placed on a random square.\n",
    "\n",
    "__Actuators:__ The agent can `clean` the current square or move to an adjacent square by going `north`, `east`, `south`, or `west`.\n",
    "\n",
    "__Sensors:__ Four bumper sensors, one for north, east, south, and west; a dirt sensor reporting dirt in the current square.  \n",
    "\n",
    "\n",
    "## The agent program for a simple randomized agent\n",
    "\n",
    "The agent program is a function that gets sensor information (the current percepts) as the arguments. The arguments are:\n",
    "\n",
    "* A dictionary with boolean entries for the for bumper sensors `north`, `east`, `west`, `south`. E.g., if the agent is on the north-west corner, `bumpers` will be `{\"north\" : True, \"east\" : False, \"south\" : False, \"west\" : True}`.\n",
    "* The dirt sensor produces a boolean.\n",
    "\n",
    "The agent returns the chosen action as a string.\n",
    "\n",
    "Here is an example implementation for the agent program of a simple randomized agent:  "
   ]
  },
  {
   "cell_type": "code",
   "execution_count": 1,
   "metadata": {},
   "outputs": [],
   "source": [
    "from numpy import random\n",
    "\n",
    "actions = [\"north\", \"east\", \"west\", \"south\", \"suck\"]\n",
    "\n",
    "def simple_randomized_agent(bumpers, dirty):\n",
    "    return random.choice(actions)"
   ]
  },
  {
   "cell_type": "code",
   "execution_count": 2,
   "metadata": {},
   "outputs": [
    {
     "data": {
      "text/plain": [
       "'west'"
      ]
     },
     "execution_count": 2,
     "metadata": {},
     "output_type": "execute_result"
    }
   ],
   "source": [
    "# define percepts (current location is NW corner and it is dirty)\n",
    "bumpers = {\"north\" : True, \"east\" : False, \"south\" : False, \"west\" : True}\n",
    "dirty = True\n",
    "\n",
    "# call agent program function with percepts and it returns an action\n",
    "simple_randomized_agent(bumpers, dirty)"
   ]
  },
  {
   "cell_type": "markdown",
   "metadata": {},
   "source": [
    "__Note:__ This is not a rational intelligent agent. It ignores its sensors and may bump into a wall or not clean a dirty square. You will be asked to implement rational agents below."
   ]
  },
  {
   "cell_type": "markdown",
   "metadata": {},
   "source": [
    "## Simple environment example\n",
    "\n",
    "This simple environment is infinite in size (bumpers are always `False`) and every square is always dirty, even if the agent cleans it. The environment function returns the performance measure which is here the number of cleaned squares (since all squares are constantly dirty, it is the number of `suck` actions by the agent). "
   ]
  },
  {
   "cell_type": "code",
   "execution_count": 3,
   "metadata": {},
   "outputs": [],
   "source": [
    "def simple_environment(agent, max_steps, verbose = True):\n",
    "    num_cleaned = 0\n",
    "    \n",
    "    for i in range(max_steps):\n",
    "        dirty = True\n",
    "        bumpers = {\"north\" : False, \"south\" : False, \"west\" : False, \"east\" : False}\n",
    "\n",
    "        action = agent(bumpers, dirty)\n",
    "        if (verbose): print(\"step\", i , \"- action:\", action) \n",
    "        \n",
    "        if (action == \"suck\"): \n",
    "            num_cleaned = num_cleaned + 1\n",
    "        \n",
    "    return num_cleaned\n",
    "        \n"
   ]
  },
  {
   "cell_type": "markdown",
   "metadata": {},
   "source": [
    "Do one simulation run with 20 steps."
   ]
  },
  {
   "cell_type": "code",
   "execution_count": 4,
   "metadata": {},
   "outputs": [
    {
     "name": "stdout",
     "output_type": "stream",
     "text": [
      "step 0 - action: north\n",
      "step 1 - action: suck\n",
      "step 2 - action: west\n",
      "step 3 - action: east\n",
      "step 4 - action: north\n",
      "step 5 - action: east\n",
      "step 6 - action: north\n",
      "step 7 - action: east\n",
      "step 8 - action: south\n",
      "step 9 - action: west\n",
      "step 10 - action: west\n",
      "step 11 - action: suck\n",
      "step 12 - action: south\n",
      "step 13 - action: north\n",
      "step 14 - action: south\n",
      "step 15 - action: south\n",
      "step 16 - action: east\n",
      "step 17 - action: south\n",
      "step 18 - action: west\n",
      "step 19 - action: west\n"
     ]
    },
    {
     "data": {
      "text/plain": [
       "2"
      ]
     },
     "execution_count": 4,
     "metadata": {},
     "output_type": "execute_result"
    }
   ],
   "source": [
    "simple_environment(simple_randomized_agent, max_steps = 20)"
   ]
  },
  {
   "cell_type": "markdown",
   "metadata": {},
   "source": [
    "# Tasks\n",
    "\n",
    "_Submission Instructions:_ Use this notebook to prepare your submission. Complete this section with your code and results. You can add additional Markdown blocks for your description, comments in the code and use mathplotlib to produce charts. \n",
    "\n",
    "_Note:_ Try to keep the code simple! In this course, we want to learn about the algorithms and we often do not need to use object-oriented design. \n",
    "\n",
    "\n",
    "## Task 1: Implement a simulation environment [2 Points]\n",
    "\n",
    "The simple environment above is not very realistic. Your environment simulator needs to follow the PEAS description from above. It needs to:\n",
    "\n",
    "* Initialize the environment by storing the state of each square (clean/dirty) and making some dirty.\n",
    "* Keep track of the agent's position.\n",
    "* Call the agent function repeatedly and provide the agent function with the sensor inputs.  \n",
    "* React to the agent's actions. E.g, by removing dirt from a square or moving the agent around unless there is a wall in the way.\n",
    "* Keep track of the performance measure. That is, track the agent's actions until all dirty squares are clean and count the number of actions it takes the agent to complete the task.\n",
    "\n",
    "The easiest implementation for the environment is to hold an 2-dimensional array to represent if squares are clean or dirty and to call the agent function in a loop until all squares are clean or a predefined number of steps have been reached (i.e., the robot runs out of energy).\n",
    "\n",
    "The simulation environment needs to work with the simple randomized agent program from above and then it can be used for your agent implementation in the tasks below."
   ]
  },
  {
   "cell_type": "code",
   "execution_count": 5,
   "metadata": {},
   "outputs": [],
   "source": [
    "import numpy as np\n",
    "\n",
    "# Note : n = Room Size (n x n) | p = Probability of dirt within each square\n",
    "def new_env(n,p):\n",
    "    \n",
    "    # Initialize simulation environment (0 = Clean, 1 = Dirty)\n",
    "    environment = np.random.choice(a=[0,1], size=(n, n), p=[1-p, p])\n",
    "    \n",
    "    return environment"
   ]
  },
  {
   "cell_type": "code",
   "execution_count": 6,
   "metadata": {},
   "outputs": [],
   "source": [
    "def simulation_env(agent, max_steps, env, verbose=True):\n",
    "    num_cleaned = 0\n",
    "    \n",
    "    # Initialize agent in NW corner\n",
    "    x_axis, y_axis = 0,0\n",
    "    \n",
    "    # Total number of dirty squares\n",
    "    dirty_squares = np.count_nonzero(env == 1)\n",
    "    \n",
    "    num_rows, num_cols = env.shape\n",
    "    n = num_rows\n",
    "    n_steps = 0\n",
    "    for i in range(max_steps):\n",
    "        x = x_axis\n",
    "        y = y_axis\n",
    "        dirty = True if(env[x_axis][y_axis]) else False\n",
    "        n_bump, w_bump, e_bump, s_bump = False, False, False, False\n",
    "        \n",
    "        # Corner Boundaries\n",
    "        if x_axis == 0 and y_axis == 0: n_bump, w_bump = True, True\n",
    "        elif x_axis == 0 and y_axis == n - 1: n_bump, e_bump = True, True\n",
    "        elif x_axis == n - 1 and y_axis == 0: s_bump, w_bump = True, True\n",
    "        elif x_axis == n - 1 and y_axis == n - 1: s_bump, e_bump = True, True\n",
    "            \n",
    "        # Edge Boundaries\n",
    "        elif x_axis == 0: n_bump = True\n",
    "        elif y_axis == 0: w_bump = True\n",
    "        elif y_axis == n - 1: e_bump = True\n",
    "        elif x_axis == n - 1: s_bump = True\n",
    "        \n",
    "        # Set status of each bumper sensor\n",
    "        bumpers = {\"north\" : n_bump, \"south\" : s_bump, \"west\" : w_bump, \"east\" : e_bump}\n",
    "        \n",
    "        action = agent(bumpers, dirty)\n",
    "        \n",
    "        location = \"Agent's action is to move, and I am now at [\" + str(x_axis) + \",\" + str(y_axis) + \"]\"\n",
    "        if action == \"north\" and n_bump == False: x_axis -= 1\n",
    "        if action == \"west\"  and w_bump == False: y_axis -= 1\n",
    "        if action == \"east\"  and e_bump == False: y_axis += 1\n",
    "        if action == \"south\" and s_bump == False: x_axis += 1\n",
    "        if x != x_axis or y_axis != y:\n",
    "            location += \"\\n   Environment : Agent's action is advance\"\n",
    "            location += \"\\n   Environment : Agent is now at [\" + str(x_axis) + \",\" + str(y_axis) + \"]\"\n",
    "        else:\n",
    "            location = \" : My percept_blocked is True and I am now staying\"\n",
    "            location += \"\\n   Environment : Agent's action is stay\"\n",
    "        \n",
    "        if (verbose and action != \"suck\"): print(\"Step\", i , \"\\n   Environment : Agent's action is to move\", action, \"\\n     The Agent :\", location) \n",
    "        \n",
    "        if (action == \"suck\"):\n",
    "            if dirty != False:\n",
    "                if verbose: print(\"Step\", i , \"\\n   Environment :\", action, \"\\n     The Agent : I clean the current square | \" + str(dirty_squares - 1) + \" Dirty squares remaining\")\n",
    "                dirty_squares -= 1\n",
    "                env[x_axis][y_axis] = 0\n",
    "                num_cleaned = num_cleaned + 1\n",
    "                if dirty_squares == 0:\n",
    "                    if verbose: print(\"CLEANING COMPLETE!\")\n",
    "                    return i\n",
    "                    #return num_cleaned\n",
    "            elif verbose: print(\"Step\", i , \"\\n   Environment :\", action, \"\\n     The Agent : My current position is already clean\")\n",
    "        n_steps = i\n",
    "        \n",
    "    return i  \n",
    "    # return num_cleaned"
   ]
  },
  {
   "cell_type": "code",
   "execution_count": 7,
   "metadata": {},
   "outputs": [
    {
     "data": {
      "text/plain": [
       "array([[0, 1, 0, 0, 0],\n",
       "       [0, 0, 0, 0, 1],\n",
       "       [1, 0, 0, 0, 0],\n",
       "       [0, 1, 0, 0, 0],\n",
       "       [0, 0, 0, 0, 0]])"
      ]
     },
     "execution_count": 7,
     "metadata": {},
     "output_type": "execute_result"
    }
   ],
   "source": [
    "my_env = new_env(n=5, p=0.2)\n",
    "\n",
    "my_env"
   ]
  },
  {
   "cell_type": "code",
   "execution_count": 8,
   "metadata": {},
   "outputs": [
    {
     "data": {
      "text/plain": [
       "99"
      ]
     },
     "execution_count": 8,
     "metadata": {},
     "output_type": "execute_result"
    }
   ],
   "source": [
    "simulation_env(simple_randomized_agent, max_steps=100, env=my_env, verbose=False)"
   ]
  },
  {
   "cell_type": "markdown",
   "metadata": {},
   "source": [
    "## Task 2:  Implement a simple reflex agent [1 Point] \n",
    "\n",
    "The simple reflex agent randomly walks around but reacts to the bumper sensor by not bumping into the wall and to dirt with sucking. Implement the agent program as a function.\n",
    "\n",
    "_Note:_ The agent cannot directly use variable in the environment. It only gets the percepts as the arguments to the agent program function."
   ]
  },
  {
   "cell_type": "code",
   "execution_count": 9,
   "metadata": {},
   "outputs": [],
   "source": [
    "def reflex_env(agent, max_steps, env, verbose = True):\n",
    "    num_cleaned = 0\n",
    "    \n",
    "    # Initialize agent in NW corner\n",
    "    x_axis, y_axis = 0,0\n",
    "    \n",
    "    # Total number of dirty squares\n",
    "    dirty_squares = np.count_nonzero(env == 1)\n",
    "    \n",
    "    num_rows, num_cols = env.shape\n",
    "    n = num_rows\n",
    "    \n",
    "    n_steps = 0\n",
    "    \n",
    "    for i in range(max_steps):\n",
    "        x = x_axis\n",
    "        y = y_axis\n",
    "        dirty = True if(env[x_axis][y_axis]) else False\n",
    "        n_bump, w_bump, e_bump, s_bump = False, False, False, False\n",
    "        \n",
    "        # Corner Boundaries\n",
    "        if x_axis == 0 and y_axis == 0: n_bump, w_bump = True, True\n",
    "        elif x_axis == 0 and y_axis == n - 1: n_bump, e_bump = True, True\n",
    "        elif x_axis == n - 1 and y_axis == 0: s_bump, w_bump = True, True\n",
    "        elif x_axis == n - 1 and y_axis == n - 1: s_bump, e_bump = True, True\n",
    "            \n",
    "        # Edge Boundaries\n",
    "        elif x_axis == 0: n_bump = True\n",
    "        elif y_axis == 0: w_bump = True\n",
    "        elif x_axis == n - 1: s_bump = True\n",
    "        elif y_axis == n - 1: e_bump = True\n",
    "        \n",
    "        bumpers = {\"north\" : n_bump, \"south\" : s_bump, \"west\" : w_bump, \"east\" : e_bump}\n",
    "        \n",
    "        flag, action = True, True\n",
    "        while(flag):\n",
    "            action = agent(bumpers,dirty)\n",
    "            if action == \"suck\": continue\n",
    "            if bumpers[action] != True: flag = False\n",
    "        \n",
    "        output = \"\\n     The Agent : Agent's action is to move, and I am now at [\" + str(x_axis) + \",\" + str(y_axis) + \"]\"\n",
    "        if action == \"north\" and n_bump == False: x_axis -= 1\n",
    "        if action == \"west\"  and w_bump == False: y_axis -= 1\n",
    "        if action == \"east\"  and e_bump == False: y_axis += 1\n",
    "        if action == \"south\" and s_bump == False: x_axis += 1\n",
    "        if x != x_axis or y_axis != y:\n",
    "            output += \"\\n   Environment : Agent's action is advance\"\n",
    "            output += \"\\n   Environment : Agent is now at [\" + str(x_axis) + \",\" + str(y_axis) + \"]\"\n",
    "            if dirty != False:\n",
    "                output += \"\\n     The Agent : I will clean the current square | \" + str(dirty_squares - 1) + \" Dirty squares remaining\"\n",
    "                dirty_squares -= 1\n",
    "                env[x_axis][y_axis] = 0\n",
    "                num_cleaned = num_cleaned + 1\n",
    "                \n",
    "                if dirty_squares == 0:\n",
    "                    if verbose: print(\"CLEANING COMPLETE!\")\n",
    "                    \n",
    "                    return i\n",
    "                    # return num_cleaned\n",
    "        \n",
    "                \n",
    "        if (verbose): print(\"Step\", i , \"\\n   Environment : Agent's action is to move\", action, \"  \\t\", output) \n",
    "        n_steps = i \n",
    "    return n_steps"
   ]
  },
  {
   "cell_type": "markdown",
   "metadata": {},
   "source": [
    "## Task 3: Implement a model-based reflex agent [3 Point]\n",
    "\n",
    "This agent keeps track of the location and remembers where it has cleaned. Assume the agent knows how many squares the room has. It can move to a corner to determine its location and then is able to use more advanced navigation.\n",
    "\n",
    "Describe how you define the __agent state__ and how your agent works before implementing it. _Note on implementing the state in Python:_ [Examples](https://github.com/luisegarduno/Ai-Projects/blob/master/Python_Code_Examples/store_agent_state_information.ipynb)"
   ]
  },
  {
   "cell_type": "code",
   "execution_count": 10,
   "metadata": {},
   "outputs": [],
   "source": [
    "# Your short description of the state and your implementation goes here"
   ]
  },
  {
   "cell_type": "code",
   "execution_count": 11,
   "metadata": {},
   "outputs": [],
   "source": [
    "# Your code goes here\n",
    "\n",
    "def agent_environment(agent_act, max_steps, env, verbose=True):   \n",
    "    \"\"\"prepares the environment and runs the agent programm for n steps.\"\"\"\n",
    "    agent_position = (0, 0)\n",
    "    num_cleaned = 0\n",
    "    \n",
    "    # Initialize agent in NW corner\n",
    "    x_axis, y_axis = 0,0\n",
    "    \n",
    "    # Total number of dirty squares\n",
    "    dirty_squares = np.count_nonzero(env == 1)\n",
    "    \n",
    "    num_rows, num_cols = env.shape\n",
    "    n = num_rows\n",
    "    \n",
    "    n_steps = 0\n",
    "    \n",
    "    for i in range(max_steps):\n",
    "        print(\"Step\", i)\n",
    "        \n",
    "        x = x_axis; y = y_axis\n",
    "        dirty = True if(env[x_axis][y_axis]) else False\n",
    "        n_bump, w_bump, e_bump, s_bump = False, False, False, False\n",
    "        \n",
    "        # Corner Boundaries\n",
    "        if x_axis == 0 and y_axis == 0: n_bump, w_bump = True, True\n",
    "        elif x_axis == 0 and y_axis == n - 1: n_bump, e_bump = True, True\n",
    "        elif x_axis == n - 1 and y_axis == 0: s_bump, w_bump = True, True\n",
    "        elif x_axis == n - 1 and y_axis == n - 1: s_bump, e_bump = True, True\n",
    "            \n",
    "        # Edge Boundaries\n",
    "        elif x_axis == 0: n_bump = True\n",
    "        elif y_axis == 0: w_bump = True\n",
    "        elif x_axis == n - 1: s_bump = True\n",
    "        elif y_axis == n - 1: e_bump = True\n",
    "            \n",
    "        bumpers = {\"north\" : n_bump, \"south\" : s_bump, \"west\" : w_bump, \"east\" : e_bump}\n",
    "        \n",
    "        #flag, action = True, True\n",
    "        #while(flag):\n",
    "            #action = agent_act(bumpers,dirty)\n",
    "            #if action == \"suck\": continue\n",
    "            #if bumpers[action] != True: flag = False\n",
    "        \n",
    "        # prepare precepts for the agent\n",
    "        blocked = np.random.choice([True, False])\n",
    "        print(\"  Environment: Agent's action is in position\", agent_position, \"and is blocked\", blocked)\n",
    "        \n",
    "        # call the agent program\n",
    "        action = agent_act(percept_blocked = blocked)\n",
    "        print(\"  Environment: Agent's action is\", action)\n",
    "        \n",
    "        # evaluate the effect of the action on the environment\n",
    "        if action == \"advance\" and not blocked:\n",
    "            agent_position = agent_position + 1\n",
    "\n",
    "class Agent:\n",
    "    def __init__(self, initial_position=(0, 0), name = \"An Agent\"):\n",
    "        self.position = initial_position\n",
    "        self.name = name\n",
    "    \n",
    "    def act(self, percept_blocked):\n",
    "        print(\"    \", self.name, \": My percept_blocked is\", percept_blocked, \"and I am now in position\", self.position)\n",
    "    \n",
    "        if percept_blocked: return(\"stay\")\n",
    "        \n",
    "        self.position = self.position + 1\n",
    "        \n",
    "        print(\"    \", self.name, \": I advance to position\", self.position)  \n",
    "        \n",
    "        return(\"advance\")"
   ]
  },
  {
   "cell_type": "code",
   "execution_count": 12,
   "metadata": {},
   "outputs": [],
   "source": [
    "#agent1 = Agent(name=\"Agent 1\")\n",
    "#agent_environment(agent1.act, 100, env=new_env(n=5,p=0.5))"
   ]
  },
  {
   "cell_type": "markdown",
   "metadata": {},
   "source": [
    "## Task 4: Simulation study [3 Points]\n",
    "\n",
    "Compare the performance (the performance measure is defined in the PEAS description above) of the agents using  environments of different size. E.g., $5 \\times 5$, $10 \\times 10$ and\n",
    "$100 \\times 100$. Use at least 100 random runs for each. Present the results in a suitable format (tables, graphs) and discuss the differences.     \n",
    "Here is some help with [charts and tables.](https://github.com/luisegarduno/Ai-Projects/blob/master/Python_Code_Examples/charts_and_tables.ipynb)"
   ]
  },
  {
   "cell_type": "markdown",
   "metadata": {},
   "source": [
    "#### Method 1 : Randomized Agent"
   ]
  },
  {
   "cell_type": "code",
   "execution_count": 13,
   "metadata": {},
   "outputs": [
    {
     "name": "stdout",
     "output_type": "stream",
     "text": [
      "CPU times: user 418 ms, sys: 0 ns, total: 418 ms\n",
      "Wall time: 425 ms\n"
     ]
    }
   ],
   "source": [
    "%%time\n",
    "\n",
    "RandomizedAgent_S = 0\n",
    "for i in range(100):\n",
    "    steps = simulation_env(simple_randomized_agent, max_steps=200, env=new_env(n=5, p=0.2), verbose=False)\n",
    "    RandomizedAgent_S += steps\n",
    "RandomizedAgent_S /= 100.0"
   ]
  },
  {
   "cell_type": "code",
   "execution_count": 14,
   "metadata": {},
   "outputs": [
    {
     "name": "stdout",
     "output_type": "stream",
     "text": [
      "CPU times: user 4.49 s, sys: 27 ms, total: 4.52 s\n",
      "Wall time: 4.55 s\n"
     ]
    }
   ],
   "source": [
    "%%time\n",
    "\n",
    "RandomizedAgent_M = 0\n",
    "for i in range(100):\n",
    "    steps = simulation_env(simple_randomized_agent, max_steps=2500, env=new_env(n=10, p=0.2), verbose=False)\n",
    "    RandomizedAgent_M += steps\n",
    "RandomizedAgent_M /= 100.0"
   ]
  },
  {
   "cell_type": "code",
   "execution_count": 15,
   "metadata": {},
   "outputs": [
    {
     "ename": "KeyboardInterrupt",
     "evalue": "",
     "output_type": "error",
     "traceback": [
      "\u001b[0;31m---------------------------------------------------------------------------\u001b[0m",
      "\u001b[0;31mKeyboardInterrupt\u001b[0m                         Traceback (most recent call last)",
      "\u001b[0;32m<timed exec>\u001b[0m in \u001b[0;36m<module>\u001b[0;34m\u001b[0m\n",
      "\u001b[0;32m<ipython-input-6-2ac07a3a29e2>\u001b[0m in \u001b[0;36msimulation_env\u001b[0;34m(agent, max_steps, env, verbose)\u001b[0m\n\u001b[1;32m     48\u001b[0m         \u001b[0;32mif\u001b[0m \u001b[0;34m(\u001b[0m\u001b[0mverbose\u001b[0m \u001b[0;32mand\u001b[0m \u001b[0maction\u001b[0m \u001b[0;34m!=\u001b[0m \u001b[0;34m\"suck\"\u001b[0m\u001b[0;34m)\u001b[0m\u001b[0;34m:\u001b[0m \u001b[0mprint\u001b[0m\u001b[0;34m(\u001b[0m\u001b[0;34m\"Step\"\u001b[0m\u001b[0;34m,\u001b[0m \u001b[0mi\u001b[0m \u001b[0;34m,\u001b[0m \u001b[0;34m\"\\n   Environment : Agent's action is to move\"\u001b[0m\u001b[0;34m,\u001b[0m \u001b[0maction\u001b[0m\u001b[0;34m,\u001b[0m \u001b[0;34m\"\\n     The Agent :\"\u001b[0m\u001b[0;34m,\u001b[0m \u001b[0mlocation\u001b[0m\u001b[0;34m)\u001b[0m\u001b[0;34m\u001b[0m\u001b[0;34m\u001b[0m\u001b[0m\n\u001b[1;32m     49\u001b[0m \u001b[0;34m\u001b[0m\u001b[0m\n\u001b[0;32m---> 50\u001b[0;31m         \u001b[0;32mif\u001b[0m \u001b[0;34m(\u001b[0m\u001b[0maction\u001b[0m \u001b[0;34m==\u001b[0m \u001b[0;34m\"suck\"\u001b[0m\u001b[0;34m)\u001b[0m\u001b[0;34m:\u001b[0m\u001b[0;34m\u001b[0m\u001b[0;34m\u001b[0m\u001b[0m\n\u001b[0m\u001b[1;32m     51\u001b[0m             \u001b[0;32mif\u001b[0m \u001b[0mdirty\u001b[0m \u001b[0;34m!=\u001b[0m \u001b[0;32mFalse\u001b[0m\u001b[0;34m:\u001b[0m\u001b[0;34m\u001b[0m\u001b[0;34m\u001b[0m\u001b[0m\n\u001b[1;32m     52\u001b[0m                 \u001b[0;32mif\u001b[0m \u001b[0mverbose\u001b[0m\u001b[0;34m:\u001b[0m \u001b[0mprint\u001b[0m\u001b[0;34m(\u001b[0m\u001b[0;34m\"Step\"\u001b[0m\u001b[0;34m,\u001b[0m \u001b[0mi\u001b[0m \u001b[0;34m,\u001b[0m \u001b[0;34m\"\\n   Environment :\"\u001b[0m\u001b[0;34m,\u001b[0m \u001b[0maction\u001b[0m\u001b[0;34m,\u001b[0m \u001b[0;34m\"\\n     The Agent : I clean the current square | \"\u001b[0m \u001b[0;34m+\u001b[0m \u001b[0mstr\u001b[0m\u001b[0;34m(\u001b[0m\u001b[0mdirty_squares\u001b[0m \u001b[0;34m-\u001b[0m \u001b[0;36m1\u001b[0m\u001b[0;34m)\u001b[0m \u001b[0;34m+\u001b[0m \u001b[0;34m\" Dirty squares remaining\"\u001b[0m\u001b[0;34m)\u001b[0m\u001b[0;34m\u001b[0m\u001b[0;34m\u001b[0m\u001b[0m\n",
      "\u001b[0;31mKeyboardInterrupt\u001b[0m: "
     ]
    }
   ],
   "source": [
    "## %%time\n",
    "\n",
    "## RandomizedAgent_L = 0\n",
    "## for i in range(100):\n",
    "##     steps = simulation_env(simple_randomized_agent, max_steps=1000000, env=new_env(n=100, p=0.2), verbose=False)\n",
    "##     RandomizedAgent_L += steps\n",
    "## RandomizedAgent_L /= 100.0"
   ]
  },
  {
   "cell_type": "markdown",
   "metadata": {},
   "source": [
    "\n",
    "-----------------\n",
    "\n",
    "#### Method 2 : Simple Reflex Agent"
   ]
  },
  {
   "cell_type": "code",
   "execution_count": 16,
   "metadata": {},
   "outputs": [
    {
     "name": "stdout",
     "output_type": "stream",
     "text": [
      "CPU times: user 120 ms, sys: 7.99 ms, total: 128 ms\n",
      "Wall time: 125 ms\n"
     ]
    }
   ],
   "source": [
    "%%time\n",
    "\n",
    "SimpleReflexAgent_S = 0\n",
    "for i in range(100):\n",
    "    steps = reflex_env(simple_randomized_agent, max_steps=200, env=new_env(n=5, p=0.2), verbose=False)\n",
    "    SimpleReflexAgent_S += steps\n",
    "SimpleReflexAgent_S /= 100.0"
   ]
  },
  {
   "cell_type": "code",
   "execution_count": 17,
   "metadata": {},
   "outputs": [
    {
     "name": "stdout",
     "output_type": "stream",
     "text": [
      "CPU times: user 385 ms, sys: 4 ms, total: 389 ms\n",
      "Wall time: 393 ms\n"
     ]
    }
   ],
   "source": [
    "%%time\n",
    "\n",
    "SimpleReflexAgent_M = 0\n",
    "for i in range(100):\n",
    "    steps = reflex_env(simple_randomized_agent, max_steps=2500, env=new_env(n=10, p=0.2), verbose=False)\n",
    "    SimpleReflexAgent_M += steps\n",
    "SimpleReflexAgent_M /= 100.0"
   ]
  },
  {
   "cell_type": "code",
   "execution_count": null,
   "metadata": {},
   "outputs": [],
   "source": [
    "%%time\n",
    "\n",
    "SimpleReflexAgent_L = 0\n",
    "for i in range(100):\n",
    "    steps = reflex_env(simple_randomized_agent, max_steps=1000000, env=new_env(n=100, p=0.2), verbose=False)\n",
    "    SimpleReflexAgent_L += steps\n",
    "SimpleReflexAgent_L /= 100.0"
   ]
  },
  {
   "cell_type": "markdown",
   "metadata": {},
   "source": [
    "\n",
    "-------------------\n",
    "\n",
    "#### Method 3 : Model-Based Agent"
   ]
  },
  {
   "cell_type": "code",
   "execution_count": null,
   "metadata": {},
   "outputs": [],
   "source": [
    "# Model-based Agent\n",
    "\n",
    "# ModelBasedAgent_S = 0\n",
    "# for i in range(100):\n",
    "#     steps = 0\n",
    "#     ModelBasedAgent_S += steps\n",
    "# ModelBasedAgent_S /= 100.0\n",
    " \n",
    "# ModelBasedAgent_M = 0\n",
    "# for i in range(100):\n",
    "#     steps = 0\n",
    "#     ModelBasedAgent_M += steps\n",
    "# ModelBasedAgent_M /= 100.0\n",
    " \n",
    "# ModelBasedAgent_L = 0\n",
    "# for i in range(100):\n",
    "#     steps = 0\n",
    "#     ModelBasedAgent_L += steps\n",
    "# ModelBasedAgent_L /= 100.0"
   ]
  },
  {
   "cell_type": "markdown",
   "metadata": {},
   "source": [
    "Fill out the following table with the average performance measure for 100 random runs:"
   ]
  },
  {
   "cell_type": "code",
   "execution_count": null,
   "metadata": {},
   "outputs": [],
   "source": [
    "import pandas as pd\n",
    "\n",
    "df_avgs = pd.DataFrame({'Size': ['5x5', '10x10', '100x100']})\n",
    "df_avgs['Randomized Agent'] = [str(RandomizedAgent_S), str(RandomizedAgent_M), str(RandomizedAgent_L)]\n",
    "df_avgs['Simple Reflex Agent'] = [str(SimpleReflexAgent_S), str(SimpleReflexAgent_M), str(SimpleReflexAgent_L)]\n",
    "#df_avgs['Model-based Reflex Agent'] = [str(ModelBasedAgent_S), str(ModelBasedAgent_M), str(ModelBasedAgent_L)]\n",
    "\n",
    "df_avgs = df_avgs.style.set_table_styles([dict(selector='th', props=[('text-align', 'center')])])\n",
    "df_avgs.set_properties(**{'text-align': 'center'}).hide_index()\n",
    "\n",
    "df_avgs"
   ]
  },
  {
   "cell_type": "code",
   "execution_count": null,
   "metadata": {},
   "outputs": [],
   "source": [
    "# Your discussion of the results goes here"
   ]
  },
  {
   "cell_type": "markdown",
   "metadata": {},
   "source": [
    "## Task 5: Robustness of the agent implementations [1 Point] \n",
    "\n",
    "Describe how your agent implementations will perform \n",
    "\n",
    "* if it is put into a rectangular room with unknown size, \n",
    "* if the cleaning area can have an iregular shape (e.g., a hallway connecting two rooms), or \n",
    "* if the room contains obstacles (i.e., squares that it cannot pass through and trigger the bumper sensors)."
   ]
  },
  {
   "cell_type": "code",
   "execution_count": null,
   "metadata": {},
   "outputs": [],
   "source": [
    "# Answer goes here"
   ]
  },
  {
   "cell_type": "markdown",
   "metadata": {},
   "source": [
    "## Graduate student advanced task: Obstacles [1 Point]\n",
    "\n",
    "__Undergraduate students:__ This is a bonus task you can attempt if you like [+1 Bonus point].\n",
    "\n",
    "1. Change your simulation environment tor run experiments for the following problem: Add random obstacle squares that also trigger the bumper sensor. The agent does not know where the obstacles are. Observe how this changes the performance of the three implementations.\n",
    "\n",
    "2. Describe what would need to be done to perform better with obstacles. Add code if you can. "
   ]
  },
  {
   "cell_type": "code",
   "execution_count": null,
   "metadata": {},
   "outputs": [],
   "source": [
    "# Your code and discussion goes here"
   ]
  },
  {
   "cell_type": "markdown",
   "metadata": {},
   "source": [
    "## More advanced tasks to think about\n",
    "\n",
    "You can think about these:\n",
    "\n",
    "* __Unknown environment with obstacles:__ Implement an agent for an environment where the agent does not know how large the environment is (we assume it is rectangular), where it starts or where the obstacles are. An option would be to always move to the closest unchecked/uncleaned square.\n",
    "\n",
    "* __Utility-based agent:__ Change the environment, so each square has a fixed probability of getting dirty again. We assume the agent has learned this information over time. For the implementation, we give this information to the agent as a 2-dimensional array of probabilities Cleaning one dirty square produces a utility of 1. Implement a utility-based agent that maximizes the expected utility over one full charge which lasts for 10000 time steps. This is very tricky!"
   ]
  }
 ],
 "metadata": {
  "kernelspec": {
   "display_name": "Python 3",
   "language": "python",
   "name": "python3"
  },
  "language_info": {
   "codemirror_mode": {
    "name": "ipython",
    "version": 3
   },
   "file_extension": ".py",
   "mimetype": "text/x-python",
   "name": "python",
   "nbconvert_exporter": "python",
   "pygments_lexer": "ipython3",
   "version": "3.8.8"
  }
 },
 "nbformat": 4,
 "nbformat_minor": 4
}
