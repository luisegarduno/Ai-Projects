{
 "cells": [
  {
   "cell_type": "markdown",
   "metadata": {},
   "source": [
    "# Adversarial Search: Playing Connect 4\n",
    "\n",
    "\n",
    "## Instructions\n",
    "\n",
    "Total Points: Undegraduates 10, graduate students 11\n",
    "\n",
    "Complete this notebook and submit it. The notebook needs to be a complete project report with your implementation, documentation including a short discussion of how your implementation works and your design choices, and experimental results (e.g., tables and charts with simulation results) with a short discussion of what they mean. Use the provided notebook cells and insert additional code and markdown cells as needed.\n",
    "\n",
    "## Introduction\n",
    "\n",
    "You will implement different versions of agents that play Connect 4:\n",
    "\n",
    "> \"Connect 4 is a two-player connection board game, in which the players choose a color and then take turns dropping colored discs into a seven-column, six-row vertically suspended grid. The pieces fall straight down, occupying the lowest available space within the column. The objective of the game is to be the first to form a horizontal, vertical, or diagonal line of four of one's own discs.\" (see [Connect Four on Wikipedia](https://en.wikipedia.org/wiki/Connect_Four))"
   ]
  },
  {
   "cell_type": "markdown",
   "metadata": {},
   "source": [
    "## Task 1: Defining the Search Problem [1 point]\n",
    "\n",
    "Define the components of the search problem:\n",
    "\n",
    "* Initial state\n",
    "* Actions\n",
    "* Transition model\n",
    "* Goal state"
   ]
  },
  {
   "cell_type": "code",
   "execution_count": 1,
   "metadata": {},
   "outputs": [],
   "source": [
    "# Your code/answer goes here."
   ]
  },
  {
   "cell_type": "markdown",
   "metadata": {},
   "source": [
    "|||\n",
    "|:-----------------|------|\n",
    "|**Initial State**    | <li> &nbsp;&nbsp; Defined by the location of an agent's piece ('x', 'o') within the bottom row </li> |\n",
    "|**Actions**          | <li> &nbsp;&nbsp; { Left, Right } </li> |\n",
    "|**Transition Model** | <li> &nbsp;&nbsp; The agent may choose any column _C_, out of the 7 total, <br/> &nbsp;&nbsp;&nbsp; that is not yet full:  __7 - C__ </li> |\n",
    "|**Goal State**       | <li> &nbsp;&nbsp; Put n 'x' or 'o' pieces on a 6 × 7 board having 4 (or more) <br/> &nbsp;&nbsp;&nbsp; of the same piece type ('x' or 'o') line up together in either <br/> &nbsp;&nbsp;&nbsp; the same row, column, or diagonally. This line must <br/> &nbsp;&nbsp;&nbsp; not have any gaps in between </li> |\n",
    "|**Path Cost**        | <li> &nbsp;&nbsp; 1 per move </li> |"
   ]
  },
  {
   "cell_type": "markdown",
   "metadata": {},
   "source": [
    "How big is the search space?"
   ]
  },
  {
   "cell_type": "code",
   "execution_count": 2,
   "metadata": {},
   "outputs": [],
   "source": [
    "# Your code/ answer goes here."
   ]
  },
  {
   "cell_type": "markdown",
   "metadata": {},
   "source": [
    "- Our board is 6 x 7, thus the total number of locations on the board is <u>**42**</u>.\n",
    "- Each location (row,column) within the board has <u>**3**</u> Possible states : 'x', 'o', or empty \n",
    "\n",
    "So that then gives us an `upper bound` of  $3^{42}$ , which isn't necessarily true.\n",
    "\n",
    "This calculation implies that an agent could place a piece within any row at any given point, which is false.  \n",
    "An example is if an agent wanted to place their first piece in the middle row. Due to gravity, the piece would  \n",
    "drop down to the bottom row.\n",
    "\n",
    "The best `lower bound` on the number of possible positions has been calculated by a computer program to be around _$1.6 * 10^{13}$_  [1].\n",
    "    "
   ]
  },
  {
   "cell_type": "markdown",
   "metadata": {},
   "source": [
    "## Task 2: Game Environment and Random Agent [2 point]\n",
    "\n",
    "Use a numpy character array as the board."
   ]
  },
  {
   "cell_type": "code",
   "execution_count": 3,
   "metadata": {},
   "outputs": [
    {
     "name": "stdout",
     "output_type": "stream",
     "text": [
      "[[' ' ' ' ' ' ' ' ' ' ' ' ' ']\n",
      " [' ' ' ' ' ' ' ' ' ' ' ' ' ']\n",
      " [' ' ' ' ' ' ' ' ' ' ' ' ' ']\n",
      " [' ' ' ' ' ' ' ' ' ' ' ' ' ']\n",
      " [' ' ' ' ' ' ' ' ' ' ' ' ' ']\n",
      " [' ' ' ' ' ' ' ' ' ' ' ' ' ']]\n"
     ]
    }
   ],
   "source": [
    "import numpy as np\n",
    "\n",
    "def empty_board(shape=(6, 7)):\n",
    "    return np.full(shape=shape, fill_value=' ')\n",
    "\n",
    "print(empty_board())"
   ]
  },
  {
   "cell_type": "markdown",
   "metadata": {},
   "source": [
    "Instead of colors for the players use 'x' and 'o' to represent the players. Make sure that your agent functions all have the from: `agent_type(board, player = 'x')`, where board is the current board position and player is the player whose next move it is and who the agent should play."
   ]
  },
  {
   "cell_type": "markdown",
   "metadata": {},
   "source": [
    "Implement the board and helper functions for:\n",
    "\n",
    "* The transition model (result).\n",
    "* The utility function.\n",
    "* Check for terminal states.\n",
    "* A check for available actions.\n",
    "* A function to visualize the board.\n",
    "\n",
    "Make sure that all these functions work with boards of different sizes.\n",
    "\n",
    "Implement an agent that plays randomly and let two random agents play against each other 1000 times. How often does each player win? Is the result expected? "
   ]
  },
  {
   "cell_type": "code",
   "execution_count": 4,
   "metadata": {},
   "outputs": [],
   "source": [
    "# Your code/ answer goes here."
   ]
  },
  {
   "cell_type": "code",
   "execution_count": 610,
   "metadata": {},
   "outputs": [],
   "source": [
    "board = empty_board()\n",
    "\n",
    "# Add move to the board -------------------------------------------------------------------------- \n",
    "def result(state, player, action):\n",
    "    state = state.copy()\n",
    "    state[action] = player\n",
    "  \n",
    "    return state\n",
    "\n",
    "\n",
    "# Produce the Belief State* after the given action for a player. ---------------------------------\n",
    "# *Belief State: The set of boards w/ the action & all possible reactions of an opponent.\n",
    "def results(state, action, player = 'x'):\n",
    "    if player == 'x': other = 'o'\n",
    "    else: other = 'x'\n",
    "    \n",
    "    state = state.copy()\n",
    "    \n",
    "    # player's move\n",
    "    state[action] = player\n",
    "    \n",
    "    # opponent reacts\n",
    "    r = list()\n",
    "    o_actions = actions(state)\n",
    "    \n",
    "    # board is full\n",
    "    if len(o_actions) < 1 : return [state]\n",
    "    \n",
    "    for o_a in o_actions:\n",
    "        s = state.copy()\n",
    "        s[o_a] = other\n",
    "        r.append(s)    \n",
    "    \n",
    "    return r\n",
    "\n",
    "# Check the board & return : 'x', 'o', 'd' (draw), or n (next move)\n",
    "def check_win(board):\n",
    "    \n",
    "    for row in range(3):\n",
    "        for col in range(4):\n",
    "            \n",
    "            # Diagonal Check : TopLeft --> BottomRight\n",
    "            if board[row][col] != ' ':\n",
    "                if board[row][col] == board[row + 1][col + 1]:\n",
    "                    if board[row + 1][col + 1] == board[row + 2][col + 2]:\n",
    "                        if board[row + 2][col + 2] == board[row + 3][col + 3]:\n",
    "                            return board[row][col]\n",
    "                        \n",
    "            # Vertical Check : Right Side       \n",
    "            if board[row][col + 3] != ' ':\n",
    "                if board[row + 3][col + 3] == board[row + 2][col + 3]:\n",
    "                    if board[row + 2][col + 3] == board[row + 1][col + 3]:\n",
    "                        if board[row + 1][col + 3] == board[row][col + 3]:\n",
    "                            return board[row][col + 3]\n",
    "                        \n",
    "    for row in range(5, 2, -1):\n",
    "        for col in range(4):\n",
    "            \n",
    "            # Diagonal Check : BottomLeft --> TopRight\n",
    "            if board[row][col] != ' ': \n",
    "                if board[row][col] == board[row - 1][col + 1]:\n",
    "                    if board[row - 1][col + 1] == board[row - 2][col + 2]:\n",
    "                        if board[row - 2][col + 2] == board[row - 3][col + 3]:\n",
    "                            return board[row][col]\n",
    "                        \n",
    "            # Vertical Check : Left Side        \n",
    "            if board[row - 3][col] != ' ':\n",
    "                if board[row][col] == board[row - 1][col]:\n",
    "                    if board[row - 1][col] == board[row - 2][col]:\n",
    "                        if board[row - 2][col] == board[row - 3][col]:\n",
    "                            return board[row - 3][col]       \n",
    "                        \n",
    "    # Horizontal Check \n",
    "    for row in (2, 1, 0):\n",
    "        for col in range(4):\n",
    "            row2 = len(board[0]) - row - 2\n",
    "            \n",
    "            if board[row][col] != ' ': \n",
    "                if board[row][col] == board[row][col + 1]:\n",
    "                    if board[row][col + 1] == board[row][col + 2]:\n",
    "                        if board[row][col + 2] == board[row][col + 3]:\n",
    "                            return str(board[row][col])\n",
    "                        \n",
    "            if board[row2][col] != ' ':\n",
    "                if board[row2][col] == board[row2][col + 1]:\n",
    "                    if board[row2][col + 1] == board[row2][col + 2]:\n",
    "                        if board[row2][col + 2] == board[row2][col + 3]:\n",
    "                            return str(board[row2][col])\n",
    "                \n",
    "    # check for draw\n",
    "    if(np.sum(board == ' ') < 1):\n",
    "        return 'd'\n",
    "    \n",
    "    return 'n'\n",
    "\n",
    "# Returns win/loss (terminal) or false (non-terminal) --------------------------------------------\n",
    "def is_terminal(state, player = 'x', draw_is_win = True):\n",
    "    if player == 'x': other = 'o'\n",
    "    else: other = 'x'\n",
    "    \n",
    "    goal = check_win(state)\n",
    "    if goal == str(player): return 'win' \n",
    "    if goal == 'd': \n",
    "        if draw_is_win: return 'draw' \n",
    "        else: return None \n",
    "    if goal == other: return None  # loss is failure\n",
    "    return False # continue\n",
    "\n",
    "# Return possible actions as a vector of idx's ---------------------------------------------------\n",
    "def actions(board):\n",
    "    \n",
    "    valid_columns = []\n",
    "    \n",
    "    for i in np.where(np.array(board == ' ')[0]):\n",
    "        valid_columns.append(i)\n",
    "    \n",
    "    return np.array(valid_columns)[0]\n",
    "    \n",
    "    #for i in range(6,0,-1):\n",
    "    #    for j in np.where(np.array(board[i - 1]) == ' ')[0]:\n",
    "    #        if(1 <= i <= 6) and (1 <= (j + 1) <= 7) and (board[i-1][j] == ' '):\n",
    "    #            locations.append([i-1,j])\n",
    "    #return np.array(locations).tolist()\n",
    "    \n",
    "    # return np.where(np.array(board) == ' ')[0].tolist()\n",
    "\n",
    "# Display the board ------------------------------------------------------------------------------\n",
    "def show_board(board):\n",
    "    print(board)\n",
    "    # print(np.array(board))\n",
    "\n",
    "# Add move to the board  \n",
    "def random_player(board, player = None):\n",
    "    ''' Simple player that chooses a random empy square. player is unused. '''\n",
    "    print(np.random.choice(actions(board)))\n",
    "    return np.random.choice(actions(board))"
   ]
  },
  {
   "cell_type": "code",
   "execution_count": 611,
   "metadata": {},
   "outputs": [
    {
     "name": "stdout",
     "output_type": "stream",
     "text": [
      "------------ Board ------------\n",
      "[['x' ' ' ' ' ' ' ' ' ' ' ' ']\n",
      " ['x' ' ' ' ' ' ' ' ' ' ' ' ']\n",
      " ['x' ' ' ' ' ' ' ' ' ' ' ' ']\n",
      " ['x' ' ' ' ' ' ' ' ' ' ' ' ']\n",
      " ['x' ' ' ' ' ' ' ' ' ' ' ' ']\n",
      " ['x' ' ' ' ' ' ' ' ' ' ' ' ']]\n",
      "-----\n",
      "[array([1, 2, 3, 4, 5, 6])]\n",
      "[array([1, 2, 3, 4, 5, 6])]\n"
     ]
    },
    {
     "ename": "ValueError",
     "evalue": "a must be 1-dimensional",
     "output_type": "error",
     "traceback": [
      "\u001b[0;31m---------------------------------------------------------------------------\u001b[0m",
      "\u001b[0;31mValueError\u001b[0m                                Traceback (most recent call last)",
      "\u001b[0;32m<timed exec>\u001b[0m in \u001b[0;36m<module>\u001b[0;34m\u001b[0m\n",
      "\u001b[0;32m<ipython-input-610-76a9dcbcd89d>\u001b[0m in \u001b[0;36mrandom_player\u001b[0;34m(board, player)\u001b[0m\n\u001b[1;32m    135\u001b[0m \u001b[0;32mdef\u001b[0m \u001b[0mrandom_player\u001b[0m\u001b[0;34m(\u001b[0m\u001b[0mboard\u001b[0m\u001b[0;34m,\u001b[0m \u001b[0mplayer\u001b[0m \u001b[0;34m=\u001b[0m \u001b[0;32mNone\u001b[0m\u001b[0;34m)\u001b[0m\u001b[0;34m:\u001b[0m\u001b[0;34m\u001b[0m\u001b[0;34m\u001b[0m\u001b[0m\n\u001b[1;32m    136\u001b[0m     \u001b[0;34m''' Simple player that chooses a random empy square. player is unused. '''\u001b[0m\u001b[0;34m\u001b[0m\u001b[0;34m\u001b[0m\u001b[0m\n\u001b[0;32m--> 137\u001b[0;31m     \u001b[0mprint\u001b[0m\u001b[0;34m(\u001b[0m\u001b[0mnp\u001b[0m\u001b[0;34m.\u001b[0m\u001b[0mrandom\u001b[0m\u001b[0;34m.\u001b[0m\u001b[0mchoice\u001b[0m\u001b[0;34m(\u001b[0m\u001b[0mactions\u001b[0m\u001b[0;34m(\u001b[0m\u001b[0mboard\u001b[0m\u001b[0;34m)\u001b[0m\u001b[0;34m)\u001b[0m\u001b[0;34m)\u001b[0m\u001b[0;34m\u001b[0m\u001b[0;34m\u001b[0m\u001b[0m\n\u001b[0m\u001b[1;32m    138\u001b[0m     \u001b[0;32mreturn\u001b[0m \u001b[0mnp\u001b[0m\u001b[0;34m.\u001b[0m\u001b[0mrandom\u001b[0m\u001b[0;34m.\u001b[0m\u001b[0mchoice\u001b[0m\u001b[0;34m(\u001b[0m\u001b[0mactions\u001b[0m\u001b[0;34m(\u001b[0m\u001b[0mboard\u001b[0m\u001b[0;34m)\u001b[0m\u001b[0;34m)\u001b[0m\u001b[0;34m\u001b[0m\u001b[0;34m\u001b[0m\u001b[0m\n",
      "\u001b[0;32mmtrand.pyx\u001b[0m in \u001b[0;36mnumpy.random.mtrand.RandomState.choice\u001b[0;34m()\u001b[0m\n",
      "\u001b[0;31mValueError\u001b[0m: a must be 1-dimensional"
     ]
    }
   ],
   "source": [
    "%%time\n",
    "board = empty_board()\n",
    "\n",
    "#board[3][0] = 'x'\n",
    "#board[2][1] = 'x'\n",
    "#board[1][2] = 'x'\n",
    "#board[0][3] = 'x'\n",
    "\n",
    "board[0][0] = 'x'\n",
    "board[1][0] = 'x'\n",
    "board[2][0] = 'x'\n",
    "board[3][0] = 'x'\n",
    "board[4][0] = 'x'\n",
    "board[5][0] = 'x'\n",
    "\n",
    "print(\"------------ Board ------------\")\n",
    "show_board(board)\n",
    "\n",
    "is_terminal(board)\n",
    "#print('Win? ' + check_win(board))\n",
    "print(\"-----\")\n",
    "actions(board)\n",
    "\n",
    "random_player(board)"
   ]
  },
  {
   "cell_type": "markdown",
   "metadata": {},
   "source": [
    "## Task 3: Minimax Search with Alpha-Beta Pruning [4 points]\n",
    "\n",
    "### Implement the search starting from a given board and specifying the player.\n",
    "\n"
   ]
  },
  {
   "cell_type": "markdown",
   "metadata": {},
   "source": [
    "__Note:__ The search space for a $6 \\times 7$ board is large. You can experiment with smaller boards (the smallest is $4 \\times 4$) and/or changing the winning rule to connect 3 instead of 4."
   ]
  },
  {
   "cell_type": "code",
   "execution_count": 7,
   "metadata": {},
   "outputs": [],
   "source": [
    "# Your code/ answer goes here."
   ]
  },
  {
   "cell_type": "markdown",
   "metadata": {},
   "source": [
    "Experiment with some manually created boards (at least 5) to check if the agent spots winning opportunities."
   ]
  },
  {
   "cell_type": "code",
   "execution_count": 8,
   "metadata": {},
   "outputs": [],
   "source": [
    "# Your code/ answer goes here."
   ]
  },
  {
   "cell_type": "markdown",
   "metadata": {},
   "source": [
    "How long does it take to make a move? Start with a smaller board with 4 columns and make the board larger by adding columns."
   ]
  },
  {
   "cell_type": "code",
   "execution_count": 9,
   "metadata": {},
   "outputs": [],
   "source": [
    "# Your code/ answer goes here."
   ]
  },
  {
   "cell_type": "markdown",
   "metadata": {},
   "source": [
    "### Move ordering\n",
    "\n",
    "Describe and implement a simple move ordering strategy. How does this strategy influence the time it takes to \n",
    "make a move?"
   ]
  },
  {
   "cell_type": "code",
   "execution_count": 10,
   "metadata": {},
   "outputs": [],
   "source": [
    "# Your code/ answer goes here."
   ]
  },
  {
   "cell_type": "markdown",
   "metadata": {},
   "source": [
    "### Playtime\n",
    "\n",
    "Let the Minimax Search agent play a random agent on a small board. Analyze wins, losses and draws."
   ]
  },
  {
   "cell_type": "code",
   "execution_count": 11,
   "metadata": {},
   "outputs": [],
   "source": [
    "# Your code/ answer goes here."
   ]
  },
  {
   "cell_type": "markdown",
   "metadata": {},
   "source": [
    "## Task 4: Heuristic Alpha-Beta Tree Search [3 points] \n",
    "\n",
    "### Heuristic evaluation function\n",
    "\n",
    "Define and implement a heuristic evaluation function."
   ]
  },
  {
   "cell_type": "code",
   "execution_count": 12,
   "metadata": {},
   "outputs": [],
   "source": [
    "# Your code/ answer goes here."
   ]
  },
  {
   "cell_type": "markdown",
   "metadata": {},
   "source": [
    "### Cutting off search \n",
    "\n",
    "Modify your Minimax Search with Alpha-Beta Pruning to cut off search at a specified depth and use the heuristic evaluation function. Experiment with different cutoff values."
   ]
  },
  {
   "cell_type": "code",
   "execution_count": 13,
   "metadata": {},
   "outputs": [],
   "source": [
    "# Your code/ answer goes here."
   ]
  },
  {
   "cell_type": "markdown",
   "metadata": {},
   "source": [
    "Experiment with the same manually created boards as above to check if the agent spots wining opportunities."
   ]
  },
  {
   "cell_type": "code",
   "execution_count": 14,
   "metadata": {},
   "outputs": [],
   "source": [
    "# Your code/ answer goes here."
   ]
  },
  {
   "cell_type": "markdown",
   "metadata": {},
   "source": [
    "How long does it take to make a move? Start with a smaller board with 4 columns and make the board larger by adding columns."
   ]
  },
  {
   "cell_type": "code",
   "execution_count": 15,
   "metadata": {},
   "outputs": [],
   "source": [
    "# Your code/ answer goes here."
   ]
  },
  {
   "cell_type": "markdown",
   "metadata": {},
   "source": [
    "### Playtime\n",
    "\n",
    "Let two heuristic search agents (different cutoff depth, different heuristic evaluation function) compete against each other on a reasonably sized board. Since there is no randomness, you only need to let them play once."
   ]
  },
  {
   "cell_type": "code",
   "execution_count": 16,
   "metadata": {},
   "outputs": [],
   "source": [
    "# Your code/ answer goes here."
   ]
  },
  {
   "cell_type": "markdown",
   "metadata": {},
   "source": [
    "## Challenge task [+ 1 bonus point]\n",
    "\n",
    "Find another student and let your best agent play against the other student's best player. We will set up a class tournament on Canvas. This tournament will continue after the submission deadline."
   ]
  },
  {
   "cell_type": "markdown",
   "metadata": {},
   "source": [
    "## Graduate student advanced task: Pure Monte Carlo Search and Best First Move [1 point]\n",
    "\n",
    "__Undergraduate students:__ This is a bonus task you can attempt if you like [+1 Bonus point].\n",
    "\n",
    "### Pure Monte Carlos Search\n",
    "\n",
    "Implement Pure Monte Carlo Search and investigate how this search performs on the test boards that you have used above. "
   ]
  },
  {
   "cell_type": "code",
   "execution_count": 17,
   "metadata": {},
   "outputs": [],
   "source": [
    "# Your code/ answer goes here."
   ]
  },
  {
   "cell_type": "markdown",
   "metadata": {},
   "source": [
    "### Best First Move\n",
    "\n",
    "How would you determine what the best first move is? You can use Pure Monte Carlo Search or any algorithms \n",
    "that you have implemented above."
   ]
  },
  {
   "cell_type": "code",
   "execution_count": 18,
   "metadata": {},
   "outputs": [],
   "source": [
    "# Your code/ answer goes here."
   ]
  },
  {
   "cell_type": "markdown",
   "metadata": {},
   "source": [
    "\n",
    "--------------\n",
    "\n",
    "_References_\n",
    "\n",
    "[1]\n",
    "“Connect Four,” 2010. [Online]. Available: https://web.mit.edu/sp.268/www/2010/connectFourSlides.pdf.\n",
    "‌"
   ]
  },
  {
   "cell_type": "code",
   "execution_count": null,
   "metadata": {},
   "outputs": [],
   "source": []
  }
 ],
 "metadata": {
  "kernelspec": {
   "display_name": "Python 3",
   "language": "python",
   "name": "python3"
  },
  "language_info": {
   "codemirror_mode": {
    "name": "ipython",
    "version": 3
   },
   "file_extension": ".py",
   "mimetype": "text/x-python",
   "name": "python",
   "nbconvert_exporter": "python",
   "pygments_lexer": "ipython3",
   "version": "3.8.8"
  }
 },
 "nbformat": 4,
 "nbformat_minor": 4
}
