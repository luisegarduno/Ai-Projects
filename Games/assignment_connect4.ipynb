{
 "cells": [
  {
   "cell_type": "markdown",
   "metadata": {},
   "source": [
    "# Adversarial Search: Playing Connect 4\n",
    "\n",
    "\n",
    "## Instructions\n",
    "\n",
    "Total Points: Undegraduates 10, graduate students 11\n",
    "\n",
    "Complete this notebook and submit it. The notebook needs to be a complete project report with your implementation, documentation including a short discussion of how your implementation works and your design choices, and experimental results (e.g., tables and charts with simulation results) with a short discussion of what they mean. Use the provided notebook cells and insert additional code and markdown cells as needed.\n",
    "\n",
    "## Introduction\n",
    "\n",
    "You will implement different versions of agents that play Connect 4:\n",
    "\n",
    "> \"Connect 4 is a two-player connection board game, in which the players choose a color and then take turns dropping colored discs into a seven-column, six-row vertically suspended grid. The pieces fall straight down, occupying the lowest available space within the column. The objective of the game is to be the first to form a horizontal, vertical, or diagonal line of four of one's own discs.\" (see [Connect Four on Wikipedia](https://en.wikipedia.org/wiki/Connect_Four))"
   ]
  },
  {
   "cell_type": "markdown",
   "metadata": {},
   "source": [
    "## Task 1: Defining the Search Problem [1 point]\n",
    "\n",
    "Define the components of the search problem:\n",
    "\n",
    "* Initial state\n",
    "* Actions\n",
    "* Transition model\n",
    "* Goal state"
   ]
  },
  {
   "cell_type": "code",
   "execution_count": null,
   "metadata": {},
   "outputs": [],
   "source": [
    "# Your code/answer goes here."
   ]
  },
  {
   "cell_type": "markdown",
   "metadata": {},
   "source": [
    "|||\n",
    "|:-----------------|------|\n",
    "|**Initial State**    | <li> &nbsp;&nbsp; Defined by the location of an agent's piece ('x', 'o') within the bottom row </li> |\n",
    "|**Actions**          | <li> &nbsp;&nbsp; { Left, Right } </li> |\n",
    "|**Transition Model** | <li> &nbsp;&nbsp; The agent may choose any column _C_, out of the 7 total, <br/> &nbsp;&nbsp;&nbsp; that is not yet full:  __7 - C__ </li> |\n",
    "|**Goal State**       | <li> &nbsp;&nbsp; Put n 'x' or 'o' pieces on a 6 × 7 board having 4 (or more) <br/> &nbsp;&nbsp;&nbsp; of the same piece type ('x' or 'o') line up together in either <br/> &nbsp;&nbsp;&nbsp; the same row, column, or diagonally. This line must <br/> &nbsp;&nbsp;&nbsp; not have any gaps in between </li> |\n",
    "|**Path Cost**        | <li> &nbsp;&nbsp; 1 per move </li> |"
   ]
  },
  {
   "cell_type": "markdown",
   "metadata": {},
   "source": [
    "How big is the search space?"
   ]
  },
  {
   "cell_type": "code",
   "execution_count": null,
   "metadata": {},
   "outputs": [],
   "source": [
    "# Your code/ answer goes here."
   ]
  },
  {
   "cell_type": "markdown",
   "metadata": {},
   "source": [
    "- Our board is 6 x 7, thus the total number of locations on the board is <u>**42**</u>.\n",
    "- Each location (row,column) within the board has <u>**3**</u> Possible states : 'x', 'o', or empty \n",
    "\n",
    "So that then gives us an `upper bound` of  $3^{42}$ , which isn't necessarily true.\n",
    "\n",
    "This calculation implies that an agent could place a piece within any row at any given point, which is false.  \n",
    "An example is if an agent wanted to place their first piece in the middle row. Due to gravity, the piece would  \n",
    "drop down to the bottom row.\n",
    "\n",
    "The best `lower bound` on the number of possible positions has been calculated by a computer program to be around _$1.6 * 10^{13}$_  [1].\n",
    "    "
   ]
  },
  {
   "cell_type": "markdown",
   "metadata": {},
   "source": [
    "## Task 2: Game Environment and Random Agent [2 point]\n",
    "\n",
    "Use a numpy character array as the board."
   ]
  },
  {
   "cell_type": "code",
   "execution_count": 2,
   "metadata": {},
   "outputs": [
    {
     "name": "stdout",
     "output_type": "stream",
     "text": [
      "[[' ' ' ' ' ' ' ' ' ' ' ' ' ']\n",
      " [' ' ' ' ' ' ' ' ' ' ' ' ' ']\n",
      " [' ' ' ' ' ' ' ' ' ' ' ' ' ']\n",
      " [' ' ' ' ' ' ' ' ' ' ' ' ' ']\n",
      " [' ' ' ' ' ' ' ' ' ' ' ' ' ']\n",
      " [' ' ' ' ' ' ' ' ' ' ' ' ' ']]\n"
     ]
    }
   ],
   "source": [
    "import numpy as np\n",
    "\n",
    "def empty_board(shape=(6, 7)):\n",
    "    return np.full(shape=shape, fill_value=' ')\n",
    "\n",
    "print(empty_board())"
   ]
  },
  {
   "cell_type": "markdown",
   "metadata": {},
   "source": [
    "Instead of colors for the players use 'x' and 'o' to represent the players. Make sure that your agent functions all have the from: `agent_type(board, player = 'x')`, where board is the current board position and player is the player whose next move it is and who the agent should play."
   ]
  },
  {
   "cell_type": "markdown",
   "metadata": {},
   "source": [
    "Implement the board and helper functions for:\n",
    "\n",
    "* The transition model (result).\n",
    "* The utility function.\n",
    "* Check for terminal states.\n",
    "* A check for available actions.\n",
    "* A function to visualize the board.\n",
    "\n",
    "Make sure that all these functions work with boards of different sizes.\n",
    "\n",
    "Implement an agent that plays randomly and let two random agents play against each other 1000 times. How often does each player win? Is the result expected? "
   ]
  },
  {
   "cell_type": "code",
   "execution_count": null,
   "metadata": {},
   "outputs": [],
   "source": [
    "# Your code/ answer goes here."
   ]
  },
  {
   "cell_type": "code",
   "execution_count": 33,
   "metadata": {},
   "outputs": [],
   "source": [
    "import math\n",
    "\n",
    "board = empty_board()\n",
    "\n",
    "# Add move to the board -------------------------------------------------------------------------- \n",
    "def result(state, player, action):\n",
    "    state = state.copy()\n",
    "    \n",
    "    for row in range(len(state[0])-1,0,-1):\n",
    "        if state[row - 1][action] == ' ':\n",
    "            state[row - 1][action] = player\n",
    "            break\n",
    "            \n",
    "        if row - 1 == -1 and row == 0 and state[row][action] == ' ': \n",
    "            state[row - 1][action] = player\n",
    "            break\n",
    "            \n",
    "        if state[row - 1][action] != ' ' and (row - 1 > 0): continue\n",
    "                \n",
    "    #print(\"--------------- State ---------------\\n\", state)\n",
    "    #print(\"--------------- Player ---------------\\n\", player)\n",
    "    #print(\"--------------- Action ---------------\\n\", action)\n",
    "  \n",
    "    return state\n",
    "\n",
    "# Produce the Belief State* after the given action for a player. ---------------------------------\n",
    "# *Belief State: The set of boards w/ the action & all possible reactions of an opponent.\n",
    "def results(state, action, player = 'x'):\n",
    "    if player == 'x': other = 'o'\n",
    "    else: other = 'x'\n",
    "    \n",
    "    state = state.copy()\n",
    "    \n",
    "    # player's move\n",
    "    valid_move = False\n",
    "    while not valid_move:\n",
    "        for row in range(len(state[0])-1,0,-1):\n",
    "            if state[row - 1][action] == ' ':\n",
    "                state[row - 1][action] = player\n",
    "                valid_move = True\n",
    "                break\n",
    "            \n",
    "            if row - 1 == -1 and row == 0 and state[row][action] == ' ': \n",
    "                state[row - 1][action] = player\n",
    "                valid_move = True\n",
    "                break\n",
    "            \n",
    "            if state[row - 1][action] != ' ' and (row - 1 > 0):\n",
    "                continue\n",
    "            \n",
    "    # opponent reacts\n",
    "    r = list()\n",
    "    o_actions = actions(state)\n",
    "    \n",
    "    # board is full\n",
    "    if len(o_actions) < 1 : return [state]\n",
    "    \n",
    "    for o_a in o_actions:\n",
    "        s = state.copy()\n",
    "        s[o_a] = other\n",
    "        r.append(s)    \n",
    "    \n",
    "    return r\n",
    "\n",
    "def check_win(board):\n",
    "    num_rows, num_cols = board.shape\n",
    "    \n",
    "    # Vertical Check\n",
    "    for row in range(0, num_rows):\n",
    "        for col in range(0, num_cols):\n",
    "            if num_rows - row < 4: break\n",
    "                \n",
    "            if num_rows - row >= 4:\n",
    "                if board[row][col] != ' ':\n",
    "                    if board[row][col] == board[row + 1][col]:\n",
    "                        if board[row + 1][col] == board[row + 2][col]:\n",
    "                            if board[row + 2][col] == board[row + 3][col]:\n",
    "                                return board[row + 3][col]\n",
    "    \n",
    "    # Horizontal Check \n",
    "    half_r = math.ceil((num_rows / 2) - 1)\n",
    "    half_c = math.ceil((num_cols / 2))\n",
    "    for row in range(0, num_rows):\n",
    "        for col in range(0, num_cols):\n",
    "            if num_cols - col >= 0:\n",
    "                if board[row][col] != ' ':\n",
    "                    if board[row][col] == board[row][col + 1]:\n",
    "                        if board[row][col + 1] == board[row][col + 2]:\n",
    "                            if board[row][col + 2] == board[row][col + 3]:\n",
    "                                return board[row][col]\n",
    "    \n",
    "    # Diagonal Check : BottomLeft to TopRight                   \n",
    "    for row in range(num_rows - 1, 2, -1):\n",
    "        for col in range(half_c):\n",
    "            if board[row][col] != ' ':\n",
    "                if board[row][col] == board[row - 1][col + 1]:\n",
    "                    if board[row -1][col + 1] == board[row - 2][col + 2]:\n",
    "                        if board[row - 2][col + 2] == board[row - 3][col + 3]: \n",
    "                            return board[row][col]\n",
    "                        \n",
    "    # Diagonal Check : TopLeft to BottomRight                    \n",
    "    for row in range(half_r + 1):\n",
    "        for col in range(half_c + 1):\n",
    "            if board[row][col] != ' ':\n",
    "                if board[row][col] == board[row + 1][col + 1]:\n",
    "                    if board[row + 1][col + 1] == board[row + 2][col + 2]:\n",
    "                        if board[row + 2][col + 2] == board[row + 3][col + 3]:\n",
    "                            return board[row][col]\n",
    "                        \n",
    "    # check for draw\n",
    "    if(np.sum(board == ' ') < 1):\n",
    "        return 'd'\n",
    "    \n",
    "    return 'n'\n",
    "                    \n",
    "# Check the board & return : 'x', 'o', 'd' (draw), or n (next move)\n",
    "def check_win2(board):\n",
    "    \n",
    "    for row in range(3):\n",
    "        for col in range(4):\n",
    "            \n",
    "            # Diagonal Check : TopLeft --> BottomRight\n",
    "            if board[row][col] != ' ':\n",
    "                if board[row][col] == board[row + 1][col + 1]:\n",
    "                    if board[row + 1][col + 1] == board[row + 2][col + 2]:\n",
    "                        if board[row + 2][col + 2] == board[row + 3][col + 3]:\n",
    "                            return board[row][col]\n",
    "                        \n",
    "            # Vertical Check : Right Side       \n",
    "            if board[row][col + 3] != ' ':\n",
    "                if board[row + 3][col + 3] == board[row + 2][col + 3]:\n",
    "                    if board[row + 2][col + 3] == board[row + 1][col + 3]:\n",
    "                        if board[row + 1][col + 3] == board[row][col + 3]:\n",
    "                            return board[row][col + 3]\n",
    "                        \n",
    "    for row in range(5, 2, -1):\n",
    "        for col in range(4):\n",
    "            \n",
    "            # Diagonal Check : BottomLeft --> TopRight\n",
    "            if board[row][col] != ' ': \n",
    "                if board[row][col] == board[row - 1][col + 1]:\n",
    "                    if board[row - 1][col + 1] == board[row - 2][col + 2]:\n",
    "                        if board[row - 2][col + 2] == board[row - 3][col + 3]:\n",
    "                            return board[row][col]\n",
    "                        \n",
    "            # Vertical Check : Left Side        \n",
    "            if board[row - 3][col] != ' ':\n",
    "                if board[row][col] == board[row - 1][col]:\n",
    "                    if board[row - 1][col] == board[row - 2][col]:\n",
    "                        if board[row - 2][col] == board[row - 3][col]:\n",
    "                            return board[row - 3][col]       \n",
    "                        \n",
    "    # Horizontal Check \n",
    "    for row in (2, 1, 0):\n",
    "        for col in range(4):\n",
    "            row2 = len(board[0]) - row - 2\n",
    "            \n",
    "            if board[row][col] != ' ': \n",
    "                if board[row][col] == board[row][col + 1]:\n",
    "                    if board[row][col + 1] == board[row][col + 2]:\n",
    "                        if board[row][col + 2] == board[row][col + 3]:\n",
    "                            return str(board[row][col])\n",
    "                        \n",
    "            if board[row2][col] != ' ':\n",
    "                if board[row2][col] == board[row2][col + 1]:\n",
    "                    if board[row2][col + 1] == board[row2][col + 2]:\n",
    "                        if board[row2][col + 2] == board[row2][col + 3]:\n",
    "                            return str(board[row2][col])\n",
    "                \n",
    "    # check for draw\n",
    "    if(np.sum(board == ' ') < 1):\n",
    "        return 'd'\n",
    "    \n",
    "    return 'n'\n",
    "\n",
    "# Returns win/loss (terminal) or false (non-terminal) --------------------------------------------\n",
    "def is_terminal(state, player = 'x', draw_is_win = True):\n",
    "    if player == 'x': other = 'o'\n",
    "    else: other = 'x'\n",
    "    \n",
    "    goal = check_win(state)\n",
    "    if goal == str(player): return 'win' \n",
    "    if goal == 'd': \n",
    "        if draw_is_win: return 'draw' \n",
    "        else: return None \n",
    "    if goal == other: return None  # loss is failure\n",
    "    return False # continue\n",
    "\n",
    "# Return possible actions as a vector of idx's ---------------------------------------------------\n",
    "def actions(board):\n",
    "    valid_columns = []\n",
    "    for i in np.where(np.array(board == ' ')[0]):\n",
    "        valid_columns.append(i)\n",
    "    return np.array(valid_columns)[0]\n",
    "\n",
    "# Display the board ------------------------------------------------------------------------------\n",
    "def show_board(board):\n",
    "    print(board)\n",
    "    # print(np.array(board))"
   ]
  },
  {
   "cell_type": "code",
   "execution_count": 34,
   "metadata": {},
   "outputs": [],
   "source": [
    "# Simple player that chooses a random empty square. Player is unused. ----------------------------  \n",
    "def random_player(board, player = None):\n",
    "    val = np.random.choice(actions(board))\n",
    "    # print(\"Random Pick: \", val)\n",
    "    return val\n",
    "\n",
    "def switch_player(player, x, o):\n",
    "    if player == 'x': return 'o', o\n",
    "    else: return 'x', x\n",
    "\n",
    "# 2 Random Agents, N times\n",
    "def play(x, o, N = 100):\n",
    "    \"\"\" x starts. x & y are agent functions that get the board as the percept and return their next action.\"\"\"\n",
    "    results = {'x': 0, 'o': 0, 'd': 0}\n",
    "    \n",
    "    for i in range(N):\n",
    "        board = empty_board()\n",
    "        player, fun = 'x', x\n",
    "        \n",
    "        while True:\n",
    "            a = fun(board, player)\n",
    "            board = result(board, player, a)\n",
    "            \n",
    "            win = check_win(board)   # returns the 'n' if the game is not done.\n",
    "            if win != 'n':\n",
    "                results[win] += 1\n",
    "                break\n",
    "            \n",
    "            player, fun = switch_player(player, x, o)\n",
    "            \n",
    "            #print(board, \"\\n\")\n",
    "    \n",
    "    return results"
   ]
  },
  {
   "cell_type": "code",
   "execution_count": null,
   "metadata": {},
   "outputs": [],
   "source": [
    "%timeit -n 1 -r 1 display(play(random_player, random_player, N = 1000))"
   ]
  },
  {
   "cell_type": "markdown",
   "metadata": {},
   "source": [
    "Each of the players result in winning about half of all games. This is something that can be expected  \n",
    "when choosing a randomized action."
   ]
  },
  {
   "cell_type": "markdown",
   "metadata": {},
   "source": [
    "## Task 3: Minimax Search with Alpha-Beta Pruning [4 points]\n",
    "\n",
    "### Implement the search starting from a given board and specifying the player.\n",
    "\n"
   ]
  },
  {
   "cell_type": "markdown",
   "metadata": {},
   "source": [
    "__Note:__ The search space for a $6 \\times 7$ board is large. You can experiment with smaller boards (the smallest is $4 \\times 4$) and/or changing the winning rule to connect 3 instead of 4."
   ]
  },
  {
   "cell_type": "code",
   "execution_count": null,
   "metadata": {},
   "outputs": [],
   "source": [
    "# Your code/ answer goes here."
   ]
  },
  {
   "cell_type": "code",
   "execution_count": 45,
   "metadata": {},
   "outputs": [
    {
     "name": "stdout",
     "output_type": "stream",
     "text": [
      "[[' ' ' ' ' ' ' ' ' ' ' ' ' ']\n",
      " [' ' ' ' ' ' ' ' ' ' ' ' ' ']\n",
      " [' ' ' ' ' ' ' ' ' ' ' ' ' ']\n",
      " [' ' ' ' ' ' ' ' ' ' ' ' ' ']\n",
      " [' ' ' ' ' ' ' ' ' ' ' ' ' ']\n",
      " ['x' 'x' 'x' 'x' ' ' ' ' ' ']]\n",
      "\n",
      "H:  4\n",
      "   ==> [ 0 , 0 ] | Check:  7  >= 0\n",
      "   ==> [ 0 , 1 ] | Check:  6  >= 0\n",
      "   ==> [ 0 , 2 ] | Check:  5  >= 0\n",
      "   ==> [ 0 , 3 ] | Check:  4  >= 0\n",
      "   ==> [ 0 , 4 ] | Check:  3  >= 0\n",
      "   ==> [ 0 , 5 ] | Check:  2  >= 0\n",
      "   ==> [ 0 , 6 ] | Check:  1  >= 0\n",
      "   ==> [ 1 , 0 ] | Check:  7  >= 0\n",
      "   ==> [ 1 , 1 ] | Check:  6  >= 0\n",
      "   ==> [ 1 , 2 ] | Check:  5  >= 0\n",
      "   ==> [ 1 , 3 ] | Check:  4  >= 0\n",
      "   ==> [ 1 , 4 ] | Check:  3  >= 0\n",
      "   ==> [ 1 , 5 ] | Check:  2  >= 0\n",
      "   ==> [ 1 , 6 ] | Check:  1  >= 0\n",
      "   ==> [ 2 , 0 ] | Check:  7  >= 0\n",
      "   ==> [ 2 , 1 ] | Check:  6  >= 0\n",
      "   ==> [ 2 , 2 ] | Check:  5  >= 0\n",
      "   ==> [ 2 , 3 ] | Check:  4  >= 0\n",
      "   ==> [ 2 , 4 ] | Check:  3  >= 0\n",
      "   ==> [ 2 , 5 ] | Check:  2  >= 0\n",
      "   ==> [ 2 , 6 ] | Check:  1  >= 0\n",
      "   ==> [ 3 , 0 ] | Check:  7  >= 0\n",
      "   ==> [ 3 , 1 ] | Check:  6  >= 0\n",
      "   ==> [ 3 , 2 ] | Check:  5  >= 0\n",
      "   ==> [ 3 , 3 ] | Check:  4  >= 0\n",
      "   ==> [ 3 , 4 ] | Check:  3  >= 0\n",
      "   ==> [ 3 , 5 ] | Check:  2  >= 0\n",
      "   ==> [ 3 , 6 ] | Check:  1  >= 0\n",
      "   ==> [ 4 , 0 ] | Check:  7  >= 0\n",
      "   ==> [ 4 , 1 ] | Check:  6  >= 0\n",
      "   ==> [ 4 , 2 ] | Check:  5  >= 0\n",
      "   ==> [ 4 , 3 ] | Check:  4  >= 0\n",
      "   ==> [ 4 , 4 ] | Check:  3  >= 0\n",
      "   ==> [ 4 , 5 ] | Check:  2  >= 0\n",
      "   ==> [ 4 , 6 ] | Check:  1  >= 0\n",
      "x  ==> [ 5 , 0 ] | Check:  7  >= 0\n",
      "Win?  x\n"
     ]
    }
   ],
   "source": [
    "board = empty_board(shape=(4,4))\n",
    "\n",
    "board[5][0] = 'x'\n",
    "board[5][1] = 'x'\n",
    "board[5][2] = 'x'\n",
    "board[5][3] = 'x'\n",
    "\n",
    "print(board)\n",
    "print()\n",
    "\n",
    "print(\"Win? \", check_win(board))"
   ]
  },
  {
   "cell_type": "markdown",
   "metadata": {},
   "source": [
    "Experiment with some manually created boards (at least 5) to check if the agent spots winning opportunities."
   ]
  },
  {
   "cell_type": "code",
   "execution_count": null,
   "metadata": {},
   "outputs": [],
   "source": [
    "# Your code/ answer goes here."
   ]
  },
  {
   "cell_type": "markdown",
   "metadata": {},
   "source": [
    "How long does it take to make a move? Start with a smaller board with 4 columns and make the board larger by adding columns."
   ]
  },
  {
   "cell_type": "code",
   "execution_count": null,
   "metadata": {},
   "outputs": [],
   "source": [
    "# Your code/ answer goes here."
   ]
  },
  {
   "cell_type": "markdown",
   "metadata": {},
   "source": [
    "### Move ordering\n",
    "\n",
    "Describe and implement a simple move ordering strategy. How does this strategy influence the time it takes to \n",
    "make a move?"
   ]
  },
  {
   "cell_type": "code",
   "execution_count": null,
   "metadata": {},
   "outputs": [],
   "source": [
    "# Your code/ answer goes here."
   ]
  },
  {
   "cell_type": "markdown",
   "metadata": {},
   "source": [
    "### Playtime\n",
    "\n",
    "Let the Minimax Search agent play a random agent on a small board. Analyze wins, losses and draws."
   ]
  },
  {
   "cell_type": "code",
   "execution_count": null,
   "metadata": {},
   "outputs": [],
   "source": [
    "# Your code/ answer goes here."
   ]
  },
  {
   "cell_type": "markdown",
   "metadata": {},
   "source": [
    "## Task 4: Heuristic Alpha-Beta Tree Search [3 points] \n",
    "\n",
    "### Heuristic evaluation function\n",
    "\n",
    "Define and implement a heuristic evaluation function."
   ]
  },
  {
   "cell_type": "code",
   "execution_count": null,
   "metadata": {},
   "outputs": [],
   "source": [
    "# Your code/ answer goes here."
   ]
  },
  {
   "cell_type": "markdown",
   "metadata": {},
   "source": [
    "### Cutting off search \n",
    "\n",
    "Modify your Minimax Search with Alpha-Beta Pruning to cut off search at a specified depth and use the heuristic evaluation function. Experiment with different cutoff values."
   ]
  },
  {
   "cell_type": "code",
   "execution_count": null,
   "metadata": {},
   "outputs": [],
   "source": [
    "# Your code/ answer goes here."
   ]
  },
  {
   "cell_type": "markdown",
   "metadata": {},
   "source": [
    "Experiment with the same manually created boards as above to check if the agent spots wining opportunities."
   ]
  },
  {
   "cell_type": "code",
   "execution_count": null,
   "metadata": {},
   "outputs": [],
   "source": [
    "# Your code/ answer goes here."
   ]
  },
  {
   "cell_type": "markdown",
   "metadata": {},
   "source": [
    "How long does it take to make a move? Start with a smaller board with 4 columns and make the board larger by adding columns."
   ]
  },
  {
   "cell_type": "code",
   "execution_count": null,
   "metadata": {},
   "outputs": [],
   "source": [
    "# Your code/ answer goes here."
   ]
  },
  {
   "cell_type": "markdown",
   "metadata": {},
   "source": [
    "### Playtime\n",
    "\n",
    "Let two heuristic search agents (different cutoff depth, different heuristic evaluation function) compete against each other on a reasonably sized board. Since there is no randomness, you only need to let them play once."
   ]
  },
  {
   "cell_type": "code",
   "execution_count": null,
   "metadata": {},
   "outputs": [],
   "source": [
    "# Your code/ answer goes here."
   ]
  },
  {
   "cell_type": "markdown",
   "metadata": {},
   "source": [
    "## Challenge task [+ 1 bonus point]\n",
    "\n",
    "Find another student and let your best agent play against the other student's best player. We will set up a class tournament on Canvas. This tournament will continue after the submission deadline."
   ]
  },
  {
   "cell_type": "markdown",
   "metadata": {},
   "source": [
    "## Graduate student advanced task: Pure Monte Carlo Search and Best First Move [1 point]\n",
    "\n",
    "__Undergraduate students:__ This is a bonus task you can attempt if you like [+1 Bonus point].\n",
    "\n",
    "### Pure Monte Carlos Search\n",
    "\n",
    "Implement Pure Monte Carlo Search and investigate how this search performs on the test boards that you have used above. "
   ]
  },
  {
   "cell_type": "code",
   "execution_count": null,
   "metadata": {},
   "outputs": [],
   "source": [
    "# Your code/ answer goes here."
   ]
  },
  {
   "cell_type": "markdown",
   "metadata": {},
   "source": [
    "### Best First Move\n",
    "\n",
    "How would you determine what the best first move is? You can use Pure Monte Carlo Search or any algorithms \n",
    "that you have implemented above."
   ]
  },
  {
   "cell_type": "code",
   "execution_count": null,
   "metadata": {},
   "outputs": [],
   "source": [
    "# Your code/ answer goes here."
   ]
  },
  {
   "cell_type": "markdown",
   "metadata": {},
   "source": [
    "\n",
    "--------------\n",
    "\n",
    "_References_\n",
    "\n",
    "[1]\n",
    "“Connect Four,” 2010. [Online]. Available: https://web.mit.edu/sp.268/www/2010/connectFourSlides.pdf.\n",
    "‌"
   ]
  },
  {
   "cell_type": "code",
   "execution_count": null,
   "metadata": {},
   "outputs": [],
   "source": []
  }
 ],
 "metadata": {
  "kernelspec": {
   "display_name": "Python 3",
   "language": "python",
   "name": "python3"
  },
  "language_info": {
   "codemirror_mode": {
    "name": "ipython",
    "version": 3
   },
   "file_extension": ".py",
   "mimetype": "text/x-python",
   "name": "python",
   "nbconvert_exporter": "python",
   "pygments_lexer": "ipython3",
   "version": "3.8.8"
  }
 },
 "nbformat": 4,
 "nbformat_minor": 4
}
