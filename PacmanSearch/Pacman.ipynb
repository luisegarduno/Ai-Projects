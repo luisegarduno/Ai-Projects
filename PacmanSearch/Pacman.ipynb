{
 "cells": [
  {
   "cell_type": "markdown",
   "id": "soviet-prototype",
   "metadata": {},
   "source": [
    "## Welcome to Pacman\n",
    "\n",
    "After downloading the code\n",
    "<a href=\"https://inst.eecs.berkeley.edu/~cs188/fa20/assets/files/search.zip\" target=\"_top\"> <b>(`search.zip`)</b></a>, unzipping it, and changing to the directory, you should be able to play a game of Pacman by typing the following at the command line:"
   ]
  },
  {
   "cell_type": "code",
   "execution_count": 1,
   "id": "earned-england",
   "metadata": {},
   "outputs": [
    {
     "name": "stdout",
     "output_type": "stream",
     "text": [
      "Pacman died! Score: 382\n",
      "Average Score: 382.0\n",
      "Scores:        382.0\n",
      "Win Rate:      0/1 (0.00)\n",
      "Record:        Loss\n"
     ]
    }
   ],
   "source": [
    "%run pacman.py"
   ]
  },
  {
   "cell_type": "markdown",
   "id": "contemporary-exchange",
   "metadata": {},
   "source": [
    "\n",
    "\n",
    "--------\n",
    "\n",
    "\n",
    "Pacman lives in a shiny blue world of twisting corridors and tasty round treats. Navigating this world efficiently will be Pacman’s first step in mastering his domain.\n",
    "\n",
    "The simplest agent in `searchAgents.py` is called the `GoWestAgent`, which always goes West (a trivial reflex agent). This agent can occasionally win:"
   ]
  },
  {
   "cell_type": "code",
   "execution_count": 2,
   "id": "ordinary-roommate",
   "metadata": {},
   "outputs": [
    {
     "name": "stdout",
     "output_type": "stream",
     "text": [
      "Pacman emerges victorious! Score: 503\n",
      "Average Score: 503.0\n",
      "Scores:        503.0\n",
      "Win Rate:      1/1 (1.00)\n",
      "Record:        Win\n"
     ]
    }
   ],
   "source": [
    "%run pacman.py --layout testMaze --pacman GoWestAgent"
   ]
  },
  {
   "cell_type": "markdown",
   "id": "expected-spanish",
   "metadata": {},
   "source": [
    "But, things get ugly for this agent when turning is required:"
   ]
  },
  {
   "cell_type": "code",
   "execution_count": null,
   "id": "disciplinary-terrain",
   "metadata": {},
   "outputs": [],
   "source": [
    "%run pacman.py --layout tinyMaze --pacman GoWestAgent"
   ]
  },
  {
   "cell_type": "markdown",
   "id": "unusual-plumbing",
   "metadata": {},
   "source": [
    "If Pacman gets stuck, you can exit the game by typing CTRL-c into your terminal.\n",
    "\n",
    "Soon, your agent will solve not only tinyMaze, but any maze you want.\n",
    "\n",
    "Note that `pacman.py` supports a number of options that can each be expressed in a long way\n",
    "(e.g., `--layout`) or a short way (e.g., `-l`). You can see the list of all options and their default values via: %run pacman.py -h\n",
    "\n",
    "Also, all of the commands that appear in this project also appear in `commands.txt`, for\n",
    "easy copying and pasting. In UNIX/Mac OS X, you can even run all these commands in order\n",
    "with `bash commands.txt`.\n",
    "\n",
    "--------------------"
   ]
  },
  {
   "cell_type": "markdown",
   "id": "tested-survival",
   "metadata": {},
   "source": [
    "## Question 1 (3 points): Finding a Fixed Food Dot using Depth First Search\n",
    "\n",
    "In `(searchAgents.py)`, you’ll find a fully implemented `(SearchAgent)`, which plans out a path through Pacman’s world and then executes that path step-by-step. The search algorithms for formulating a plan are not implemented – that’s your job.\n",
    "\n",
    "First, test that the `(SearchAgent)` is working correctly by running:\n"
   ]
  },
  {
   "cell_type": "code",
   "execution_count": 3,
   "id": "coastal-thailand",
   "metadata": {},
   "outputs": [
    {
     "name": "stdout",
     "output_type": "stream",
     "text": [
      "[SearchAgent] using function tinyMazeSearch\n",
      "[SearchAgent] using problem type PositionSearchProblem\n",
      "Path found with total cost of 8 in 0.0 seconds\n",
      "Search nodes expanded: 0\n",
      "Pacman emerges victorious! Score: 502\n",
      "Average Score: 502.0\n",
      "Scores:        502.0\n",
      "Win Rate:      1/1 (1.00)\n",
      "Record:        Win\n"
     ]
    }
   ],
   "source": [
    "%run pacman.py -l tinyMaze -p SearchAgent -a fn=tinyMazeSearch"
   ]
  },
  {
   "cell_type": "markdown",
   "id": "elect-experience",
   "metadata": {},
   "source": [
    "The command above tells the `(SearchAgent)` to use `(tinyMazeSearch)` as its search\n",
    "algorithm, which is implemented in `(search.py)`. Pacman should navigate the maze successfully.\n",
    "\n",
    "Now it’s time to write full-fledged generic search functions to help Pacman plan routes! Pseudocode for the search algorithms you’ll write can be found in the lecture slides. Remember that a search node must contain not only a state but also the information necessary to reconstruct the path (plan) which gets to that state.\n",
    "\n",
    "__*Important note*__: All of your search functions need to return a list of actions that\n",
    "will lead the agent from the start to the goal. These actions all have to be legal moves (valid directions, no moving through walls).\n",
    "\n",
    "__*Important note:*__ Make sure to __use__ the `(Stack)`, `(Queue)` and `(PriorityQueue)` data structures provided to you in util.py! These data structure implementations have particular\n",
    "properties which are required for compatibility with the autograder.\n",
    "\n",
    "*Hint:* Each algorithm is very similar. Algorithms for DFS, BFS, UCS, and A* differ only in the details of how the fringe is managed. So, concentrate on getting DFS right and the rest should be relatively straightforward. Indeed, one possible implementation requires only a single generic search method which is configured with an algorithm-specific queuing strategy. (Your implementation need not be of this form to receive full credit).\n",
    "\n",
    "Implement the depth-first search (DFS) algorithm in the `(depthFirstSearch)` function in\n",
    "`(search.py)`. To make your algorithm complete, write the graph search version of DFS, which avoids expanding any already visited states.\n",
    "\n",
    "Your code should quickly find a solution for:"
   ]
  },
  {
   "cell_type": "code",
   "execution_count": null,
   "id": "expressed-commissioner",
   "metadata": {},
   "outputs": [],
   "source": [
    "%run pacman.py -l tinyMaze -p SearchAgent"
   ]
  },
  {
   "cell_type": "code",
   "execution_count": null,
   "id": "rising-waste",
   "metadata": {},
   "outputs": [],
   "source": [
    "%run pacman.py -l mediumMaze -p SearchAgent"
   ]
  },
  {
   "cell_type": "code",
   "execution_count": null,
   "id": "binary-cheese",
   "metadata": {},
   "outputs": [],
   "source": [
    "%run pacman.py -l bigMaze -z .5 -p SearchAgent"
   ]
  },
  {
   "cell_type": "markdown",
   "id": "natural-clearance",
   "metadata": {},
   "source": [
    "The Pacman board will show an overlay of the states explored, and the order in which they were explored (brighter red means earlier exploration). Is the exploration order what you would have expected? Does Pacman actually go to all the explored squares on his way to the goal?\n",
    "\n",
    "Hint: If you use a (`Stack`) as your data structure, the solution found by your DFS algorithm for (`mediumMaze`) should have a length of 130 (provided you push successors onto the fringe in the order provided by getSuccessors; you might get 246 if you push them in the reverse order). Is this a least cost solution? If not, think about what depth-first search is doing wrong.\n",
    "\n",
    "Grading: Please run the below command to see if your implementation passes all the autograder test cases."
   ]
  },
  {
   "cell_type": "code",
   "execution_count": null,
   "id": "satisfactory-chile",
   "metadata": {},
   "outputs": [],
   "source": [
    "%run autograder.py -q q1"
   ]
  },
  {
   "cell_type": "markdown",
   "id": "certified-panama",
   "metadata": {},
   "source": [
    "--------------\n",
    "\n",
    "## Question 2 (3 points): Breadth First Search\n",
    "\n",
    "Implement the breadth-first search (BFS) algorithm in the (`breadthFirstSearch`) function in (`search.py`). Again, write a graph search algorithm that avoids expanding any already visited states. Test your code the same way you did for depth-first search."
   ]
  },
  {
   "cell_type": "code",
   "execution_count": 4,
   "id": "treated-optics",
   "metadata": {},
   "outputs": [
    {
     "name": "stdout",
     "output_type": "stream",
     "text": [
      "[SearchAgent] using function bfs\n",
      "[SearchAgent] using problem type PositionSearchProblem\n",
      "Path found with total cost of 68 in 0.0 seconds\n",
      "Search nodes expanded: 269\n",
      "Pacman emerges victorious! Score: 442\n",
      "Average Score: 442.0\n",
      "Scores:        442.0\n",
      "Win Rate:      1/1 (1.00)\n",
      "Record:        Win\n"
     ]
    }
   ],
   "source": [
    "%run pacman.py -l mediumMaze -p SearchAgent -a fn=bfs"
   ]
  },
  {
   "cell_type": "code",
   "execution_count": 5,
   "id": "radical-seattle",
   "metadata": {},
   "outputs": [
    {
     "name": "stdout",
     "output_type": "stream",
     "text": [
      "[SearchAgent] using function bfs\n",
      "[SearchAgent] using problem type PositionSearchProblem\n",
      "Path found with total cost of 210 in 0.0 seconds\n",
      "Search nodes expanded: 620\n",
      "Pacman emerges victorious! Score: 300\n",
      "Average Score: 300.0\n",
      "Scores:        300.0\n",
      "Win Rate:      1/1 (1.00)\n",
      "Record:        Win\n"
     ]
    }
   ],
   "source": [
    "%run pacman.py -l bigMaze -p SearchAgent -a fn=bfs -z .5"
   ]
  },
  {
   "cell_type": "markdown",
   "id": "dominant-beast",
   "metadata": {},
   "source": [
    "Does BFS find a least cost solution? If not, check your implementation.\n",
    "\n",
    "*Hint:* If Pacman moves too slowly for you, try the option (`--frameTime 0`).\n",
    "\n",
    "*Note:* If you’ve written your search code generically, your code should work equally well for the eight-puzzle search problem without any changes."
   ]
  },
  {
   "cell_type": "code",
   "execution_count": 6,
   "id": "cognitive-diagram",
   "metadata": {},
   "outputs": [
    {
     "name": "stdout",
     "output_type": "stream",
     "text": [
      "A random puzzle:\n",
      "-------------\n",
      "| 3 | 1 | 2 |\n",
      "-------------\n",
      "|   | 8 | 7 |\n",
      "-------------\n",
      "| 4 | 6 | 5 |\n",
      "-------------\n",
      "BFS found a path of 9 moves: ['down', 'right', 'up', 'right', 'down', 'left', 'up', 'left', 'up']\n",
      "After 1 move: down\n",
      "-------------\n",
      "| 3 | 1 | 2 |\n",
      "-------------\n",
      "| 4 | 8 | 7 |\n",
      "-------------\n",
      "|   | 6 | 5 |\n",
      "-------------\n"
     ]
    },
    {
     "name": "stdin",
     "output_type": "stream",
     "text": [
      "Press return for the next state... \n"
     ]
    },
    {
     "name": "stdout",
     "output_type": "stream",
     "text": [
      "After 2 moves: right\n",
      "-------------\n",
      "| 3 | 1 | 2 |\n",
      "-------------\n",
      "| 4 | 8 | 7 |\n",
      "-------------\n",
      "| 6 |   | 5 |\n",
      "-------------\n"
     ]
    },
    {
     "name": "stdin",
     "output_type": "stream",
     "text": [
      "Press return for the next state... \n"
     ]
    },
    {
     "name": "stdout",
     "output_type": "stream",
     "text": [
      "After 3 moves: up\n",
      "-------------\n",
      "| 3 | 1 | 2 |\n",
      "-------------\n",
      "| 4 |   | 7 |\n",
      "-------------\n",
      "| 6 | 8 | 5 |\n",
      "-------------\n"
     ]
    },
    {
     "name": "stdin",
     "output_type": "stream",
     "text": [
      "Press return for the next state... \n"
     ]
    },
    {
     "name": "stdout",
     "output_type": "stream",
     "text": [
      "After 4 moves: right\n",
      "-------------\n",
      "| 3 | 1 | 2 |\n",
      "-------------\n",
      "| 4 | 7 |   |\n",
      "-------------\n",
      "| 6 | 8 | 5 |\n",
      "-------------\n"
     ]
    },
    {
     "name": "stdin",
     "output_type": "stream",
     "text": [
      "Press return for the next state... \n"
     ]
    },
    {
     "name": "stdout",
     "output_type": "stream",
     "text": [
      "After 5 moves: down\n",
      "-------------\n",
      "| 3 | 1 | 2 |\n",
      "-------------\n",
      "| 4 | 7 | 5 |\n",
      "-------------\n",
      "| 6 | 8 |   |\n",
      "-------------\n"
     ]
    },
    {
     "name": "stdin",
     "output_type": "stream",
     "text": [
      "Press return for the next state... \n"
     ]
    },
    {
     "name": "stdout",
     "output_type": "stream",
     "text": [
      "After 6 moves: left\n",
      "-------------\n",
      "| 3 | 1 | 2 |\n",
      "-------------\n",
      "| 4 | 7 | 5 |\n",
      "-------------\n",
      "| 6 |   | 8 |\n",
      "-------------\n"
     ]
    },
    {
     "name": "stdin",
     "output_type": "stream",
     "text": [
      "Press return for the next state... \n"
     ]
    },
    {
     "name": "stdout",
     "output_type": "stream",
     "text": [
      "After 7 moves: up\n",
      "-------------\n",
      "| 3 | 1 | 2 |\n",
      "-------------\n",
      "| 4 |   | 5 |\n",
      "-------------\n",
      "| 6 | 7 | 8 |\n",
      "-------------\n"
     ]
    },
    {
     "name": "stdin",
     "output_type": "stream",
     "text": [
      "Press return for the next state... \n"
     ]
    },
    {
     "name": "stdout",
     "output_type": "stream",
     "text": [
      "After 8 moves: left\n",
      "-------------\n",
      "| 3 | 1 | 2 |\n",
      "-------------\n",
      "|   | 4 | 5 |\n",
      "-------------\n",
      "| 6 | 7 | 8 |\n",
      "-------------\n"
     ]
    },
    {
     "name": "stdin",
     "output_type": "stream",
     "text": [
      "Press return for the next state... \n"
     ]
    },
    {
     "name": "stdout",
     "output_type": "stream",
     "text": [
      "After 9 moves: up\n",
      "-------------\n",
      "|   | 1 | 2 |\n",
      "-------------\n",
      "| 3 | 4 | 5 |\n",
      "-------------\n",
      "| 6 | 7 | 8 |\n",
      "-------------\n"
     ]
    },
    {
     "name": "stdin",
     "output_type": "stream",
     "text": [
      "Press return for the next state... \n"
     ]
    }
   ],
   "source": [
    "%run eightpuzzle.py"
   ]
  },
  {
   "cell_type": "markdown",
   "id": "verbal-legend",
   "metadata": {},
   "source": [
    "*Grading:* Please run the below command to see if your implementation passes all the autograder test cases."
   ]
  },
  {
   "cell_type": "code",
   "execution_count": 7,
   "id": "nervous-darkness",
   "metadata": {},
   "outputs": [
    {
     "name": "stdout",
     "output_type": "stream",
     "text": [
      "Starting on 3-13 at 5:28:21\n",
      "\n",
      "Question q2\n",
      "===========\n",
      "*** PASS: test_cases/q2/graph_backtrack.test\n",
      "*** FAIL: Exception raised: module 'cgi' has no attribute 'escape'\n"
     ]
    },
    {
     "ename": "AttributeError",
     "evalue": "module 'cgi' has no attribute 'escape'",
     "output_type": "error",
     "traceback": [
      "\u001b[0;31m---------------------------------------------------------------------------\u001b[0m",
      "\u001b[0;31mAttributeError\u001b[0m                            Traceback (most recent call last)",
      "\u001b[0;32m~/pogU/Desktop/ML/Ai-Projects/PacmanSearch/grading.py\u001b[0m in \u001b[0;36mgrade\u001b[0;34m(self, gradingModule, exceptionMap, bonusPic)\u001b[0m\n\u001b[1;32m     77\u001b[0m       \u001b[0;32mtry\u001b[0m\u001b[0;34m:\u001b[0m\u001b[0;34m\u001b[0m\u001b[0;34m\u001b[0m\u001b[0m\n\u001b[0;32m---> 78\u001b[0;31m         \u001b[0mutil\u001b[0m\u001b[0;34m.\u001b[0m\u001b[0mTimeoutFunction\u001b[0m\u001b[0;34m(\u001b[0m\u001b[0mgetattr\u001b[0m\u001b[0;34m(\u001b[0m\u001b[0mgradingModule\u001b[0m\u001b[0;34m,\u001b[0m \u001b[0mq\u001b[0m\u001b[0;34m)\u001b[0m\u001b[0;34m,\u001b[0m\u001b[0;36m1800\u001b[0m\u001b[0;34m)\u001b[0m\u001b[0;34m(\u001b[0m\u001b[0mself\u001b[0m\u001b[0;34m)\u001b[0m \u001b[0;31m# Call the question's function\u001b[0m\u001b[0;34m\u001b[0m\u001b[0;34m\u001b[0m\u001b[0m\n\u001b[0m\u001b[1;32m     79\u001b[0m         \u001b[0;31m#TimeoutFunction(getattr(gradingModule, q),1200)(self) # Call the question's function\u001b[0m\u001b[0;34m\u001b[0m\u001b[0;34m\u001b[0m\u001b[0;34m\u001b[0m\u001b[0m\n",
      "\u001b[0;32m~/pogU/Desktop/ML/Ai-Projects/PacmanSearch/util.py\u001b[0m in \u001b[0;36m__call__\u001b[0;34m(self, *args, **keyArgs)\u001b[0m\n\u001b[1;32m    630\u001b[0m             \u001b[0;32mtry\u001b[0m\u001b[0;34m:\u001b[0m\u001b[0;34m\u001b[0m\u001b[0;34m\u001b[0m\u001b[0m\n\u001b[0;32m--> 631\u001b[0;31m                 \u001b[0mresult\u001b[0m \u001b[0;34m=\u001b[0m \u001b[0mself\u001b[0m\u001b[0;34m.\u001b[0m\u001b[0mfunction\u001b[0m\u001b[0;34m(\u001b[0m\u001b[0;34m*\u001b[0m\u001b[0margs\u001b[0m\u001b[0;34m,\u001b[0m \u001b[0;34m**\u001b[0m\u001b[0mkeyArgs\u001b[0m\u001b[0;34m)\u001b[0m\u001b[0;34m\u001b[0m\u001b[0;34m\u001b[0m\u001b[0m\n\u001b[0m\u001b[1;32m    632\u001b[0m             \u001b[0;32mfinally\u001b[0m\u001b[0;34m:\u001b[0m\u001b[0;34m\u001b[0m\u001b[0;34m\u001b[0m\u001b[0m\n",
      "\u001b[0;32m~/pogU/Desktop/ML/Ai-Projects/PacmanSearch/autograder.py\u001b[0m in \u001b[0;36m<lambda>\u001b[0;34m(grades)\u001b[0m\n\u001b[1;32m    299\u001b[0m         \u001b[0;32mdef\u001b[0m \u001b[0mmakefun\u001b[0m\u001b[0;34m(\u001b[0m\u001b[0mquestion\u001b[0m\u001b[0;34m)\u001b[0m\u001b[0;34m:\u001b[0m\u001b[0;34m\u001b[0m\u001b[0;34m\u001b[0m\u001b[0m\n\u001b[0;32m--> 300\u001b[0;31m             \u001b[0;32mreturn\u001b[0m \u001b[0;32mlambda\u001b[0m \u001b[0mgrades\u001b[0m\u001b[0;34m:\u001b[0m \u001b[0mquestion\u001b[0m\u001b[0;34m.\u001b[0m\u001b[0mexecute\u001b[0m\u001b[0;34m(\u001b[0m\u001b[0mgrades\u001b[0m\u001b[0;34m)\u001b[0m\u001b[0;34m\u001b[0m\u001b[0;34m\u001b[0m\u001b[0m\n\u001b[0m\u001b[1;32m    301\u001b[0m         \u001b[0msetattr\u001b[0m\u001b[0;34m(\u001b[0m\u001b[0msys\u001b[0m\u001b[0;34m.\u001b[0m\u001b[0mmodules\u001b[0m\u001b[0;34m[\u001b[0m\u001b[0m__name__\u001b[0m\u001b[0;34m]\u001b[0m\u001b[0;34m,\u001b[0m \u001b[0mq\u001b[0m\u001b[0;34m,\u001b[0m \u001b[0mmakefun\u001b[0m\u001b[0;34m(\u001b[0m\u001b[0mquestion\u001b[0m\u001b[0;34m)\u001b[0m\u001b[0;34m)\u001b[0m\u001b[0;34m\u001b[0m\u001b[0;34m\u001b[0m\u001b[0m\n",
      "\u001b[0;32m~/pogU/Desktop/ML/Ai-Projects/PacmanSearch/testClasses.py\u001b[0m in \u001b[0;36mexecute\u001b[0;34m(self, grades)\u001b[0m\n\u001b[1;32m     56\u001b[0m         \u001b[0;32mfor\u001b[0m \u001b[0m_\u001b[0m\u001b[0;34m,\u001b[0m \u001b[0mf\u001b[0m \u001b[0;32min\u001b[0m \u001b[0mself\u001b[0m\u001b[0;34m.\u001b[0m\u001b[0mtestCases\u001b[0m\u001b[0;34m:\u001b[0m\u001b[0;34m\u001b[0m\u001b[0;34m\u001b[0m\u001b[0m\n\u001b[0;32m---> 57\u001b[0;31m             \u001b[0;32mif\u001b[0m \u001b[0;32mnot\u001b[0m \u001b[0mf\u001b[0m\u001b[0;34m(\u001b[0m\u001b[0mgrades\u001b[0m\u001b[0;34m)\u001b[0m\u001b[0;34m:\u001b[0m\u001b[0;34m\u001b[0m\u001b[0;34m\u001b[0m\u001b[0m\n\u001b[0m\u001b[1;32m     58\u001b[0m                 \u001b[0mtestsFailed\u001b[0m \u001b[0;34m=\u001b[0m \u001b[0;32mTrue\u001b[0m\u001b[0;34m\u001b[0m\u001b[0;34m\u001b[0m\u001b[0m\n",
      "\u001b[0;32m~/pogU/Desktop/ML/Ai-Projects/PacmanSearch/autograder.py\u001b[0m in \u001b[0;36m<lambda>\u001b[0;34m(grades)\u001b[0m\n\u001b[1;32m    294\u001b[0m                     \u001b[0;32melse\u001b[0m\u001b[0;34m:\u001b[0m\u001b[0;34m\u001b[0m\u001b[0;34m\u001b[0m\u001b[0m\n\u001b[0;32m--> 295\u001b[0;31m                         \u001b[0;32mreturn\u001b[0m \u001b[0;32mlambda\u001b[0m \u001b[0mgrades\u001b[0m\u001b[0;34m:\u001b[0m \u001b[0mtestCase\u001b[0m\u001b[0;34m.\u001b[0m\u001b[0mexecute\u001b[0m\u001b[0;34m(\u001b[0m\u001b[0mgrades\u001b[0m\u001b[0;34m,\u001b[0m \u001b[0mmoduleDict\u001b[0m\u001b[0;34m,\u001b[0m \u001b[0msolutionDict\u001b[0m\u001b[0;34m)\u001b[0m\u001b[0;34m\u001b[0m\u001b[0;34m\u001b[0m\u001b[0m\n\u001b[0m\u001b[1;32m    296\u001b[0m             \u001b[0mquestion\u001b[0m\u001b[0;34m.\u001b[0m\u001b[0maddTestCase\u001b[0m\u001b[0;34m(\u001b[0m\u001b[0mtestCase\u001b[0m\u001b[0;34m,\u001b[0m \u001b[0mmakefun\u001b[0m\u001b[0;34m(\u001b[0m\u001b[0mtestCase\u001b[0m\u001b[0;34m,\u001b[0m \u001b[0msolution_file\u001b[0m\u001b[0;34m)\u001b[0m\u001b[0;34m)\u001b[0m\u001b[0;34m\u001b[0m\u001b[0;34m\u001b[0m\u001b[0m\n",
      "\u001b[0;32m~/pogU/Desktop/ML/Ai-Projects/PacmanSearch/searchTestClasses.py\u001b[0m in \u001b[0;36mexecute\u001b[0;34m(self, grades, moduleDict, solutionDict)\u001b[0m\n\u001b[1;32m    209\u001b[0m         \u001b[0;32mif\u001b[0m \u001b[0msolution\u001b[0m \u001b[0;32min\u001b[0m \u001b[0mgold_solution\u001b[0m \u001b[0;32mand\u001b[0m \u001b[0;34m(\u001b[0m\u001b[0;32mnot\u001b[0m \u001b[0mself\u001b[0m\u001b[0;34m.\u001b[0m\u001b[0mexactExpansionOrder\u001b[0m \u001b[0;32mor\u001b[0m \u001b[0mexpanded_states\u001b[0m \u001b[0;32min\u001b[0m \u001b[0mgold_expanded_states\u001b[0m\u001b[0;34m)\u001b[0m\u001b[0;34m:\u001b[0m\u001b[0;34m\u001b[0m\u001b[0;34m\u001b[0m\u001b[0m\n\u001b[0;32m--> 210\u001b[0;31m             \u001b[0mgrades\u001b[0m\u001b[0;34m.\u001b[0m\u001b[0maddMessage\u001b[0m\u001b[0;34m(\u001b[0m\u001b[0;34m'PASS: %s'\u001b[0m \u001b[0;34m%\u001b[0m \u001b[0mself\u001b[0m\u001b[0;34m.\u001b[0m\u001b[0mpath\u001b[0m\u001b[0;34m)\u001b[0m\u001b[0;34m\u001b[0m\u001b[0;34m\u001b[0m\u001b[0m\n\u001b[0m\u001b[1;32m    211\u001b[0m             \u001b[0mgrades\u001b[0m\u001b[0;34m.\u001b[0m\u001b[0maddMessage\u001b[0m\u001b[0;34m(\u001b[0m\u001b[0;34m'\\tsolution:\\t\\t%s'\u001b[0m \u001b[0;34m%\u001b[0m \u001b[0msolution\u001b[0m\u001b[0;34m)\u001b[0m\u001b[0;34m\u001b[0m\u001b[0;34m\u001b[0m\u001b[0m\n",
      "\u001b[0;32m~/pogU/Desktop/ML/Ai-Projects/PacmanSearch/grading.py\u001b[0m in \u001b[0;36maddMessage\u001b[0;34m(self, message, raw)\u001b[0m\n\u001b[1;32m    293\u001b[0m         \u001b[0;32mif\u001b[0m \u001b[0mself\u001b[0m\u001b[0;34m.\u001b[0m\u001b[0mmute\u001b[0m\u001b[0;34m:\u001b[0m \u001b[0mutil\u001b[0m\u001b[0;34m.\u001b[0m\u001b[0mmutePrint\u001b[0m\u001b[0;34m(\u001b[0m\u001b[0;34m)\u001b[0m\u001b[0;34m\u001b[0m\u001b[0;34m\u001b[0m\u001b[0m\n\u001b[0;32m--> 294\u001b[0;31m         \u001b[0mmessage\u001b[0m \u001b[0;34m=\u001b[0m \u001b[0mcgi\u001b[0m\u001b[0;34m.\u001b[0m\u001b[0mescape\u001b[0m\u001b[0;34m(\u001b[0m\u001b[0mmessage\u001b[0m\u001b[0;34m)\u001b[0m\u001b[0;34m\u001b[0m\u001b[0;34m\u001b[0m\u001b[0m\n\u001b[0m\u001b[1;32m    295\u001b[0m     \u001b[0mself\u001b[0m\u001b[0;34m.\u001b[0m\u001b[0mmessages\u001b[0m\u001b[0;34m[\u001b[0m\u001b[0mself\u001b[0m\u001b[0;34m.\u001b[0m\u001b[0mcurrentQuestion\u001b[0m\u001b[0;34m]\u001b[0m\u001b[0;34m.\u001b[0m\u001b[0mappend\u001b[0m\u001b[0;34m(\u001b[0m\u001b[0mmessage\u001b[0m\u001b[0;34m)\u001b[0m\u001b[0;34m\u001b[0m\u001b[0;34m\u001b[0m\u001b[0m\n",
      "\u001b[0;31mAttributeError\u001b[0m: module 'cgi' has no attribute 'escape'",
      "\nDuring handling of the above exception, another exception occurred:\n",
      "\u001b[0;31mAttributeError\u001b[0m                            Traceback (most recent call last)",
      "\u001b[0;32m~/pogU/Desktop/ML/Ai-Projects/PacmanSearch/autograder.py\u001b[0m in \u001b[0;36m<module>\u001b[0;34m\u001b[0m\n\u001b[1;32m    353\u001b[0m         \u001b[0mrunTest\u001b[0m\u001b[0;34m(\u001b[0m\u001b[0moptions\u001b[0m\u001b[0;34m.\u001b[0m\u001b[0mrunTest\u001b[0m\u001b[0;34m,\u001b[0m \u001b[0mmoduleDict\u001b[0m\u001b[0;34m,\u001b[0m \u001b[0mprintTestCase\u001b[0m\u001b[0;34m=\u001b[0m\u001b[0moptions\u001b[0m\u001b[0;34m.\u001b[0m\u001b[0mprintTestCase\u001b[0m\u001b[0;34m,\u001b[0m \u001b[0mdisplay\u001b[0m\u001b[0;34m=\u001b[0m\u001b[0mgetDisplay\u001b[0m\u001b[0;34m(\u001b[0m\u001b[0;32mTrue\u001b[0m\u001b[0;34m,\u001b[0m \u001b[0moptions\u001b[0m\u001b[0;34m)\u001b[0m\u001b[0;34m)\u001b[0m\u001b[0;34m\u001b[0m\u001b[0;34m\u001b[0m\u001b[0m\n\u001b[1;32m    354\u001b[0m     \u001b[0;32melse\u001b[0m\u001b[0;34m:\u001b[0m\u001b[0;34m\u001b[0m\u001b[0;34m\u001b[0m\u001b[0m\n\u001b[0;32m--> 355\u001b[0;31m         evaluate(options.generateSolutions, options.testRoot, moduleDict,\n\u001b[0m\u001b[1;32m    356\u001b[0m             \u001b[0mgsOutput\u001b[0m\u001b[0;34m=\u001b[0m\u001b[0moptions\u001b[0m\u001b[0;34m.\u001b[0m\u001b[0mgsOutput\u001b[0m\u001b[0;34m,\u001b[0m\u001b[0;34m\u001b[0m\u001b[0;34m\u001b[0m\u001b[0m\n\u001b[1;32m    357\u001b[0m             \u001b[0medxOutput\u001b[0m\u001b[0;34m=\u001b[0m\u001b[0moptions\u001b[0m\u001b[0;34m.\u001b[0m\u001b[0medxOutput\u001b[0m\u001b[0;34m,\u001b[0m \u001b[0mmuteOutput\u001b[0m\u001b[0;34m=\u001b[0m\u001b[0moptions\u001b[0m\u001b[0;34m.\u001b[0m\u001b[0mmuteOutput\u001b[0m\u001b[0;34m,\u001b[0m \u001b[0mprintTestCase\u001b[0m\u001b[0;34m=\u001b[0m\u001b[0moptions\u001b[0m\u001b[0;34m.\u001b[0m\u001b[0mprintTestCase\u001b[0m\u001b[0;34m,\u001b[0m\u001b[0;34m\u001b[0m\u001b[0;34m\u001b[0m\u001b[0m\n",
      "\u001b[0;32m~/pogU/Desktop/ML/Ai-Projects/PacmanSearch/autograder.py\u001b[0m in \u001b[0;36mevaluate\u001b[0;34m(generateSolutions, testRoot, moduleDict, exceptionMap, edxOutput, muteOutput, gsOutput, printTestCase, questionToGrade, display)\u001b[0m\n\u001b[1;32m    309\u001b[0m                 \u001b[0mgrades\u001b[0m\u001b[0;34m.\u001b[0m\u001b[0maddPrereq\u001b[0m\u001b[0;34m(\u001b[0m\u001b[0mq\u001b[0m\u001b[0;34m,\u001b[0m \u001b[0mprereq\u001b[0m\u001b[0;34m)\u001b[0m\u001b[0;34m\u001b[0m\u001b[0;34m\u001b[0m\u001b[0m\n\u001b[1;32m    310\u001b[0m \u001b[0;34m\u001b[0m\u001b[0m\n\u001b[0;32m--> 311\u001b[0;31m     \u001b[0mgrades\u001b[0m\u001b[0;34m.\u001b[0m\u001b[0mgrade\u001b[0m\u001b[0;34m(\u001b[0m\u001b[0msys\u001b[0m\u001b[0;34m.\u001b[0m\u001b[0mmodules\u001b[0m\u001b[0;34m[\u001b[0m\u001b[0m__name__\u001b[0m\u001b[0;34m]\u001b[0m\u001b[0;34m,\u001b[0m \u001b[0mbonusPic\u001b[0m \u001b[0;34m=\u001b[0m \u001b[0mprojectParams\u001b[0m\u001b[0;34m.\u001b[0m\u001b[0mBONUS_PIC\u001b[0m\u001b[0;34m)\u001b[0m\u001b[0;34m\u001b[0m\u001b[0;34m\u001b[0m\u001b[0m\n\u001b[0m\u001b[1;32m    312\u001b[0m     \u001b[0;32mreturn\u001b[0m \u001b[0mgrades\u001b[0m\u001b[0;34m.\u001b[0m\u001b[0mpoints\u001b[0m\u001b[0;34m\u001b[0m\u001b[0;34m\u001b[0m\u001b[0m\n\u001b[1;32m    313\u001b[0m \u001b[0;34m\u001b[0m\u001b[0m\n",
      "\u001b[0;32m~/pogU/Desktop/ML/Ai-Projects/PacmanSearch/grading.py\u001b[0m in \u001b[0;36mgrade\u001b[0;34m(self, gradingModule, exceptionMap, bonusPic)\u001b[0m\n\u001b[1;32m     79\u001b[0m         \u001b[0;31m#TimeoutFunction(getattr(gradingModule, q),1200)(self) # Call the question's function\u001b[0m\u001b[0;34m\u001b[0m\u001b[0;34m\u001b[0m\u001b[0;34m\u001b[0m\u001b[0m\n\u001b[1;32m     80\u001b[0m       \u001b[0;32mexcept\u001b[0m \u001b[0mException\u001b[0m \u001b[0;32mas\u001b[0m \u001b[0minst\u001b[0m\u001b[0;34m:\u001b[0m\u001b[0;34m\u001b[0m\u001b[0;34m\u001b[0m\u001b[0m\n\u001b[0;32m---> 81\u001b[0;31m         \u001b[0mself\u001b[0m\u001b[0;34m.\u001b[0m\u001b[0maddExceptionMessage\u001b[0m\u001b[0;34m(\u001b[0m\u001b[0mq\u001b[0m\u001b[0;34m,\u001b[0m \u001b[0minst\u001b[0m\u001b[0;34m,\u001b[0m \u001b[0mtraceback\u001b[0m\u001b[0;34m)\u001b[0m\u001b[0;34m\u001b[0m\u001b[0;34m\u001b[0m\u001b[0m\n\u001b[0m\u001b[1;32m     82\u001b[0m         \u001b[0mself\u001b[0m\u001b[0;34m.\u001b[0m\u001b[0maddErrorHints\u001b[0m\u001b[0;34m(\u001b[0m\u001b[0mexceptionMap\u001b[0m\u001b[0;34m,\u001b[0m \u001b[0minst\u001b[0m\u001b[0;34m,\u001b[0m \u001b[0mq\u001b[0m\u001b[0;34m[\u001b[0m\u001b[0;36m1\u001b[0m\u001b[0;34m]\u001b[0m\u001b[0;34m)\u001b[0m\u001b[0;34m\u001b[0m\u001b[0;34m\u001b[0m\u001b[0m\n\u001b[1;32m     83\u001b[0m       \u001b[0;32mexcept\u001b[0m\u001b[0;34m:\u001b[0m\u001b[0;34m\u001b[0m\u001b[0;34m\u001b[0m\u001b[0m\n",
      "\u001b[0;32m~/pogU/Desktop/ML/Ai-Projects/PacmanSearch/grading.py\u001b[0m in \u001b[0;36maddExceptionMessage\u001b[0;34m(self, q, inst, traceback)\u001b[0m\n\u001b[1;32m    147\u001b[0m     \u001b[0mwe\u001b[0m \u001b[0mneed\u001b[0m \u001b[0mto\u001b[0m \u001b[0mcgi\u001b[0m\u001b[0;34m.\u001b[0m\u001b[0mescape\u001b[0m \u001b[0mthe\u001b[0m \u001b[0mtraceback\u001b[0m \u001b[0mbut\u001b[0m \u001b[0mwrap\u001b[0m \u001b[0mthe\u001b[0m \u001b[0mexception\u001b[0m \u001b[0;32min\u001b[0m \u001b[0ma\u001b[0m \u001b[0;34m<\u001b[0m\u001b[0mpre\u001b[0m\u001b[0;34m>\u001b[0m \u001b[0mtag\u001b[0m\u001b[0;34m\u001b[0m\u001b[0;34m\u001b[0m\u001b[0m\n\u001b[1;32m    148\u001b[0m     \"\"\"\n\u001b[0;32m--> 149\u001b[0;31m     \u001b[0mself\u001b[0m\u001b[0;34m.\u001b[0m\u001b[0mfail\u001b[0m\u001b[0;34m(\u001b[0m\u001b[0;34m'FAIL: Exception raised: %s'\u001b[0m \u001b[0;34m%\u001b[0m \u001b[0minst\u001b[0m\u001b[0;34m)\u001b[0m\u001b[0;34m\u001b[0m\u001b[0;34m\u001b[0m\u001b[0m\n\u001b[0m\u001b[1;32m    150\u001b[0m     \u001b[0mself\u001b[0m\u001b[0;34m.\u001b[0m\u001b[0maddMessage\u001b[0m\u001b[0;34m(\u001b[0m\u001b[0;34m''\u001b[0m\u001b[0;34m)\u001b[0m\u001b[0;34m\u001b[0m\u001b[0;34m\u001b[0m\u001b[0m\n\u001b[1;32m    151\u001b[0m     \u001b[0;32mfor\u001b[0m \u001b[0mline\u001b[0m \u001b[0;32min\u001b[0m \u001b[0mtraceback\u001b[0m\u001b[0;34m.\u001b[0m\u001b[0mformat_exc\u001b[0m\u001b[0;34m(\u001b[0m\u001b[0;34m)\u001b[0m\u001b[0;34m.\u001b[0m\u001b[0msplit\u001b[0m\u001b[0;34m(\u001b[0m\u001b[0;34m'\\n'\u001b[0m\u001b[0;34m)\u001b[0m\u001b[0;34m:\u001b[0m\u001b[0;34m\u001b[0m\u001b[0;34m\u001b[0m\u001b[0m\n",
      "\u001b[0;32m~/pogU/Desktop/ML/Ai-Projects/PacmanSearch/grading.py\u001b[0m in \u001b[0;36mfail\u001b[0;34m(self, message, raw)\u001b[0m\n\u001b[1;32m    270\u001b[0m     \u001b[0mself\u001b[0m\u001b[0;34m.\u001b[0m\u001b[0msane\u001b[0m \u001b[0;34m=\u001b[0m \u001b[0;32mFalse\u001b[0m\u001b[0;34m\u001b[0m\u001b[0;34m\u001b[0m\u001b[0m\n\u001b[1;32m    271\u001b[0m     \u001b[0mself\u001b[0m\u001b[0;34m.\u001b[0m\u001b[0massignZeroCredit\u001b[0m\u001b[0;34m(\u001b[0m\u001b[0;34m)\u001b[0m\u001b[0;34m\u001b[0m\u001b[0;34m\u001b[0m\u001b[0m\n\u001b[0;32m--> 272\u001b[0;31m     \u001b[0mself\u001b[0m\u001b[0;34m.\u001b[0m\u001b[0maddMessage\u001b[0m\u001b[0;34m(\u001b[0m\u001b[0mmessage\u001b[0m\u001b[0;34m,\u001b[0m \u001b[0mraw\u001b[0m\u001b[0;34m)\u001b[0m\u001b[0;34m\u001b[0m\u001b[0;34m\u001b[0m\u001b[0m\n\u001b[0m\u001b[1;32m    273\u001b[0m \u001b[0;34m\u001b[0m\u001b[0m\n\u001b[1;32m    274\u001b[0m   \u001b[0;32mdef\u001b[0m \u001b[0massignZeroCredit\u001b[0m\u001b[0;34m(\u001b[0m\u001b[0mself\u001b[0m\u001b[0;34m)\u001b[0m\u001b[0;34m:\u001b[0m\u001b[0;34m\u001b[0m\u001b[0;34m\u001b[0m\u001b[0m\n",
      "\u001b[0;32m~/pogU/Desktop/ML/Ai-Projects/PacmanSearch/grading.py\u001b[0m in \u001b[0;36maddMessage\u001b[0;34m(self, message, raw)\u001b[0m\n\u001b[1;32m    292\u001b[0m         \u001b[0mprint\u001b[0m\u001b[0;34m(\u001b[0m\u001b[0;34m'*** '\u001b[0m \u001b[0;34m+\u001b[0m \u001b[0mmessage\u001b[0m\u001b[0;34m)\u001b[0m\u001b[0;34m\u001b[0m\u001b[0;34m\u001b[0m\u001b[0m\n\u001b[1;32m    293\u001b[0m         \u001b[0;32mif\u001b[0m \u001b[0mself\u001b[0m\u001b[0;34m.\u001b[0m\u001b[0mmute\u001b[0m\u001b[0;34m:\u001b[0m \u001b[0mutil\u001b[0m\u001b[0;34m.\u001b[0m\u001b[0mmutePrint\u001b[0m\u001b[0;34m(\u001b[0m\u001b[0;34m)\u001b[0m\u001b[0;34m\u001b[0m\u001b[0;34m\u001b[0m\u001b[0m\n\u001b[0;32m--> 294\u001b[0;31m         \u001b[0mmessage\u001b[0m \u001b[0;34m=\u001b[0m \u001b[0mcgi\u001b[0m\u001b[0;34m.\u001b[0m\u001b[0mescape\u001b[0m\u001b[0;34m(\u001b[0m\u001b[0mmessage\u001b[0m\u001b[0;34m)\u001b[0m\u001b[0;34m\u001b[0m\u001b[0;34m\u001b[0m\u001b[0m\n\u001b[0m\u001b[1;32m    295\u001b[0m     \u001b[0mself\u001b[0m\u001b[0;34m.\u001b[0m\u001b[0mmessages\u001b[0m\u001b[0;34m[\u001b[0m\u001b[0mself\u001b[0m\u001b[0;34m.\u001b[0m\u001b[0mcurrentQuestion\u001b[0m\u001b[0;34m]\u001b[0m\u001b[0;34m.\u001b[0m\u001b[0mappend\u001b[0m\u001b[0;34m(\u001b[0m\u001b[0mmessage\u001b[0m\u001b[0;34m)\u001b[0m\u001b[0;34m\u001b[0m\u001b[0;34m\u001b[0m\u001b[0m\n\u001b[1;32m    296\u001b[0m \u001b[0;34m\u001b[0m\u001b[0m\n",
      "\u001b[0;31mAttributeError\u001b[0m: module 'cgi' has no attribute 'escape'"
     ]
    }
   ],
   "source": [
    "%run autograder.py -q q2"
   ]
  },
  {
   "cell_type": "markdown",
   "id": "latest-shakespeare",
   "metadata": {},
   "source": [
    "------------------------------\n",
    "\n",
    "## Question 3 (3 points): Varying the Cost Function\n",
    "\n",
    "While BFS will find a fewest-actions path to the goal, we might want to find paths that are “best” in other senses. Consider (`mediumDottedMaze`) and (`mediumScaryMaze`).\n",
    "\n",
    "By changing the cost function, we can encourage Pacman to find different paths. For example, we can charge more for dangerous steps in ghost-ridden areas or less for steps in food-rich areas, and a rational Pacman agent should adjust its behavior in response.\n",
    "\n",
    "Implement the uniform-cost graph search algorithm in the (`uniformCostSearch`) function in (`search.py`). We encourage you to look through (`util.py`) for some data structures that may be useful in your implementation. You should now observe successful behavior in all three of the following layouts, where the agents below are all UCS agents that differ only in the cost function they use (the agents and cost functions are written for you):"
   ]
  },
  {
   "cell_type": "code",
   "execution_count": null,
   "id": "buried-creation",
   "metadata": {},
   "outputs": [],
   "source": [
    "%run pacman.py -l mediumMaze -p SearchAgent -a fn=ucs"
   ]
  },
  {
   "cell_type": "code",
   "execution_count": null,
   "id": "sapphire-passenger",
   "metadata": {},
   "outputs": [],
   "source": [
    "%run pacman.py -l mediumDottedMaze -p StayEastSearchAgent"
   ]
  },
  {
   "cell_type": "code",
   "execution_count": null,
   "id": "affiliated-philadelphia",
   "metadata": {},
   "outputs": [],
   "source": [
    "%run pacman.py -l mediumScaryMaze -p StayWestSearchAgent"
   ]
  },
  {
   "cell_type": "markdown",
   "id": "opponent-graham",
   "metadata": {},
   "source": [
    "*Note:* You should get very low and very high path costs for the (`StayEastSearchAgent`) and (`StayWestSearchAgent`) respectively, due to their exponential cost functions (see searchAgents.py for details).\n",
    "\n",
    "*Grading:* Please run the below command to see if your implementation passes all the autograder test cases."
   ]
  },
  {
   "cell_type": "code",
   "execution_count": null,
   "id": "standard-parallel",
   "metadata": {},
   "outputs": [],
   "source": [
    "%run autograder.py -q q3"
   ]
  },
  {
   "cell_type": "markdown",
   "id": "green-footage",
   "metadata": {},
   "source": [
    "------------------------\n",
    "\n",
    "## Question 4 (3 points): A* Search\n",
    "\n",
    "Implement A* graph search in the empty function (`aStarSearch`) in (`search.py`). A* takes a heuristic function as an argument. Heuristics take two arguments: a state in the search problem (the main argument), and the problem itself (for reference information). The nullHeuristic heuristic function in (`search.py`) is a trivial example.\n",
    "\n",
    "You can test your A* implementation on the original problem of finding a path through a maze\n",
    "to a fixed position using the Manhattan distance heuristic (implemented already as\n",
    "(`manhattanHeuristic`) in (`searchAgents.py`))."
   ]
  },
  {
   "cell_type": "code",
   "execution_count": null,
   "id": "married-reasoning",
   "metadata": {},
   "outputs": [],
   "source": [
    "%run pacman.py -l bigMaze -z .5 -p SearchAgent -a fn=astar,heuristic=manhattanHeuristic"
   ]
  },
  {
   "cell_type": "markdown",
   "id": "smart-above",
   "metadata": {},
   "source": [
    "You should see that A* finds the optimal solution slightly faster than uniform cost search (about 549 vs. 620 search nodes expanded in our implementation, but ties in priority may make your numbers differ slightly). What happens on (`openMaze`) for the various search strategies?\n",
    "\n",
    "*Grading:* Please run the below command to see if your implementation passes all the autograder test cases."
   ]
  },
  {
   "cell_type": "code",
   "execution_count": null,
   "id": "stunning-nicaragua",
   "metadata": {},
   "outputs": [],
   "source": [
    "%run autograder.py -q q4"
   ]
  },
  {
   "cell_type": "markdown",
   "id": "living-project",
   "metadata": {},
   "source": [
    "----------------------------------------\n",
    "\n",
    "## Question 5 (3 points): Finding All the Corners\n",
    "\n",
    "The real power of A* will only be apparent with a more challenging search problem. Now, it’s time to formulate a new problem and design a heuristic for it.\n",
    "\n",
    "In corner mazes, there are four dots, one in each corner. Our new search problem is to find\n",
    "the shortest path through the maze that touches all four corners (whether the maze actually\n",
    "has food there or not). Note that for some mazes like (`tinyCorners`), the shortest path\n",
    "does not always go to the closest food first! Hint: the shortest path through\n",
    "(`tinyCorners`) takes 28 steps.\n",
    "\n",
    "*Note: Make sure to complete Question 2 before working on Question 5, because Question 5\n",
    "builds upon your answer for Question 2.*\n",
    "\n",
    "Implement the (`CornersProblem`) search problem in (`searchAgents.py`). You will need to choose a state representation that encodes all the information necessary to detect whether all four corners have been reached. Now, your search agent should solve:"
   ]
  },
  {
   "cell_type": "code",
   "execution_count": null,
   "id": "impressive-holmes",
   "metadata": {},
   "outputs": [],
   "source": [
    "%run pacman.py -l tinyCorners -p SearchAgent -a fn=bfs,prob=CornersProblem"
   ]
  },
  {
   "cell_type": "code",
   "execution_count": null,
   "id": "bronze-appliance",
   "metadata": {},
   "outputs": [],
   "source": [
    "%run pacman.py -l mediumCorners -p SearchAgent -a fn=bfs,prob=CornersProblem"
   ]
  },
  {
   "cell_type": "markdown",
   "id": "reverse-essay",
   "metadata": {},
   "source": [
    "To receive full credit, you need to define an abstract state representation that does not encode irrelevant information (like the position of ghosts, where extra food is, etc.). In particular, do not use a Pacman (`GameState`) as a search state. Your code will be very, very slow if you do (and also wrong).\n",
    "\n",
    "*Hint 1:* The only parts of the game state you need to reference in your implementation are the starting Pacman position and the location of the four corners.\n",
    "\n",
    "*Hint 2:* When coding up (`getSuccessors`), make sure to add children to your successors list with a cost of 1.\n",
    "\n",
    "Our implementation of (`breadthFirstSearch`) expands just under 2000 search nodes on\n",
    "(`mediumCorners`). However, heuristics (used with A* search) can reduce the amount of searching required.\n",
    "\n",
    "*Grading:* Please run the below command to see if your implementation passes all the autograder test cases."
   ]
  },
  {
   "cell_type": "code",
   "execution_count": null,
   "id": "caroline-traveler",
   "metadata": {},
   "outputs": [],
   "source": [
    "%run autograder.py -q q5"
   ]
  },
  {
   "cell_type": "markdown",
   "id": "negative-compiler",
   "metadata": {},
   "source": [
    "---------------------------\n",
    "\n",
    "## Question 6 (3 points): Corners Problem: Heuristic\n",
    "\n",
    "*Note: Make sure to complete Question 4 before working on Question 6, because Question 6 builds upon your answer for Question 4.*\n",
    "\n",
    "Implement a non-trivial, consistent heuristic for the (`CornersProblem`) in\n",
    "(`cornersHeuristic`)."
   ]
  },
  {
   "cell_type": "code",
   "execution_count": null,
   "id": "spoken-franchise",
   "metadata": {},
   "outputs": [],
   "source": [
    "%run pacman.py -l mediumCorners -p AStarCornersAgent -z 0.5"
   ]
  },
  {
   "cell_type": "markdown",
   "id": "narrative-cruise",
   "metadata": {},
   "source": [
    "*Note:* (`AStarCornersAgent`) is a shortcut for `-p SearchAgent -a\n",
    "fn=aStarSearch,prob=CornersProblem,heuristic=cornersHeuristic`"
   ]
  },
  {
   "cell_type": "markdown",
   "id": "computational-evolution",
   "metadata": {},
   "source": [
    "__*Admissibility vs. Consistency:*__ Remember, heuristics are just functions that take search states and return numbers that estimate the cost to a nearest goal. More effective heuristics will return values closer to the actual goal costs. To be admissible, the heuristic values must be lower bounds on the actual shortest path cost to the nearest goal (and non-negative). To be *consistent*, it must additionally hold that if an action has cost c, then taking that action can only cause a drop in heuristic of at most c.\n",
    "\n",
    "Remember that admissibility isn’t enough to guarantee correctness in graph search – you need the stronger condition of consistency. However, admissible heuristics are usually also consistent, especially if they are derived from problem relaxations. Therefore it is usually easiest to start out by brainstorming admissible heuristics. Once you have an admissible heuristic that works well, you can check whether it is indeed consistent, too. The only way to guarantee consistency is with a proof. However, inconsistency can often be detected by verifying that for each node you expand, its successor nodes are equal or higher in in f-value. Moreover, if UCS and A* ever return paths of different lengths, your heuristic is inconsistent. This stuff is tricky!\n",
    "\n",
    "__*Non-Trivial Heuristics:*__ The trivial heuristics are the ones that return zero everywhere (UCS) and the heuristic which computes the true completion cost. The former won’t save you any time, while the latter will timeout the autograder. You want a heuristic which reduces total compute time, though for this assignment the autograder will only check node counts (aside from enforcing a reasonable time limit).\n",
    "\n",
    "__*Grading:*__ Your heuristic must be a non-trivial non-negative consistent heuristic to receive any points. Make sure that your heuristic returns 0 at every goal state and never returns a negative value. Depending on how few nodes your heuristic expands, you’ll be graded:\n",
    "\n",
    "| Number of nodes expanded | Grade |\n",
    "---------------------------|-------|\n",
    "| more than 2000 | 0/3 |\n",
    "| at most 2000 | 1/3 |\n",
    "| at most 1600 | 2/3 |\n",
    "| at most 1200 | 3/3 |\n",
    "\n",
    "*Remember:* If your heuristic is inconsistent, you will receive no credit, so be careful!\n",
    "\n",
    "*Grading:* Please run the below command to see if your implementation passes all the autograder test cases."
   ]
  },
  {
   "cell_type": "code",
   "execution_count": null,
   "id": "artificial-honduras",
   "metadata": {},
   "outputs": [],
   "source": [
    "%run autograder.py -q q6"
   ]
  },
  {
   "cell_type": "markdown",
   "id": "coupled-reaction",
   "metadata": {},
   "source": [
    "------------------------------\n",
    "\n",
    "\n",
    "## Question 7 (4 points): Eating All The Dots\n",
    "\n",
    "Now we’ll solve a hard search problem: eating all the Pacman food in as few steps as\n",
    "possible. For this, we’ll need a new search problem definition which formalizes the food-\n",
    "clearing problem: (`FoodSearchProblem`) in (`searchAgents.py`) (implemented for you). A\n",
    "solution is defined to be a path that collects all of the food in the Pacman world. For the present project, solutions do not take into account any ghosts or power pellets; solutions only depend on the placement of walls, regular food and Pacman. (Of course ghosts can ruin the execution of a solution! We’ll get to that in the next project.) If you have written your general search methods correctly, (`A*`) with a null heuristic (equivalent to uniform-\n",
    "cost search) should quickly find an optimal solution to (`testSearch`) with no code change on your part (total cost of 7)."
   ]
  },
  {
   "cell_type": "code",
   "execution_count": null,
   "id": "southeast-permit",
   "metadata": {},
   "outputs": [],
   "source": [
    "%run pacman.py -l testSearch -p AStarFoodSearchAgent"
   ]
  },
  {
   "cell_type": "markdown",
   "id": "novel-estonia",
   "metadata": {},
   "source": [
    "*Note:* (`AStarFoodSearchAgent`) is a shortcut for `-p SearchAgent -a fn=astar,prob=FoodSearchProblem,heuristic=foodHeuristic`"
   ]
  },
  {
   "cell_type": "markdown",
   "id": "corporate-boring",
   "metadata": {},
   "source": [
    "You should find that UCS starts to slow down even for the seemingly simple (`tinySearch`). As a reference, our implementation takes 2.5 seconds to find a path of length 27 after expanding 5057 search nodes.\n",
    "\n",
    "*Note: Make sure to complete Question 4 before working on Question 7, because Question 7 builds upon your answer for Question 4.*\n",
    "\n",
    "Fill in (`foodHeuristic`) in (`searchAgents.py`) with a consistent heuristic for the (`FoodSearchProblem`). Try your agent on the (`trickySearch`) board:"
   ]
  },
  {
   "cell_type": "code",
   "execution_count": null,
   "id": "noble-eagle",
   "metadata": {},
   "outputs": [],
   "source": [
    "%run pacman.py -l trickySearch -p AStarFoodSearchAgent"
   ]
  },
  {
   "cell_type": "markdown",
   "id": "abstract-companion",
   "metadata": {},
   "source": [
    "Our UCS agent finds the optimal solution in about 13 seconds, exploring over 16,000 nodes.\n",
    "\n",
    "Any non-trivial non-negative consistent heuristic will receive 1 point. Make sure that your heuristic returns 0 at every goal state and never returns a negative value. Depending on how few nodes your heuristic expands, you’ll get additional points:\n",
    "\n",
    "| Number of nodes expanded | Grade |\n",
    "|--------------------------|-------|\n",
    "| more than 15000 | 1/4 |\n",
    "| at most 15000 | 2/4 |\n",
    "| at most 12000 | 3/4|\n",
    "| at most 9000 | 4/4 (full credit; medium) |\n",
    "| at most 7000 | 5/4 (optional extra credit; hard) |\n",
    "\n",
    "*Remember:* If your heuristic is inconsistent, you will receive no credit, so be careful! Can you solve (`mediumSearch`) in a short time? If so, we’re either very, very impressed, or your heuristic is inconsistent.\n",
    "\n",
    "*Grading:* Please run the below command to see if your implementation passes all the autograder test cases."
   ]
  },
  {
   "cell_type": "code",
   "execution_count": null,
   "id": "asian-donor",
   "metadata": {},
   "outputs": [],
   "source": [
    "%run autograder.py -q q7"
   ]
  },
  {
   "cell_type": "markdown",
   "id": "meaningful-arrangement",
   "metadata": {},
   "source": [
    "-------------------------------\n",
    "\n",
    "\n",
    "## Question 8 (3 points): Suboptimal Search\n",
    "\n",
    "\n",
    "Sometimes, even with A* and a good heuristic, finding the optimal path through all the dots is hard. In these cases, we’d still like to find a reasonably good path, quickly. In this section, you’ll write an agent that always greedily eats the closest dot. (`ClosestDotSearchAgent`) is implemented for you in (`searchAgents.py`), but it’s missing a key function that finds a path to the closest dot.\n",
    "\n",
    "Implement the function (`findPathToClosestDot`) in (`searchAgents.py`). Our agent solves this maze (suboptimally!) in under a second with a path cost of 350:"
   ]
  },
  {
   "cell_type": "code",
   "execution_count": null,
   "id": "deadly-thailand",
   "metadata": {},
   "outputs": [],
   "source": [
    "%run pacman.py -l bigSearch -p ClosestDotSearchAgent -z .5"
   ]
  },
  {
   "cell_type": "markdown",
   "id": "communist-national",
   "metadata": {},
   "source": [
    "\n",
    "*Hint:* The quickest way to complete (`findPathToClosestDot`) is to fill in the\n",
    "(`AnyFoodSearchProblem`), which is missing its goal test. Then, solve that problem with an appropriate search function. The solution should be very short!\n",
    "\n",
    "Your (`ClosestDotSearchAgent`) won’t always find the shortest possible path through the maze. Make sure you understand why and try to come up with a small example where repeatedly going to the closest dot does not result in finding the shortest path for eating all the dots.\n",
    "\n",
    "Grading: Please run the below command to see if your implementation passes all the autograder test cases."
   ]
  },
  {
   "cell_type": "code",
   "execution_count": null,
   "id": "confident-thread",
   "metadata": {},
   "outputs": [],
   "source": [
    "%run autograder.py -q q8"
   ]
  },
  {
   "cell_type": "code",
   "execution_count": null,
   "id": "forward-flesh",
   "metadata": {},
   "outputs": [],
   "source": []
  }
 ],
 "metadata": {
  "kernelspec": {
   "display_name": "Python 3",
   "language": "python",
   "name": "python3"
  },
  "language_info": {
   "codemirror_mode": {
    "name": "ipython",
    "version": 3
   },
   "file_extension": ".py",
   "mimetype": "text/x-python",
   "name": "python",
   "nbconvert_exporter": "python",
   "pygments_lexer": "ipython3",
   "version": "3.8.8"
  }
 },
 "nbformat": 4,
 "nbformat_minor": 5
}
