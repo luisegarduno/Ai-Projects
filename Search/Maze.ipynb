{
 "cells": [
  {
   "cell_type": "markdown",
   "metadata": {},
   "source": [
    "# Search: Solving a Maze Using a Goal-based Agent\n",
    "\n",
    "\n",
    "## Instructions\n",
    "\n",
    "Total Points: Undegraduates 10, graduate students 11\n",
    "\n",
    "Complete this notebook and submit it. The notebook needs to be a complete project report with \n",
    "\n",
    "* your implementation,\n",
    "* documentation including a short discussion of how your implementation works and your design choices, and\n",
    "* experimental results (e.g., tables and charts with simulation results) with a short discussion of what they mean. \n",
    "\n",
    "Use the provided notebook cells and insert additional code and markdown cells as needed.\n",
    "\n",
    "\n",
    "## Introduction\n",
    "\n",
    "The agent has a map of the maze it is in (i.e., the environment is deterministic, discrete, and known). The agent must use the map to plan a path through the maze from the starting location $S$ to the goal location $G$.  \n",
    "\n",
    "This is a planing exercise for a goal-based agent, so you do not need to implement an environment, just use the map to search for a path. Once the plan is made, the agent can just follow the path and does not need percepts. The execution phase is trivial and we do not implement it in this exercise.\n",
    "\n",
    "Tree search algorithm implementations that you find online and used in general algorithms courses have often a different aim. These algorithms assume that you already have a tree and the goal is to traverse all nodes. We are interested in dynamically creating a search tree with the aim of finding a good/the best path to the goal state. Follow the pseudo code presented in the text book closely. Ideally, we would like to search only a small part of the maze, i.e., create a search tree with as few nodes as possible. \n",
    "\n",
    "Here is the small example maze:"
   ]
  },
  {
   "cell_type": "code",
   "execution_count": 1,
   "metadata": {},
   "outputs": [
    {
     "name": "stdout",
     "output_type": "stream",
     "text": [
      "XXXXXXXXXXXXXXXXXXXXXX\n",
      "X XX        X X      X\n",
      "X    XXXXXX X XXXXXX X\n",
      "XXXXXX     S  X      X\n",
      "X    X XXXXXX XX XXXXX\n",
      "X XXXX X         X   X\n",
      "X        XXX XXX   X X\n",
      "XXXXXXXXXX    XXXXXX X\n",
      "XG         XX        X\n",
      "XXXXXXXXXXXXXXXXXXXXXX\n",
      "\n"
     ]
    }
   ],
   "source": [
    "f = open(\"small_maze.txt\", \"r\")\n",
    "maze_str = f.read()\n",
    "print(maze_str)"
   ]
  },
  {
   "cell_type": "markdown",
   "metadata": {},
   "source": [
    "__Note:__ The mazes above contains cycles and therefore search may not form proper trees unless cycles are prevented. You need to deal with cycle detection in your code."
   ]
  },
  {
   "cell_type": "markdown",
   "metadata": {},
   "source": [
    "## Parsing and pretty printing the maze\n",
    "\n",
    "The maze can also be displayed in color using code in the file [maze_helper.py](maze_helper.py). The code parses the string representing the maze and converts it into a `numpy` 2d array which you can use in your implementation. I represent a position as a 2-tuple of the form `(row, col)`. "
   ]
  },
  {
   "cell_type": "code",
   "execution_count": 2,
   "metadata": {
    "scrolled": true
   },
   "outputs": [
    {
     "name": "stdout",
     "output_type": "stream",
     "text": [
      "Position(0,0): X\n",
      "Position(8,1): G\n"
     ]
    }
   ],
   "source": [
    "%run maze_helper.py\n",
    "\n",
    "maze = parse_maze(maze_str)\n",
    "\n",
    "# look at two positions in the maze\n",
    "print(\"Position(0,0):\", maze[0, 0])\n",
    "\n",
    "# there is also a helper function called `look(maze, pos)`\n",
    "print(\"Position(8,1):\", look(maze, (8, 1)))"
   ]
  },
  {
   "cell_type": "markdown",
   "metadata": {},
   "source": [
    "Visualize the maze"
   ]
  },
  {
   "cell_type": "code",
   "execution_count": 3,
   "metadata": {},
   "outputs": [
    {
     "data": {
      "image/png": "[encoded data removed]",
      "text/plain": [
       "<Figure size 432x288 with 1 Axes>"
      ]
     },
     "metadata": {
      "image/png": {
       "height": 183,
       "width": 362
      },
      "needs_background": "light"
     },
     "output_type": "display_data"
    }
   ],
   "source": [
    "%matplotlib inline\n",
    "%config InlineBackend.figure_format = 'retina'\n",
    "# use higher resolution images in notebook\n",
    "\n",
    "show_maze(maze)"
   ]
  },
  {
   "cell_type": "markdown",
   "metadata": {},
   "source": [
    "Find the position of the start and the goal using the helper function `find_pos()`"
   ]
  },
  {
   "cell_type": "code",
   "execution_count": 4,
   "metadata": {},
   "outputs": [
    {
     "name": "stdout",
     "output_type": "stream",
     "text": [
      "Start location: (3, 11)\n",
      "Goal location: (8, 1)\n"
     ]
    }
   ],
   "source": [
    "print(\"Start location:\", find_pos(maze, what = \"S\"))\n",
    "print(\"Goal location:\", find_pos(maze, what = \"G\"))"
   ]
  },
  {
   "cell_type": "markdown",
   "metadata": {},
   "source": [
    "## Tree structure\n",
    "\n",
    "Here is an implementation of the basic node structure for the search algorithms (see Fig 3.7 on page 73). I have added a method that extracts the path from the root node to the current node. It can be used to get the path when the search is completed."
   ]
  },
  {
   "cell_type": "code",
   "execution_count": 5,
   "metadata": {},
   "outputs": [],
   "source": [
    "from numpy import random\n",
    "\n",
    "class Node:\n",
    "    move_NESW = {'N': (-1, 0), 'E': (0, 1), 'S':  (1, 0), 'W': (0, -1), 'Stop':  (0, 0)}\n",
    "    move_ESWN = {'E':  (0, 1), 'S': (1, 0), 'W': (0, -1), 'N': (-1, 0), 'Stop':  (0, 0)}\n",
    "    move_WSEN = {'W': (0, -1), 'S': (1, 0), 'E':  (0, 1), 'N': (-1, 0), 'Stop':  (0, 0)}\n",
    "    move_SENW = {'N': (-1, 0), 'E': (0, 1), 'S':  (1, 0), 'W': (0, -1), 'Stop':  (0, 0)}\n",
    "    dirs = [\"nesw\", \"eswn\", \"wsen\", \"senw\"]\n",
    "    \n",
    "    def __init__(self, pos, parent, action, cost):\n",
    "        self.pos = tuple(pos)    # the state; positions are (row,col)\n",
    "        self.parent = parent     # reference to parent node. None means root node.\n",
    "        self.action = action     # action used in the transition function (root node has None)\n",
    "        self.cost = cost         # for uniform cost this is the depth. It is also g(n) for A* search\n",
    "\n",
    "    def __str__(self):\n",
    "        return f\"Node - pos = {self.pos}; action = {self.action}; cost = {self.cost}\"\n",
    "    \n",
    "    def get_path_from_root(self):\n",
    "        \"\"\"returns nodes on the path from the root to the current node.\"\"\"\n",
    "        node = self\n",
    "        path = [node]\n",
    "    \n",
    "        while not node.parent is None:\n",
    "            node = node.parent\n",
    "            path.append(node)\n",
    "        \n",
    "        path.reverse()\n",
    "        \n",
    "        return(path)\n",
    "    \n",
    "    def direction(location, speed = 1.0, rand=False):\n",
    "        if rand == False:\n",
    "            dx, dy =  Node.move_NESW[location]\n",
    "            return (dx * speed, dy * speed)\n",
    "        \n",
    "        if rand == True:\n",
    "            move_order = random.choice(Node.dirs)\n",
    "            \n",
    "            if move_order == 'nesw': dx, dy = Node.move_NESW[location]\n",
    "            if move_order == 'eswn': dx, dy = Node.move_ESWN[location]\n",
    "            if move_order == 'wsen': dx, dy = Node.move_WSEN[location]\n",
    "            if move_order == 'senw': dx, dy = Node.move_SENW[location]\n",
    "            return (dx * speed, dy * speed)"
   ]
  },
  {
   "cell_type": "markdown",
   "metadata": {},
   "source": [
    "If needed, then you can add more fields to the class.\n",
    "\n",
    "\n",
    "__Tree and memory management example:__ Create the root node and append the node for going east with a cost of 1."
   ]
  },
  {
   "cell_type": "code",
   "execution_count": 6,
   "metadata": {},
   "outputs": [
    {
     "name": "stdout",
     "output_type": "stream",
     "text": [
      "Create root node\n",
      "root: Node - pos = (0, 0); action = None; cost = 0\n",
      "root (reference): <__main__.Node object at 0x7f797877ea60>\n",
      "\n",
      "Go east with cost 1 (from the parent root)\n",
      "node2: Node - pos = (0, 1); action = E; cost = 1\n",
      "parent of node2:  Node - pos = (0, 0); action = None; cost = 0\n",
      "parent of node2 (reference):  <__main__.Node object at 0x7f797877ea60>\n",
      "Root is now referenced twice. Reference count for garbage collection (root node): 2\n",
      "\n",
      "Note that the root node is safe from garbage collection as long as we have also a reference in node2\n",
      "None\n",
      "parent of node2 (reference to root node):  <__main__.Node object at 0x7f797877ea60>\n",
      "Reference count for garbage collection (root node): 1\n",
      "\n",
      "Path from root to node2\n",
      "References: [<__main__.Node object at 0x7f797877ea60>, <__main__.Node object at 0x7f797877eee0>]\n",
      "Positions: [(0, 0), (0, 1)]\n",
      "Actions: [None, 'E']\n",
      "Cost: [0, 1]\n",
      "\n",
      "Once we delete the reference to node2, the reference count for all nodes goes to zero and the whole tree is exposed to garbage collection.\n"
     ]
    }
   ],
   "source": [
    "import sys\n",
    "\n",
    "print(\"Create root node\")\n",
    "root = Node(pos = (0,0), parent = None, action = None, cost = 0)\n",
    "print(\"root:\", root)\n",
    "print(\"root (reference):\", repr(root))\n",
    "\n",
    "print()\n",
    "print(\"Go east with cost 1 (from the parent root)\")\n",
    "node2 = Node(pos = (0,1), parent = root, action = \"E\", cost = 1)\n",
    "print(\"node2:\", node2)\n",
    "print(\"parent of node2: \", node2.parent)\n",
    "print(\"parent of node2 (reference): \", repr(node2.parent))\n",
    "# Note: -1 is used because passing root to getrefcount adds one reference\n",
    "print(\"Root is now referenced twice. Reference count for garbage collection (root node):\", sys.getrefcount(root)-1)\n",
    "\n",
    "print()\n",
    "print(\"Note that the root node is safe from garbage collection as long as we have also a reference in node2\") \n",
    "root = None\n",
    "print(root)\n",
    "print(\"parent of node2 (reference to root node): \", repr(node2.parent))\n",
    "print(\"Reference count for garbage collection (root node):\", sys.getrefcount(node2.parent)-1)\n",
    "\n",
    "print()\n",
    "print(\"Path from root to node2\")\n",
    "path = node2.get_path_from_root()\n",
    "print(\"References:\", path)\n",
    "print(\"Positions:\", [n.pos for n in path])\n",
    "print(\"Actions:\", [n.action for n in path])\n",
    "print(\"Cost:\", [n.cost for n in path])\n",
    "\n",
    "\n",
    "print()\n",
    "print(\"Once we delete the reference to node2, the reference count for all nodes goes to zero and the whole tree is exposed to garbage collection.\")\n",
    "node2 = None"
   ]
  },
  {
   "cell_type": "markdown",
   "metadata": {},
   "source": [
    "# Goal\n",
    "Implement the following search algorithms for solving different mazes:\n",
    "\n",
    "* Breadth-first search (BFS)\n",
    "* Depth-first search (DFS)\n",
    "* Greedy best-first search (GBFS)\n",
    "* A* search\n",
    "\n",
    "Run each of the above algorithms on the \n",
    "[small maze](small_maze.txt), \n",
    "[medium maze](medium_maze.txt), \n",
    "[large maze](large_maze.txt), \n",
    "[open maze](open_maze.txt),\n",
    "[wall maze](wall_maze.txt),\n",
    "[loops maze](loops_maze.txt),\n",
    "[empty maze](empty_maze.txt), and\n",
    "[empty 2_maze](empty_2_maze.txt).\n",
    "For each problem instance and each search algorithm, report the following in a table:\n",
    "\n",
    "* The solution and its path cost\n",
    "* Number of nodes expanded\n",
    "* Maximum tree depth\n",
    "* Maximum size of the frontier\n",
    "\n",
    "Display each solution by marking every maze square (or state) visited and the squares on the final path."
   ]
  },
  {
   "cell_type": "markdown",
   "metadata": {},
   "source": [
    "## Task 1: Defining the search Problem [1 point]\n",
    "\n",
    "Define the components of the search problem:\n",
    "\n",
    "* Initial state\n",
    "* Actions\n",
    "* Transition model\n",
    "* Goal state\n",
    "* Path cost"
   ]
  },
  {
   "cell_type": "code",
   "execution_count": 7,
   "metadata": {},
   "outputs": [],
   "source": [
    "# Your answer goes here"
   ]
  },
  {
   "cell_type": "markdown",
   "metadata": {},
   "source": [
    "- **Initial State**: Defined as 'S' starting location (or (row, column))\n",
    "- **Actions**: { North, East, West, South }\n",
    "- **Transition Model**: $n(4^{n})$\n",
    "- **Goal State**: Defined as 'G' destination location (or (row, column))\n",
    "- **Path Cost**: The sum of non-negative step costs"
   ]
  },
  {
   "cell_type": "markdown",
   "metadata": {},
   "source": [
    "## Task 2: Breadth-first and Depth-first [4 points]\n",
    "\n",
    "Implement these search strategies. Follow the pseudocode in the textbook/slides. You can use the tree structure shown above to extract the final path from your solution.\n",
    "\n",
    "__Notes:__\n",
    "* You can find maze solving implementations online that use the map to store information. While this is an effective idea for this two-dimensional navigation problem, it typically cannot be used for other search problems. Therefore, follow the textbook and only store information during search in the tree, and the `reached` and `frontier` data structures.\n",
    "* DSF can be implemented using the BFS tree search algorithm and changing the order in which the frontier is expanded (this is equivalent to best-first search with path length as the criterion to expand the next node). However, to take advantage of the significantly smaller memory footprint, you need to implement DFS in a different way without a `reached` data structure and by releasing nodes that are not needed anymore. \n",
    "* If DFS does not use a `reached` data structure, then its cycle checking abilities are limited. You will see in your experiments that open spaces are a problem."
   ]
  },
  {
   "cell_type": "markdown",
   "metadata": {},
   "source": [
    "#### Breadth-First Search (BFS)"
   ]
  },
  {
   "cell_type": "code",
   "execution_count": 19,
   "metadata": {},
   "outputs": [],
   "source": [
    "from numpy import random\n",
    "\n",
    "class myQueue:\n",
    "    def __init__(self): self.list = []\n",
    "    def push(self,item): self.list.insert(0,item)\n",
    "    def pop(self): return self.list.pop()\n",
    "    def isEmpty(self): return len(self.list) == 0\n",
    "\n",
    "def BreadthFirstSearch(problem, debug=False, visualize=False):\n",
    "    root = Node(pos=find_pos(problem, what=\"S\"), parent=None, action=None, cost=0)\n",
    "    \n",
    "    if find_pos(problem, what=\"G\") == root.pos: return root.pos\n",
    "    frontier = []\n",
    "    reached = {}\n",
    "    reached[root.pos] = [(root.pos, \" \")]\n",
    "    \n",
    "    path = myQueue()\n",
    "    path.push(root.pos)\n",
    "\n",
    "    while not path.isEmpty():\n",
    "        node = path.pop()\n",
    "        if find_pos(problem, what=\"G\") == node: break\n",
    "            \n",
    "        for s in Expand(problem, node):\n",
    "            if s[0] not in reached:\n",
    "                path.push(s[0])\n",
    "                reached[s[0]] = [(node, s[1])]\n",
    "                if s[0] != find_pos(problem, what=\"G\"):\n",
    "                    problem[s[0]] = '.'\n",
    "                    if debug == True: print('Adding to frontier:', s[0])\n",
    "                \n",
    "    x = reached[node]\n",
    "    path_counter = 0 \n",
    "    while (x[0][0] is not root.pos):\n",
    "        problem[x[0][0]] = 'P'\n",
    "        if debug == True: print()\n",
    "        frontier.insert(0, x[0][1])\n",
    "        x = reached[x[0][0]]\n",
    "        path_counter += 1\n",
    "    \n",
    "    frontier.insert(0, x[0][1])\n",
    "    print('Path length:', len(frontier))\n",
    "    print('Reached squares:', len(reached))\n",
    "        \n",
    "    return frontier\n",
    "\n",
    "def Expand(problem, node):\n",
    "    s = []\n",
    "    \n",
    "    r = random.choice(Node.dirs) \n",
    "    if r == 'nesw': dir_ = Node.move_NESW\n",
    "    if r == 'eswn': dir_ = Node.move_ESWN\n",
    "    if r == 'wsen': dir_ = Node.move_WSEN\n",
    "    if r == 'senw': dir_ = Node.move_SENW\n",
    "    \n",
    "    for action in dir_:\n",
    "        x,y = node\n",
    "        dx, dy = Node.direction(action, rand=False)\n",
    "        nextx, nexty = int(x + dx), int(y + dy)\n",
    "        if look(problem, ([nextx],[nexty])) != 'X':\n",
    "            nextState = (nextx, nexty)\n",
    "            cost = lambda nextState: 1\n",
    "            s.append((nextState, action, cost))\n",
    "            \n",
    "    return s"
   ]
  },
  {
   "cell_type": "code",
   "execution_count": 20,
   "metadata": {},
   "outputs": [
    {
     "name": "stdout",
     "output_type": "stream",
     "text": [
      "Path length: 19\n",
      "Reached squares: 94\n",
      "CPU times: user 26.4 ms, sys: 11.5 ms, total: 37.9 ms\n",
      "Wall time: 28 ms\n"
     ]
    },
    {
     "data": {
      "image/png": "[encoded data removed]",
      "text/plain": [
       "<Figure size 432x288 with 1 Axes>"
      ]
     },
     "metadata": {
      "image/png": {
       "height": 183,
       "width": 362
      },
      "needs_background": "light"
     },
     "output_type": "display_data"
    },
    {
     "data": {
      "text/plain": [
       "['E',\n",
       " 'E',\n",
       " 'S',\n",
       " 'S',\n",
       " 'W',\n",
       " 'S',\n",
       " 'S',\n",
       " 'W',\n",
       " 'W',\n",
       " 'S',\n",
       " 'W',\n",
       " 'W',\n",
       " 'W',\n",
       " 'W',\n",
       " 'W',\n",
       " 'W',\n",
       " 'W',\n",
       " 'W',\n",
       " 'W']"
      ]
     },
     "execution_count": 20,
     "metadata": {},
     "output_type": "execute_result"
    }
   ],
   "source": [
    "%time result = BreadthFirstSearch(maze)\n",
    "show_maze(maze)\n",
    "result"
   ]
  },
  {
   "cell_type": "markdown",
   "metadata": {},
   "source": [
    "\n",
    "---------------------\n",
    "\n",
    "#### Depth-First Search (DFS)"
   ]
  },
  {
   "cell_type": "code",
   "execution_count": 10,
   "metadata": {},
   "outputs": [
    {
     "ename": "SyntaxError",
     "evalue": "invalid syntax (<ipython-input-10-ef0a3f54d70c>, line 2)",
     "output_type": "error",
     "traceback": [
      "\u001b[0;36m  File \u001b[0;32m\"<ipython-input-10-ef0a3f54d70c>\"\u001b[0;36m, line \u001b[0;32m2\u001b[0m\n\u001b[0;31m    frontier <-- a LIFO queue (stack) with NODE(problem.INITIAL) as an element\u001b[0m\n\u001b[0m                   ^\u001b[0m\n\u001b[0;31mSyntaxError\u001b[0m\u001b[0;31m:\u001b[0m invalid syntax\n"
     ]
    }
   ],
   "source": [
    "def DepthFirstSearch(problem, l):\n",
    "    frontier <-- a LIFO queue (stack) with NODE(problem.INITIAL) as an element\n",
    "    result  <-- failure\n",
    "    \n",
    "    while not frontier.isEmpty():\n",
    "        node = frontier.pop()\n",
    "        if find_pos(problem, what=\"G\") == node.pos: return node\n",
    "        if DEPTH(node) > l then\n",
    "            result <-- cutoff\n",
    "        else if not IS-CYCLE(node) do\n",
    "            for each child in EXPAND(problem, node) do\n",
    "                frontier.add(child)\n",
    "    return result\n",
    "\n",
    "    \n",
    "    "
   ]
  },
  {
   "cell_type": "markdown",
   "metadata": {},
   "source": [
    "How does BFS and DFS deal with loops (cycles)?"
   ]
  },
  {
   "cell_type": "code",
   "execution_count": null,
   "metadata": {},
   "outputs": [],
   "source": [
    "# Discussion"
   ]
  },
  {
   "cell_type": "markdown",
   "metadata": {},
   "source": [
    "Are your implementations complete and optimal? Explain why. What is the time and space complexity of each of **your** implementations?"
   ]
  },
  {
   "cell_type": "code",
   "execution_count": null,
   "metadata": {},
   "outputs": [],
   "source": [
    "# Discussion"
   ]
  },
  {
   "cell_type": "markdown",
   "metadata": {},
   "source": [
    "## Task 3: Implement greedy best-first search and A* search  [4 points]\n",
    "\n",
    "You can use the map to estimate the distance from your current position to the goal using the Manhattan distance (see https://en.wikipedia.org/wiki/Taxicab_geometry) as a heuristic function. Both algorithms are based on Best-First search which requires only a small change from the BFS algorithm you have already implemented (see textbook/slides)."
   ]
  },
  {
   "cell_type": "code",
   "execution_count": null,
   "metadata": {},
   "outputs": [],
   "source": [
    "# Your code goes here"
   ]
  },
  {
   "cell_type": "markdown",
   "metadata": {},
   "source": [
    "#### Greedy Best-First Search (GBFS)"
   ]
  },
  {
   "cell_type": "code",
   "execution_count": null,
   "metadata": {},
   "outputs": [],
   "source": [
    "def GreedyBestFirstSearch():\n",
    "    "
   ]
  },
  {
   "cell_type": "markdown",
   "metadata": {},
   "source": [
    "\n",
    "----------------------------\n",
    "\n",
    "#### A * Search"
   ]
  },
  {
   "cell_type": "code",
   "execution_count": null,
   "metadata": {},
   "outputs": [],
   "source": [
    "def AStarSearch():\n",
    "    "
   ]
  },
  {
   "cell_type": "markdown",
   "metadata": {},
   "source": [
    "Are your implementations complete and optimal? What is the time and space complexity?"
   ]
  },
  {
   "cell_type": "code",
   "execution_count": null,
   "metadata": {},
   "outputs": [],
   "source": [
    "# Discussion"
   ]
  },
  {
   "cell_type": "markdown",
   "metadata": {},
   "source": [
    "## Task 4: Comparison and discussion [2 points] \n",
    "\n",
    "Run experiments to compare the implemented algorithms and present the results as tables and charts. \n",
    "\n",
    "How to deal with issues:\n",
    "\n",
    "* Your implementation returns unexpected results: Try to debug and fix the code. Visualizing the maze, the current path and the frontier after every step is very helpful. If the code still does not work, then mark the result with an asterisk (*) and describe the issue below the table.\n",
    "\n",
    "* Your implementation cannot consistently solve a specific maze and ends up in an infinite loop:\n",
    "    Debug. If it is a shortcoming of the algorithm/implementation, then put \"N/A*\" in the results table and describe why this is happening."
   ]
  },
  {
   "cell_type": "code",
   "execution_count": null,
   "metadata": {},
   "outputs": [],
   "source": [
    "# Add code, table, charts."
   ]
  },
  {
   "cell_type": "markdown",
   "metadata": {},
   "source": [
    "Complete the following table for each maze.\n",
    "\n",
    "__Small maze__\n",
    "\n",
    "| algorithm | path cost | nodes expanded | max tree depth | max tree size | max frontier size |\n",
    "|-----------|-----------|----------------|----------------|---------------|-------------------|\n",
    "| BFS       |           |                |                |               |                   |\n",
    "| DFS       |           |                |                |               |                   |\n",
    "| GBS       |           |                |                |               |                   |\n",
    "| A*        |           |                |                |               |                   |\n",
    "\n",
    "__Medium Maze__\n",
    "\n",
    "..."
   ]
  },
  {
   "cell_type": "markdown",
   "metadata": {},
   "source": [
    "Discuss the most important lessons you have learned from implementing the different search strategies. "
   ]
  },
  {
   "cell_type": "code",
   "execution_count": null,
   "metadata": {},
   "outputs": [],
   "source": [
    "# Add discussion"
   ]
  },
  {
   "cell_type": "markdown",
   "metadata": {},
   "source": [
    "## Graduate student advanced task: Multiple Goals [1 point]\n",
    "\n",
    "__Undergraduate students:__ This is a bonus task you can attempt if you like [+1 Bonus point].\n",
    "\n",
    "Create a few mazes with multiple goals by adding one or two more goals to the medium size maze.\n",
    "Solve the maze with your implementations for DFS, BFS, and implement IDS (iterative deepening search using DFS). Run experiments to show which implementations find the optimal solution."
   ]
  },
  {
   "cell_type": "code",
   "execution_count": null,
   "metadata": {},
   "outputs": [],
   "source": [
    "# Your code/answer goes here"
   ]
  },
  {
   "cell_type": "markdown",
   "metadata": {},
   "source": [
    "## More advanced tasks to think about\n",
    "\n",
    "Instead of defining each square as a state (which you probably did), use only intersections as states. Now the storage requirement is reduced, but the path length between two intersections can be different. If we use total path length in number of squares as path cost, how can we make sure that BFS and iterative deepening search is optimal? Change the code to do so."
   ]
  },
  {
   "cell_type": "code",
   "execution_count": null,
   "metadata": {},
   "outputs": [],
   "source": [
    "# Your code/answer goes here"
   ]
  },
  {
   "cell_type": "markdown",
   "metadata": {},
   "source": [
    "Modify your A* search to add weights (see text book) and explore how different weights influence the result."
   ]
  },
  {
   "cell_type": "code",
   "execution_count": null,
   "metadata": {},
   "outputs": [],
   "source": [
    "# Your code/answer goes here"
   ]
  },
  {
   "cell_type": "markdown",
   "metadata": {},
   "source": [
    "What happens if the agent does not know the layout of the maze in advance (i.e., faces an unkown, only partially observable environment)? How does the environment look then (PEAS description)? How would you implement a rational agent to solve the maze? What if the agent still has a GPS device to tell the distance to the goal?"
   ]
  },
  {
   "cell_type": "code",
   "execution_count": null,
   "metadata": {},
   "outputs": [],
   "source": [
    "# Your code/answer goes here"
   ]
  }
 ],
 "metadata": {
  "kernelspec": {
   "display_name": "Python 3",
   "language": "python",
   "name": "python3"
  },
  "language_info": {
   "codemirror_mode": {
    "name": "ipython",
    "version": 3
   },
   "file_extension": ".py",
   "mimetype": "text/x-python",
   "name": "python",
   "nbconvert_exporter": "python",
   "pygments_lexer": "ipython3",
   "version": "3.8.8"
  }
 },
 "nbformat": 4,
 "nbformat_minor": 4
}
