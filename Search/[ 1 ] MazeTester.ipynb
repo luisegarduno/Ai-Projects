{
 "cells": [
  {
   "cell_type": "code",
   "execution_count": 1,
   "id": "hydraulic-approach",
   "metadata": {},
   "outputs": [],
   "source": [
    "####################################################################\n",
    "# Packages & Libraries #############################################\n",
    "####################################################################\n",
    "\n",
    "import matplotlib.pyplot as plt\n",
    "\n",
    "from matplotlib import colors\n",
    "%matplotlib inline\n",
    "%config InlineBackend.figure_format = 'retina'\n",
    "\n",
    "%run '[ 1 ] Search.py'"
   ]
  },
  {
   "cell_type": "markdown",
   "id": "global-equality",
   "metadata": {},
   "source": [
    "\n",
    "-------------------\n",
    "\n",
    "# [ 1 ] Initialize"
   ]
  },
  {
   "cell_type": "code",
   "execution_count": 2,
   "id": "changed-label",
   "metadata": {},
   "outputs": [],
   "source": [
    "flag = False\n",
    "myMaze = \"medium_maze.txt\"\n",
    "\n",
    "# 1. Select Maze [txt] file\n",
    "maze_str = selectMaze(myMaze)\n",
    "\n",
    "# 2. [Convert] String Maze --> Numpy Array\n",
    "maze = convert_Maze2Array(maze_str)\n",
    "\n",
    "# 3. Pretty Print Array (Maze)\n",
    "if flag: show_maze(maze)"
   ]
  },
  {
   "cell_type": "markdown",
   "id": "freelance-program",
   "metadata": {},
   "source": [
    "\n",
    "--------------------------------\n",
    "\n",
    "# [ 2 ] Test Helper Functions"
   ]
  },
  {
   "cell_type": "code",
   "execution_count": 3,
   "id": "stopped-reception",
   "metadata": {},
   "outputs": [],
   "source": [
    "if flag:\n",
    "\n",
    "    print(\"********** Create Root Node **********\")\n",
    "    root = NODE(position=(0,0), parent=None, action=None, cost=0)\n",
    "    print(\"Root:\", root)\n",
    "    print(\"Root (ref):\", repr(root))\n",
    "\n",
    "\n",
    "    print()\n",
    "    print(\"********** 'East & Cost [1]' from Parent node (Head) **********\")\n",
    "    node2 = NODE(position=(0,1), parent=root, action=\"E\", cost=1)\n",
    "    print(\"Node2:\", node2)\n",
    "    print(\"[Parent/Head] Node2: \", node2.parent)\n",
    "    print(\"[Parent/Head] Node2 (ref): \", repr(node2.parent))\n",
    "    # Note: -1 is used because passing root to getrefcount adds one reference\n",
    "    print(\"Root is now ref'ed x2. Ref count for garbage collection (Root Node):\", sys.getrefcount(root)-1)\n",
    "\n",
    "    print()\n",
    "    print(\"Note that the root node is safe from garbage collection as long as we have also a ref in Node2\")\n",
    "    root = None\n",
    "    print(root)\n",
    "    print(\"[Parent/Head] Node2 (ref root node): \", repr(node2.parent))\n",
    "    print(\"Ref count for garbage collection (root node):\", sys.getrefcount(node2.parent)-1)\n",
    "\n",
    "    print()\n",
    "    print(\"********** Path: Root --> Node2 **********\")\n",
    "    print(\"Path from root to node2\")\n",
    "    path = node2.getPathFromRoot()\n",
    "    print(\"References:\", path)\n",
    "    print(\"Positions:\", [n.position for n in path])\n",
    "    print(\"Actions:\", [n.action for n in path])\n",
    "    print(\"Cost:\", [n.cost for n in path])\n",
    "\n",
    "\n",
    "    print()\n",
    "    print(\"Once node2 ref is deleted, the ref count for all nodes goes to zero & the whole tree is exposed to garbage collection.\")\n",
    "    node2 = None"
   ]
  },
  {
   "cell_type": "markdown",
   "id": "decimal-prediction",
   "metadata": {},
   "source": [
    "\n",
    "-----------------------------\n",
    "\n",
    "# [ 3 ] Test Search Algorithms"
   ]
  },
  {
   "cell_type": "code",
   "execution_count": 4,
   "id": "inside-mathematics",
   "metadata": {},
   "outputs": [
    {
     "name": "stdout",
     "output_type": "stream",
     "text": [
      "Path length: 67\n",
      "Reached squares: 268\n",
      "CPU times: user 35.5 ms, sys: 3.96 ms, total: 39.5 ms\n",
      "Wall time: 39.6 ms\n"
     ]
    },
    {
     "data": {
      "image/png": "[encoded data removed]",
      "text/plain": [
       "<Figure size 432x288 with 1 Axes>"
      ]
     },
     "metadata": {
      "image/png": {
       "height": 198,
       "width": 380
      },
      "needs_background": "light"
     },
     "output_type": "display_data"
    }
   ],
   "source": [
    "%time result_1 = BFStemp(maze, debug=False, visualize=False)\n",
    "show_maze(maze)"
   ]
  },
  {
   "cell_type": "code",
   "execution_count": 5,
   "id": "actual-software",
   "metadata": {
    "collapsed": false,
    "jupyter": {
     "outputs_hidden": false
    },
    "pycharm": {
     "name": "#%%\n"
    }
   },
   "outputs": [
    {
     "data": {
      "text/plain": [
       "<Figure size 432x288 with 0 Axes>"
      ]
     },
     "metadata": {},
     "output_type": "display_data"
    }
   ],
   "source": [
    "%run '[ 1 ] Search.py'\n",
    "maze = convert_Maze2Array(maze_str)"
   ]
  },
  {
   "cell_type": "code",
   "execution_count": 6,
   "id": "conscious-control",
   "metadata": {},
   "outputs": [
    {
     "name": "stdout",
     "output_type": "stream",
     "text": [
      "Path length: 121\n",
      "Reached squares: 198\n",
      "CPU times: user 27.3 ms, sys: 302 µs, total: 27.6 ms\n",
      "Wall time: 26.9 ms\n"
     ]
    },
    {
     "data": {
      "image/png": "[encoded data removed]",
      "text/plain": [
       "<Figure size 432x288 with 1 Axes>"
      ]
     },
     "metadata": {
      "image/png": {
       "height": 198,
       "width": 380
      },
      "needs_background": "light"
     },
     "output_type": "display_data"
    }
   ],
   "source": [
    "%time result_2 = DepthFirstSearch(maze, debug=False, visualize=False)\n",
    "show_maze(maze)"
   ]
  },
  {
   "cell_type": "code",
   "execution_count": null,
   "id": "color-shaft",
   "metadata": {
    "collapsed": false,
    "jupyter": {
     "outputs_hidden": false
    },
    "pycharm": {
     "name": "#%%\n"
    }
   },
   "outputs": [],
   "source": []
  }
 ],
 "metadata": {
  "kernelspec": {
   "display_name": "Python 3",
   "language": "python",
   "name": "python3"
  },
  "language_info": {
   "codemirror_mode": {
    "name": "ipython",
    "version": 3
   },
   "file_extension": ".py",
   "mimetype": "text/x-python",
   "name": "python",
   "nbconvert_exporter": "python",
   "pygments_lexer": "ipython3",
   "version": "3.8.8"
  }
 },
 "nbformat": 4,
 "nbformat_minor": 5
}
