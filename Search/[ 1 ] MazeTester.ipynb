{
 "cells": [
  {
   "cell_type": "code",
   "execution_count": 1,
   "id": "greenhouse-paintball",
   "metadata": {},
   "outputs": [],
   "source": [
    "####################################################################\n",
    "# Packages & Libraries #############################################\n",
    "####################################################################\n",
    "\n",
    "import matplotlib.pyplot as plt\n",
    "\n",
    "from matplotlib import colors\n",
    "%matplotlib inline\n",
    "%config InlineBackend.figure_format = 'retina'\n",
    "\n",
    "%run '[ 1 ] Search.py'"
   ]
  },
  {
   "cell_type": "markdown",
   "id": "flush-segment",
   "metadata": {},
   "source": [
    "\n",
    "-------------------\n",
    "\n",
    "# [ 1 ] Initialize"
   ]
  },
  {
   "cell_type": "code",
   "execution_count": 2,
   "id": "proud-cookie",
   "metadata": {},
   "outputs": [],
   "source": [
    "flag = False\n",
    "myMaze = \"medium_maze.txt\"\n",
    "\n",
    "# 1. Select Maze [txt] file\n",
    "maze_str = selectMaze(myMaze)\n",
    "\n",
    "# 2. [Convert] String Maze --> Numpy Array\n",
    "maze = convert_Maze2Array(maze_str)\n",
    "\n",
    "# 3. Pretty Print Array (Maze)\n",
    "if flag: show_maze(maze)"
   ]
  },
  {
   "cell_type": "markdown",
   "id": "tropical-coating",
   "metadata": {},
   "source": [
    "\n",
    "--------------------------------\n",
    "\n",
    "# [ 2 ] Test Helper Functions"
   ]
  },
  {
   "cell_type": "code",
   "execution_count": 3,
   "id": "sunset-bishop",
   "metadata": {},
   "outputs": [],
   "source": [
    "if flag:\n",
    "\n",
    "    print(\"********** Create Root Node **********\")\n",
    "    root = NODE(position=(0,0), parent=None, action=None, cost=0)\n",
    "    print(\"Root:\", root)\n",
    "    print(\"Root (ref):\", repr(root))\n",
    "\n",
    "\n",
    "    print()\n",
    "    print(\"********** 'East & Cost [1]' from Parent node (Head) **********\")\n",
    "    node2 = NODE(position=(0,1), parent=root, action=\"E\", cost=1)\n",
    "    print(\"Node2:\", node2)\n",
    "    print(\"[Parent/Head] Node2: \", node2.parent)\n",
    "    print(\"[Parent/Head] Node2 (ref): \", repr(node2.parent))\n",
    "    # Note: -1 is used because passing root to getrefcount adds one reference\n",
    "    print(\"Root is now ref'ed x2. Ref count for garbage collection (Root Node):\", sys.getrefcount(root)-1)\n",
    "\n",
    "    print()\n",
    "    print(\"Note that the root node is safe from garbage collection as long as we have also a ref in Node2\")\n",
    "    root = None\n",
    "    print(root)\n",
    "    print(\"[Parent/Head] Node2 (ref root node): \", repr(node2.parent))\n",
    "    print(\"Ref count for garbage collection (root node):\", sys.getrefcount(node2.parent)-1)\n",
    "\n",
    "    print()\n",
    "    print(\"********** Path: Root --> Node2 **********\")\n",
    "    print(\"Path from root to node2\")\n",
    "    path = node2.getPathFromRoot()\n",
    "    print(\"References:\", path)\n",
    "    print(\"Positions:\", [n.position for n in path])\n",
    "    print(\"Actions:\", [n.action for n in path])\n",
    "    print(\"Cost:\", [n.cost for n in path])\n",
    "\n",
    "\n",
    "    print()\n",
    "    print(\"Once node2 ref is deleted, the ref count for all nodes goes to zero & the whole tree is exposed to garbage collection.\")\n",
    "    node2 = None"
   ]
  },
  {
   "cell_type": "markdown",
   "id": "consistent-commercial",
   "metadata": {},
   "source": [
    "\n",
    "-----------------------------\n",
    "\n",
    "# [ 3 ] Test Search Algorithms"
   ]
  },
  {
   "cell_type": "code",
   "execution_count": 4,
   "id": "outdoor-speaker",
   "metadata": {},
   "outputs": [
    {
     "name": "stdout",
     "output_type": "stream",
     "text": [
      "Path length: 68\n",
      "Reached squares: 269\n",
      "CPU times: user 47.5 ms, sys: 12.5 ms, total: 60 ms\n",
      "Wall time: 43.8 ms\n"
     ]
    },
    {
     "data": {
      "text/plain": "<Figure size 432x288 with 1 Axes>",
      "image/png": "[encoded data removed]"
     },
     "metadata": {
      "image/png": {
       "width": 380,
       "height": 198
      },
      "needs_background": "light"
     },
     "output_type": "display_data"
    }
   ],
   "source": [
    "%time result = BFStemp(maze, debug=False, visualize=False)\n",
    "show_maze(maze)"
   ]
  },
  {
   "cell_type": "code",
   "execution_count": 4,
   "id": "interpreted-welsh",
   "metadata": {},
   "outputs": [],
   "source": []
  }
 ],
 "metadata": {
  "kernelspec": {
   "display_name": "Python 3",
   "language": "python",
   "name": "python3"
  },
  "language_info": {
   "codemirror_mode": {
    "name": "ipython",
    "version": 3
   },
   "file_extension": ".py",
   "mimetype": "text/x-python",
   "name": "python",
   "nbconvert_exporter": "python",
   "pygments_lexer": "ipython3",
   "version": "3.8.8"
  }
 },
 "nbformat": 4,
 "nbformat_minor": 5
}